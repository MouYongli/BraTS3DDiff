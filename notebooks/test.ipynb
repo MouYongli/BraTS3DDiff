{
 "cells": [
  {
   "cell_type": "code",
   "execution_count": 4,
   "metadata": {},
   "outputs": [
    {
     "name": "stdout",
     "output_type": "stream",
     "text": [
      "n\n",
      "k\n"
     ]
    }
   ],
   "source": [
    "class A():\n",
    "    def __init__(self):\n",
    "        pass\n",
    "    def a(self,x):\n",
    "        if x == 'm':\n",
    "            print('m')\n",
    "        elif x == 'n':\n",
    "            print('n')\n",
    "\n",
    "class B(A):\n",
    "    def __init__(self):\n",
    "        super().__init__()\n",
    "    def a(self,x):\n",
    "        if x == 'm'\n",
    "        super().a(x)\n",
    "        if x == 'n':\n",
    "            print('k')\n",
    "\n",
    "b = B()\n",
    "b.a('n')"
   ]
  }
 ],
 "metadata": {
  "kernelspec": {
   "display_name": "bratseg",
   "language": "python",
   "name": "python3"
  },
  "language_info": {
   "codemirror_mode": {
    "name": "ipython",
    "version": 3
   },
   "file_extension": ".py",
   "mimetype": "text/x-python",
   "name": "python",
   "nbconvert_exporter": "python",
   "pygments_lexer": "ipython3",
   "version": "3.10.14"
  }
 },
 "nbformat": 4,
 "nbformat_minor": 2
}
