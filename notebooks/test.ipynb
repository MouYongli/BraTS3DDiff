{
 "cells": [
  {
   "cell_type": "code",
   "execution_count": 4,
   "metadata": {},
   "outputs": [
    {
     "name": "stdout",
     "output_type": "stream",
     "text": [
      "n\n",
      "k\n"
     ]
    }
   ],
   "source": [
    "class A():\n",
    "    def __init__(self):\n",
    "        pass\n",
    "    def a(self,x):\n",
    "        if x == 'm':\n",
    "            print('m')\n",
    "        elif x == 'n':\n",
    "            print('n')\n",
    "\n",
    "class B(A):\n",
    "    def __init__(self):\n",
    "        super().__init__()\n",
    "    def a(self,x):\n",
    "        if x == 'm'\n",
    "        super().a(x)\n",
    "        if x == 'n':\n",
    "            print('k')\n",
    "\n",
    "b = B()\n",
    "b.a('n')"
   ]
  },
  {
   "cell_type": "code",
   "execution_count": 1,
   "metadata": {},
   "outputs": [],
   "source": [
    "import numpy as np"
   ]
  },
  {
   "cell_type": "code",
   "execution_count": 10,
   "metadata": {},
   "outputs": [],
   "source": [
    "arr = np.random.randn(3,5)\n",
    "pad_width = [(2, 3), (1, 2)]  # Padding for (w, h, d)\n",
    "arr1 = np.pad(arr, pad_width, mode='constant', constant_values=0)"
   ]
  },
  {
   "cell_type": "code",
   "execution_count": 11,
   "metadata": {},
   "outputs": [
    {
     "data": {
      "text/plain": [
       "array([[-1.0363135 ,  0.13769319,  1.55459688,  0.75076252, -1.5963932 ],\n",
       "       [-0.24597258, -0.30131506,  0.48089561, -0.14366398,  2.15835096],\n",
       "       [ 0.06115847, -0.76221813, -0.68150188,  0.16991158,  0.73216926]])"
      ]
     },
     "execution_count": 11,
     "metadata": {},
     "output_type": "execute_result"
    }
   ],
   "source": [
    "arr"
   ]
  },
  {
   "cell_type": "code",
   "execution_count": 22,
   "metadata": {},
   "outputs": [
    {
     "data": {
      "text/plain": [
       "array([[ 0.        ,  0.        ,  0.        ,  0.        ,  0.        ,\n",
       "         0.        ,  0.        ,  0.        ],\n",
       "       [ 0.        ,  0.        ,  0.        ,  0.        ,  0.        ,\n",
       "         0.        ,  0.        ,  0.        ],\n",
       "       [ 0.        , -1.0363135 ,  0.13769319,  1.55459688,  0.75076252,\n",
       "        -1.5963932 ,  0.        ,  0.        ],\n",
       "       [ 0.        , -0.24597258, -0.30131506,  0.48089561, -0.14366398,\n",
       "         2.15835096,  0.        ,  0.        ],\n",
       "       [ 0.        ,  0.06115847, -0.76221813, -0.68150188,  0.16991158,\n",
       "         0.73216926,  0.        ,  0.        ],\n",
       "       [ 0.        ,  0.        ,  0.        ,  0.        ,  0.        ,\n",
       "         0.        ,  0.        ,  0.        ],\n",
       "       [ 0.        ,  0.        ,  0.        ,  0.        ,  0.        ,\n",
       "         0.        ,  0.        ,  0.        ],\n",
       "       [ 0.        ,  0.        ,  0.        ,  0.        ,  0.        ,\n",
       "         0.        ,  0.        ,  0.        ]])"
      ]
     },
     "execution_count": 22,
     "metadata": {},
     "output_type": "execute_result"
    }
   ],
   "source": [
    "arr1\n"
   ]
  },
  {
   "cell_type": "code",
   "execution_count": 27,
   "metadata": {},
   "outputs": [],
   "source": [
    "arr1=torch.from_numpy(arr1)"
   ]
  },
  {
   "cell_type": "code",
   "execution_count": 31,
   "metadata": {},
   "outputs": [
    {
     "data": {
      "text/plain": [
       "tensor([[ 0.0000,  0.0000,  0.0000,  0.0000,  0.0000,  0.0000,  0.0000,  0.0000],\n",
       "        [ 0.0000,  0.0000,  0.0000,  0.0000,  0.0000,  0.0000,  0.0000,  0.0000],\n",
       "        [ 0.0000, -1.0363,  1.0000,  1.0000,  1.0000, -1.5964,  0.0000,  0.0000],\n",
       "        [ 0.0000, -0.2460, -0.3013,  1.0000, -0.1437,  1.0000,  0.0000,  0.0000],\n",
       "        [ 0.0000,  1.0000, -0.7622, -0.6815,  1.0000,  1.0000,  0.0000,  0.0000],\n",
       "        [ 0.0000,  0.0000,  0.0000,  0.0000,  0.0000,  0.0000,  0.0000,  0.0000],\n",
       "        [ 0.0000,  0.0000,  0.0000,  0.0000,  0.0000,  0.0000,  0.0000,  0.0000],\n",
       "        [ 0.0000,  0.0000,  0.0000,  0.0000,  0.0000,  0.0000,  0.0000,  0.0000]],\n",
       "       dtype=torch.float64)"
      ]
     },
     "execution_count": 31,
     "metadata": {},
     "output_type": "execute_result"
    }
   ],
   "source": [
    "arr1"
   ]
  },
  {
   "cell_type": "code",
   "execution_count": 36,
   "metadata": {},
   "outputs": [],
   "source": [
    "a=torch.randn(4,4)"
   ]
  },
  {
   "cell_type": "code",
   "execution_count": 37,
   "metadata": {},
   "outputs": [
    {
     "data": {
      "text/plain": [
       "tensor([[ 1.5927,  0.8941, -0.5614, -0.1146],\n",
       "        [ 1.4755, -0.7206, -0.9578, -0.1435],\n",
       "        [ 1.0759, -0.8149,  0.6676,  1.3719],\n",
       "        [ 0.0792,  0.0536, -0.4410, -1.5718]])"
      ]
     },
     "execution_count": 37,
     "metadata": {},
     "output_type": "execute_result"
    }
   ],
   "source": [
    "a"
   ]
  },
  {
   "cell_type": "code",
   "execution_count": 38,
   "metadata": {},
   "outputs": [
    {
     "data": {
      "text/plain": [
       "tensor([[1.0000, 0.8941, 0.0000, 0.0000],\n",
       "        [1.0000, 0.0000, 0.0000, 0.0000],\n",
       "        [1.0000, 0.0000, 0.6676, 1.0000],\n",
       "        [0.0792, 0.0536, 0.0000, 0.0000]])"
      ]
     },
     "execution_count": 38,
     "metadata": {},
     "output_type": "execute_result"
    }
   ],
   "source": [
    "torch.clamp(a,0,1)"
   ]
  },
  {
   "cell_type": "code",
   "execution_count": 34,
   "metadata": {},
   "outputs": [
    {
     "data": {
      "text/plain": [
       "'dd'"
      ]
     },
     "execution_count": 34,
     "metadata": {},
     "output_type": "execute_result"
    }
   ],
   "source": [
    "v=''\n",
    "f\"dd{v}\""
   ]
  },
  {
   "cell_type": "code",
   "execution_count": 28,
   "metadata": {},
   "outputs": [],
   "source": [
    "arr1[arr1>0] = 1"
   ]
  },
  {
   "cell_type": "code",
   "execution_count": 29,
   "metadata": {},
   "outputs": [
    {
     "data": {
      "text/plain": [
       "tensor([[ 0.0000,  0.0000,  0.0000,  0.0000,  0.0000,  0.0000,  0.0000,  0.0000],\n",
       "        [ 0.0000,  0.0000,  0.0000,  0.0000,  0.0000,  0.0000,  0.0000,  0.0000],\n",
       "        [ 0.0000, -1.0363,  1.0000,  1.0000,  1.0000, -1.5964,  0.0000,  0.0000],\n",
       "        [ 0.0000, -0.2460, -0.3013,  1.0000, -0.1437,  1.0000,  0.0000,  0.0000],\n",
       "        [ 0.0000,  1.0000, -0.7622, -0.6815,  1.0000,  1.0000,  0.0000,  0.0000],\n",
       "        [ 0.0000,  0.0000,  0.0000,  0.0000,  0.0000,  0.0000,  0.0000,  0.0000],\n",
       "        [ 0.0000,  0.0000,  0.0000,  0.0000,  0.0000,  0.0000,  0.0000,  0.0000],\n",
       "        [ 0.0000,  0.0000,  0.0000,  0.0000,  0.0000,  0.0000,  0.0000,  0.0000]],\n",
       "       dtype=torch.float64)"
      ]
     },
     "execution_count": 29,
     "metadata": {},
     "output_type": "execute_result"
    }
   ],
   "source": [
    "arr1"
   ]
  },
  {
   "cell_type": "markdown",
   "metadata": {},
   "source": [
    "## Sliding Windows"
   ]
  },
  {
   "cell_type": "code",
   "execution_count": null,
   "metadata": {},
   "outputs": [],
   "source": [
    "def sliding_windows()"
   ]
  },
  {
   "cell_type": "code",
   "execution_count": 23,
   "metadata": {},
   "outputs": [],
   "source": [
    "import torch"
   ]
  },
  {
   "cell_type": "code",
   "execution_count": null,
   "metadata": {},
   "outputs": [],
   "source": []
  },
  {
   "cell_type": "code",
   "execution_count": 18,
   "metadata": {},
   "outputs": [
    {
     "data": {
      "text/plain": [
       "tensor([[-0.0322,  0.0130,  0.3563,  1.1467,  0.0661],\n",
       "        [-0.2312,  0.0656,  0.0694,  1.1842,  1.7015],\n",
       "        [ 0.1408, -0.8996, -0.0693, -1.1149, -1.1485],\n",
       "        [ 1.0666, -1.0215, -0.2648, -1.3125,  1.1425],\n",
       "        [-0.0881,  0.2391,  0.1623, -0.5130, -0.5677]])"
      ]
     },
     "execution_count": 18,
     "metadata": {},
     "output_type": "execute_result"
    }
   ],
   "source": [
    "arr = torch.randn(5,5)\n",
    "arr"
   ]
  },
  {
   "cell_type": "code",
   "execution_count": null,
   "metadata": {},
   "outputs": [],
   "source": []
  },
  {
   "cell_type": "code",
   "execution_count": 19,
   "metadata": {},
   "outputs": [],
   "source": [
    "w, h = arr.shape\n",
    "n = 2\n",
    "s = 1\n",
    "# Calculate the shape of the output windows\n",
    "out_w = (w - n) // s + 1\n",
    "out_h = (h - n) // s + 1\n",
    "\n",
    "# Unfold the dimensions and reshape\n",
    "windows = arr.unfold(0, n, s).unfold(1, n, s)\n",
    "windows = windows.contiguous().view(out_w, out_h, n, n)"
   ]
  },
  {
   "cell_type": "code",
   "execution_count": 21,
   "metadata": {},
   "outputs": [
    {
     "data": {
      "text/plain": [
       "tensor([[[-0.0322,  0.0130],\n",
       "         [-0.2312,  0.0656]],\n",
       "\n",
       "        [[ 0.0130,  0.3563],\n",
       "         [ 0.0656,  0.0694]],\n",
       "\n",
       "        [[ 0.3563,  1.1467],\n",
       "         [ 0.0694,  1.1842]],\n",
       "\n",
       "        [[ 1.1467,  0.0661],\n",
       "         [ 1.1842,  1.7015]],\n",
       "\n",
       "        [[-0.2312,  0.0656],\n",
       "         [ 0.1408, -0.8996]],\n",
       "\n",
       "        [[ 0.0656,  0.0694],\n",
       "         [-0.8996, -0.0693]],\n",
       "\n",
       "        [[ 0.0694,  1.1842],\n",
       "         [-0.0693, -1.1149]],\n",
       "\n",
       "        [[ 1.1842,  1.7015],\n",
       "         [-1.1149, -1.1485]],\n",
       "\n",
       "        [[ 0.1408, -0.8996],\n",
       "         [ 1.0666, -1.0215]],\n",
       "\n",
       "        [[-0.8996, -0.0693],\n",
       "         [-1.0215, -0.2648]],\n",
       "\n",
       "        [[-0.0693, -1.1149],\n",
       "         [-0.2648, -1.3125]],\n",
       "\n",
       "        [[-1.1149, -1.1485],\n",
       "         [-1.3125,  1.1425]],\n",
       "\n",
       "        [[ 1.0666, -1.0215],\n",
       "         [-0.0881,  0.2391]],\n",
       "\n",
       "        [[-1.0215, -0.2648],\n",
       "         [ 0.2391,  0.1623]],\n",
       "\n",
       "        [[-0.2648, -1.3125],\n",
       "         [ 0.1623, -0.5130]],\n",
       "\n",
       "        [[-1.3125,  1.1425],\n",
       "         [-0.5130, -0.5677]]])"
      ]
     },
     "execution_count": 21,
     "metadata": {},
     "output_type": "execute_result"
    }
   ],
   "source": [
    "windows.reshape(16,2,2)"
   ]
  },
  {
   "cell_type": "code",
   "execution_count": null,
   "metadata": {},
   "outputs": [],
   "source": []
  }
 ],
 "metadata": {
  "kernelspec": {
   "display_name": "bratseg",
   "language": "python",
   "name": "python3"
  },
  "language_info": {
   "codemirror_mode": {
    "name": "ipython",
    "version": 3
   },
   "file_extension": ".py",
   "mimetype": "text/x-python",
   "name": "python",
   "nbconvert_exporter": "python",
   "pygments_lexer": "ipython3",
   "version": "3.10.14"
  }
 },
 "nbformat": 4,
 "nbformat_minor": 2
}
