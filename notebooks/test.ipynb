{
 "cells": [
  {
   "cell_type": "code",
   "execution_count": 4,
   "metadata": {},
   "outputs": [
    {
     "name": "stdout",
     "output_type": "stream",
     "text": [
      "n\n",
      "k\n"
     ]
    }
   ],
   "source": [
    "class A():\n",
    "    def __init__(self):\n",
    "        pass\n",
    "    def a(self,x):\n",
    "        if x == 'm':\n",
    "            print('m')\n",
    "        elif x == 'n':\n",
    "            print('n')\n",
    "\n",
    "class B(A):\n",
    "    def __init__(self):\n",
    "        super().__init__()\n",
    "    def a(self,x):\n",
    "        if x == 'm'\n",
    "        super().a(x)\n",
    "        if x == 'n':\n",
    "            print('k')\n",
    "\n",
    "b = B()\n",
    "b.a('n')"
   ]
  },
  {
   "cell_type": "code",
   "execution_count": 1,
   "metadata": {},
   "outputs": [],
   "source": [
    "import numpy as np"
   ]
  },
  {
   "cell_type": "code",
   "execution_count": 10,
   "metadata": {},
   "outputs": [],
   "source": [
    "arr = np.random.randn(3,5)\n",
    "pad_width = [(2, 3), (1, 2)]  # Padding for (w, h, d)\n",
    "arr1 = np.pad(arr, pad_width, mode='constant', constant_values=0)"
   ]
  },
  {
   "cell_type": "code",
   "execution_count": 11,
   "metadata": {},
   "outputs": [
    {
     "data": {
      "text/plain": [
       "array([[-1.0363135 ,  0.13769319,  1.55459688,  0.75076252, -1.5963932 ],\n",
       "       [-0.24597258, -0.30131506,  0.48089561, -0.14366398,  2.15835096],\n",
       "       [ 0.06115847, -0.76221813, -0.68150188,  0.16991158,  0.73216926]])"
      ]
     },
     "execution_count": 11,
     "metadata": {},
     "output_type": "execute_result"
    }
   ],
   "source": [
    "arr"
   ]
  },
  {
   "cell_type": "code",
   "execution_count": 22,
   "metadata": {},
   "outputs": [
    {
     "data": {
      "text/plain": [
       "array([[ 0.        ,  0.        ,  0.        ,  0.        ,  0.        ,\n",
       "         0.        ,  0.        ,  0.        ],\n",
       "       [ 0.        ,  0.        ,  0.        ,  0.        ,  0.        ,\n",
       "         0.        ,  0.        ,  0.        ],\n",
       "       [ 0.        , -1.0363135 ,  0.13769319,  1.55459688,  0.75076252,\n",
       "        -1.5963932 ,  0.        ,  0.        ],\n",
       "       [ 0.        , -0.24597258, -0.30131506,  0.48089561, -0.14366398,\n",
       "         2.15835096,  0.        ,  0.        ],\n",
       "       [ 0.        ,  0.06115847, -0.76221813, -0.68150188,  0.16991158,\n",
       "         0.73216926,  0.        ,  0.        ],\n",
       "       [ 0.        ,  0.        ,  0.        ,  0.        ,  0.        ,\n",
       "         0.        ,  0.        ,  0.        ],\n",
       "       [ 0.        ,  0.        ,  0.        ,  0.        ,  0.        ,\n",
       "         0.        ,  0.        ,  0.        ],\n",
       "       [ 0.        ,  0.        ,  0.        ,  0.        ,  0.        ,\n",
       "         0.        ,  0.        ,  0.        ]])"
      ]
     },
     "execution_count": 22,
     "metadata": {},
     "output_type": "execute_result"
    }
   ],
   "source": [
    "arr1\n"
   ]
  },
  {
   "cell_type": "code",
   "execution_count": 27,
   "metadata": {},
   "outputs": [],
   "source": [
    "arr1=torch.from_numpy(arr1)"
   ]
  },
  {
   "cell_type": "code",
   "execution_count": 31,
   "metadata": {},
   "outputs": [
    {
     "data": {
      "text/plain": [
       "tensor([[ 0.0000,  0.0000,  0.0000,  0.0000,  0.0000,  0.0000,  0.0000,  0.0000],\n",
       "        [ 0.0000,  0.0000,  0.0000,  0.0000,  0.0000,  0.0000,  0.0000,  0.0000],\n",
       "        [ 0.0000, -1.0363,  1.0000,  1.0000,  1.0000, -1.5964,  0.0000,  0.0000],\n",
       "        [ 0.0000, -0.2460, -0.3013,  1.0000, -0.1437,  1.0000,  0.0000,  0.0000],\n",
       "        [ 0.0000,  1.0000, -0.7622, -0.6815,  1.0000,  1.0000,  0.0000,  0.0000],\n",
       "        [ 0.0000,  0.0000,  0.0000,  0.0000,  0.0000,  0.0000,  0.0000,  0.0000],\n",
       "        [ 0.0000,  0.0000,  0.0000,  0.0000,  0.0000,  0.0000,  0.0000,  0.0000],\n",
       "        [ 0.0000,  0.0000,  0.0000,  0.0000,  0.0000,  0.0000,  0.0000,  0.0000]],\n",
       "       dtype=torch.float64)"
      ]
     },
     "execution_count": 31,
     "metadata": {},
     "output_type": "execute_result"
    }
   ],
   "source": [
    "arr1"
   ]
  },
  {
   "cell_type": "code",
   "execution_count": 36,
   "metadata": {},
   "outputs": [],
   "source": [
    "a=torch.randn(4,4)"
   ]
  },
  {
   "cell_type": "code",
   "execution_count": 37,
   "metadata": {},
   "outputs": [
    {
     "data": {
      "text/plain": [
       "tensor([[ 1.5927,  0.8941, -0.5614, -0.1146],\n",
       "        [ 1.4755, -0.7206, -0.9578, -0.1435],\n",
       "        [ 1.0759, -0.8149,  0.6676,  1.3719],\n",
       "        [ 0.0792,  0.0536, -0.4410, -1.5718]])"
      ]
     },
     "execution_count": 37,
     "metadata": {},
     "output_type": "execute_result"
    }
   ],
   "source": [
    "a"
   ]
  },
  {
   "cell_type": "code",
   "execution_count": 38,
   "metadata": {},
   "outputs": [
    {
     "data": {
      "text/plain": [
       "tensor([[1.0000, 0.8941, 0.0000, 0.0000],\n",
       "        [1.0000, 0.0000, 0.0000, 0.0000],\n",
       "        [1.0000, 0.0000, 0.6676, 1.0000],\n",
       "        [0.0792, 0.0536, 0.0000, 0.0000]])"
      ]
     },
     "execution_count": 38,
     "metadata": {},
     "output_type": "execute_result"
    }
   ],
   "source": [
    "torch.clamp(a,0,1)"
   ]
  },
  {
   "cell_type": "code",
   "execution_count": 34,
   "metadata": {},
   "outputs": [
    {
     "data": {
      "text/plain": [
       "'dd'"
      ]
     },
     "execution_count": 34,
     "metadata": {},
     "output_type": "execute_result"
    }
   ],
   "source": [
    "v=''\n",
    "f\"dd{v}\""
   ]
  },
  {
   "cell_type": "code",
   "execution_count": 28,
   "metadata": {},
   "outputs": [],
   "source": [
    "arr1[arr1>0] = 1"
   ]
  },
  {
   "cell_type": "code",
   "execution_count": 29,
   "metadata": {},
   "outputs": [
    {
     "data": {
      "text/plain": [
       "tensor([[ 0.0000,  0.0000,  0.0000,  0.0000,  0.0000,  0.0000,  0.0000,  0.0000],\n",
       "        [ 0.0000,  0.0000,  0.0000,  0.0000,  0.0000,  0.0000,  0.0000,  0.0000],\n",
       "        [ 0.0000, -1.0363,  1.0000,  1.0000,  1.0000, -1.5964,  0.0000,  0.0000],\n",
       "        [ 0.0000, -0.2460, -0.3013,  1.0000, -0.1437,  1.0000,  0.0000,  0.0000],\n",
       "        [ 0.0000,  1.0000, -0.7622, -0.6815,  1.0000,  1.0000,  0.0000,  0.0000],\n",
       "        [ 0.0000,  0.0000,  0.0000,  0.0000,  0.0000,  0.0000,  0.0000,  0.0000],\n",
       "        [ 0.0000,  0.0000,  0.0000,  0.0000,  0.0000,  0.0000,  0.0000,  0.0000],\n",
       "        [ 0.0000,  0.0000,  0.0000,  0.0000,  0.0000,  0.0000,  0.0000,  0.0000]],\n",
       "       dtype=torch.float64)"
      ]
     },
     "execution_count": 29,
     "metadata": {},
     "output_type": "execute_result"
    }
   ],
   "source": [
    "arr1"
   ]
  },
  {
   "cell_type": "markdown",
   "metadata": {},
   "source": [
    "## Sliding Windows"
   ]
  },
  {
   "cell_type": "code",
   "execution_count": null,
   "metadata": {},
   "outputs": [],
   "source": [
    "def sliding_windows()"
   ]
  },
  {
   "cell_type": "code",
   "execution_count": 23,
   "metadata": {},
   "outputs": [],
   "source": [
    "import torch"
   ]
  },
  {
   "cell_type": "code",
   "execution_count": null,
   "metadata": {},
   "outputs": [],
   "source": []
  },
  {
   "cell_type": "code",
   "execution_count": 18,
   "metadata": {},
   "outputs": [
    {
     "data": {
      "text/plain": [
       "tensor([[-0.0322,  0.0130,  0.3563,  1.1467,  0.0661],\n",
       "        [-0.2312,  0.0656,  0.0694,  1.1842,  1.7015],\n",
       "        [ 0.1408, -0.8996, -0.0693, -1.1149, -1.1485],\n",
       "        [ 1.0666, -1.0215, -0.2648, -1.3125,  1.1425],\n",
       "        [-0.0881,  0.2391,  0.1623, -0.5130, -0.5677]])"
      ]
     },
     "execution_count": 18,
     "metadata": {},
     "output_type": "execute_result"
    }
   ],
   "source": [
    "arr = torch.randn(5,5)\n",
    "arr"
   ]
  },
  {
   "cell_type": "code",
   "execution_count": null,
   "metadata": {},
   "outputs": [],
   "source": []
  },
  {
   "cell_type": "code",
   "execution_count": 19,
   "metadata": {},
   "outputs": [],
   "source": [
    "w, h = arr.shape\n",
    "n = 2\n",
    "s = 1\n",
    "# Calculate the shape of the output windows\n",
    "out_w = (w - n) // s + 1\n",
    "out_h = (h - n) // s + 1\n",
    "\n",
    "# Unfold the dimensions and reshape\n",
    "windows = arr.unfold(0, n, s).unfold(1, n, s)\n",
    "windows = windows.contiguous().view(out_w, out_h, n, n)"
   ]
  },
  {
   "cell_type": "code",
   "execution_count": 21,
   "metadata": {},
   "outputs": [
    {
     "data": {
      "text/plain": [
       "tensor([[[-0.0322,  0.0130],\n",
       "         [-0.2312,  0.0656]],\n",
       "\n",
       "        [[ 0.0130,  0.3563],\n",
       "         [ 0.0656,  0.0694]],\n",
       "\n",
       "        [[ 0.3563,  1.1467],\n",
       "         [ 0.0694,  1.1842]],\n",
       "\n",
       "        [[ 1.1467,  0.0661],\n",
       "         [ 1.1842,  1.7015]],\n",
       "\n",
       "        [[-0.2312,  0.0656],\n",
       "         [ 0.1408, -0.8996]],\n",
       "\n",
       "        [[ 0.0656,  0.0694],\n",
       "         [-0.8996, -0.0693]],\n",
       "\n",
       "        [[ 0.0694,  1.1842],\n",
       "         [-0.0693, -1.1149]],\n",
       "\n",
       "        [[ 1.1842,  1.7015],\n",
       "         [-1.1149, -1.1485]],\n",
       "\n",
       "        [[ 0.1408, -0.8996],\n",
       "         [ 1.0666, -1.0215]],\n",
       "\n",
       "        [[-0.8996, -0.0693],\n",
       "         [-1.0215, -0.2648]],\n",
       "\n",
       "        [[-0.0693, -1.1149],\n",
       "         [-0.2648, -1.3125]],\n",
       "\n",
       "        [[-1.1149, -1.1485],\n",
       "         [-1.3125,  1.1425]],\n",
       "\n",
       "        [[ 1.0666, -1.0215],\n",
       "         [-0.0881,  0.2391]],\n",
       "\n",
       "        [[-1.0215, -0.2648],\n",
       "         [ 0.2391,  0.1623]],\n",
       "\n",
       "        [[-0.2648, -1.3125],\n",
       "         [ 0.1623, -0.5130]],\n",
       "\n",
       "        [[-1.3125,  1.1425],\n",
       "         [-0.5130, -0.5677]]])"
      ]
     },
     "execution_count": 21,
     "metadata": {},
     "output_type": "execute_result"
    }
   ],
   "source": [
    "windows.reshape(16,2,2)"
   ]
  },
  {
   "cell_type": "code",
   "execution_count": 1,
   "metadata": {},
   "outputs": [],
   "source": [
    "# Example usage\n",
    "B = 2    # Batch size\n",
    "C = 3  # Number of channels in output mask\n",
    "W = 128   # Width of the input image\n",
    "H = 128   # Height of the input image\n",
    "D = 128   # Depth of the input image\n",
    "P = 32   # Patch size\n",
    "W_P, H_P, D_P = W // P, H // P, D // P  # Number of patches"
   ]
  },
  {
   "cell_type": "code",
   "execution_count": 3,
   "metadata": {},
   "outputs": [],
   "source": [
    "import torch"
   ]
  },
  {
   "cell_type": "code",
   "execution_count": 28,
   "metadata": {},
   "outputs": [],
   "source": [
    "label_map = torch.randint(0, 2, (B, 1, W_P, H_P, D_P)).float()  # Random label map\n",
    "patch_preds = torch.rand((B, C, W_P, H_P, D_P, P, P, P)) "
   ]
  },
  {
   "cell_type": "code",
   "execution_count": 29,
   "metadata": {},
   "outputs": [],
   "source": [
    "patch_preds1 = patch_preds.view(B*W_P*H_P*D_P, C, P, P, P)"
   ]
  },
  {
   "cell_type": "code",
   "execution_count": 30,
   "metadata": {},
   "outputs": [],
   "source": [
    "label_map = label_map.view(B*W_P*H_P*D_P,1,1,1,1)\n",
    "label_map = label_map.expand(-1, C, P, P, P)"
   ]
  },
  {
   "cell_type": "code",
   "execution_count": 31,
   "metadata": {},
   "outputs": [
    {
     "data": {
      "text/plain": [
       "torch.Size([128, 3, 32, 32, 32])"
      ]
     },
     "execution_count": 31,
     "metadata": {},
     "output_type": "execute_result"
    }
   ],
   "source": [
    "label_map.shape\n"
   ]
  },
  {
   "cell_type": "code",
   "execution_count": 32,
   "metadata": {},
   "outputs": [],
   "source": [
    "# Zero out the patch predictions where the mask is 0\n",
    "final_patch_preds = patch_preds1 * label_map  # Broadcasting to apply the mask\n",
    "\n",
    "# Reshape to get the final mask of shape (B, C', W, H, D)\n",
    "final_mask1 = final_patch_preds.view(B, C, W_P * P, H_P * P, D_P * P)"
   ]
  },
  {
   "cell_type": "code",
   "execution_count": 37,
   "metadata": {},
   "outputs": [
    {
     "data": {
      "text/plain": [
       "torch.Size([2, 3, 128, 128, 128])"
      ]
     },
     "execution_count": 37,
     "metadata": {},
     "output_type": "execute_result"
    }
   ],
   "source": [
    "final_mask1.shape"
   ]
  },
  {
   "cell_type": "code",
   "execution_count": 25,
   "metadata": {},
   "outputs": [
    {
     "data": {
      "text/plain": [
       "tensor(7012352)"
      ]
     },
     "execution_count": 25,
     "metadata": {},
     "output_type": "execute_result"
    }
   ],
   "source": [
    "(final_mask1==final_mask).sum()\n"
   ]
  },
  {
   "cell_type": "code",
   "execution_count": 27,
   "metadata": {},
   "outputs": [
    {
     "data": {
      "text/plain": [
       "12582912"
      ]
     },
     "execution_count": 27,
     "metadata": {},
     "output_type": "execute_result"
    }
   ],
   "source": [
    "import numpy as np\n",
    "np.prod(final_mask1.shape)"
   ]
  },
  {
   "cell_type": "code",
   "execution_count": 18,
   "metadata": {},
   "outputs": [
    {
     "data": {
      "text/plain": [
       "torch.Size([128, 3, 32, 32, 32])"
      ]
     },
     "execution_count": 18,
     "metadata": {},
     "output_type": "execute_result"
    }
   ],
   "source": [
    "patch_preds1.shape"
   ]
  },
  {
   "cell_type": "code",
   "execution_count": 14,
   "metadata": {},
   "outputs": [
    {
     "data": {
      "text/plain": [
       "torch.Size([2, 3, 4, 4, 4, 32, 32, 32])"
      ]
     },
     "execution_count": 14,
     "metadata": {},
     "output_type": "execute_result"
    }
   ],
   "source": [
    "label_map_expanded = label_map.view(B, 1, W_P, H_P, D_P, 1, 1, 1)\n",
    "mask = label_map_expanded.expand(-1, C, -1, -1, -1, P, P, P)  # (B, C', W/P, H/P, D/P, P, P, P)\n",
    "mask.shape"
   ]
  },
  {
   "cell_type": "code",
   "execution_count": 38,
   "metadata": {},
   "outputs": [
    {
     "ename": "RuntimeError",
     "evalue": "shape '[2, 1, 4, 4, 4, 1, 1, 1]' is invalid for input of size 12582912",
     "output_type": "error",
     "traceback": [
      "\u001b[0;31m---------------------------------------------------------------------------\u001b[0m",
      "\u001b[0;31mRuntimeError\u001b[0m                              Traceback (most recent call last)",
      "Cell \u001b[0;32mIn[38], line 1\u001b[0m\n\u001b[0;32m----> 1\u001b[0m label_map_expanded \u001b[38;5;241m=\u001b[39m \u001b[43mlabel_map\u001b[49m\u001b[38;5;241;43m.\u001b[39;49m\u001b[43mview\u001b[49m\u001b[43m(\u001b[49m\u001b[43mB\u001b[49m\u001b[43m,\u001b[49m\u001b[43m \u001b[49m\u001b[38;5;241;43m1\u001b[39;49m\u001b[43m,\u001b[49m\u001b[43m \u001b[49m\u001b[43mW_P\u001b[49m\u001b[43m,\u001b[49m\u001b[43m \u001b[49m\u001b[43mH_P\u001b[49m\u001b[43m,\u001b[49m\u001b[43m \u001b[49m\u001b[43mD_P\u001b[49m\u001b[43m,\u001b[49m\u001b[43m \u001b[49m\u001b[38;5;241;43m1\u001b[39;49m\u001b[43m,\u001b[49m\u001b[43m \u001b[49m\u001b[38;5;241;43m1\u001b[39;49m\u001b[43m,\u001b[49m\u001b[43m \u001b[49m\u001b[38;5;241;43m1\u001b[39;49m\u001b[43m)\u001b[49m\n\u001b[1;32m      2\u001b[0m mask \u001b[38;5;241m=\u001b[39m label_map_expanded\u001b[38;5;241m.\u001b[39mexpand(\u001b[38;5;241m-\u001b[39m\u001b[38;5;241m1\u001b[39m, C, \u001b[38;5;241m-\u001b[39m\u001b[38;5;241m1\u001b[39m, \u001b[38;5;241m-\u001b[39m\u001b[38;5;241m1\u001b[39m, \u001b[38;5;241m-\u001b[39m\u001b[38;5;241m1\u001b[39m, P, P, P)  \u001b[38;5;66;03m# (B, C', W/P, H/P, D/P, P, P, P)\u001b[39;00m\n\u001b[1;32m      4\u001b[0m \u001b[38;5;66;03m# Zero out the patch predictions where the mask is 0\u001b[39;00m\n",
      "\u001b[0;31mRuntimeError\u001b[0m: shape '[2, 1, 4, 4, 4, 1, 1, 1]' is invalid for input of size 12582912"
     ]
    }
   ],
   "source": [
    "label_map_expanded = label_map.view(B, 1, W_P, H_P, D_P, 1, 1, 1)\n",
    "mask = label_map_expanded.expand(-1, C, -1, -1, -1, P, P, P)  # (B, C', W/P, H/P, D/P, P, P, P)\n",
    "\n",
    "# Zero out the patch predictions where the mask is 0\n",
    "final_patch_preds = patch_preds.view(B, C, W_P, H_P, D_P, P, P, P) * mask  # Broadcasting to apply the mask\n",
    "\n",
    "# Reshape to get the final mask of shape (B, C', W, H, D)\n",
    "final_mask = final_patch_preds.view(B, C, W_P * P, H_P * P, D_P * P)\n",
    "\n"
   ]
  },
  {
   "cell_type": "code",
   "execution_count": 16,
   "metadata": {},
   "outputs": [
    {
     "data": {
      "text/plain": [
       "torch.Size([2, 3, 128, 128, 128])"
      ]
     },
     "execution_count": 16,
     "metadata": {},
     "output_type": "execute_result"
    }
   ],
   "source": [
    "final_mask.shape"
   ]
  },
  {
   "cell_type": "code",
   "execution_count": 3,
   "metadata": {},
   "outputs": [],
   "source": [
    "import torch"
   ]
  },
  {
   "cell_type": "code",
   "execution_count": 39,
   "metadata": {},
   "outputs": [],
   "source": [
    "# Initialize parameters\n",
    "B = 2  # Batch size\n",
    "C = 4  # Number of channels in the image\n",
    "W, H, D = 128, 128, 128  # Dimensions of the image\n",
    "P = 32  # Patch size\n",
    "C_prime = 3 # Number of channels in the output mask"
   ]
  },
  {
   "cell_type": "code",
   "execution_count": 7,
   "metadata": {},
   "outputs": [
    {
     "data": {
      "text/plain": [
       "torch.Size([2, 1, 4, 4, 4])"
      ]
     },
     "execution_count": 7,
     "metadata": {},
     "output_type": "execute_result"
    }
   ],
   "source": [
    "patch_pred_labels = torch.randint(0, 2, (B, 1, W // P, H // P, D // P))  # Random patch predictions\n",
    "patch_pred_labels.shape\n"
   ]
  },
  {
   "cell_type": "code",
   "execution_count": 8,
   "metadata": {},
   "outputs": [
    {
     "data": {
      "text/plain": [
       "torch.Size([2, 512, 4, 4, 4])"
      ]
     },
     "execution_count": 8,
     "metadata": {},
     "output_type": "execute_result"
    }
   ],
   "source": [
    "patch_embeddings = torch.randn(B, 512, W // P, H // P, D // P)\n",
    "patch_embeddings.shape"
   ]
  },
  {
   "cell_type": "code",
   "execution_count": 21,
   "metadata": {},
   "outputs": [
    {
     "data": {
      "text/plain": [
       "torch.Size([73])"
      ]
     },
     "execution_count": 21,
     "metadata": {},
     "output_type": "execute_result"
    }
   ],
   "source": [
    "pos_indices = patch_pred_labels.nonzero(as_tuple=True)\n",
    "patch_embeddings[pos_indices].shape"
   ]
  },
  {
   "cell_type": "code",
   "execution_count": 25,
   "metadata": {},
   "outputs": [
    {
     "data": {
      "text/plain": [
       "(tensor([0, 0, 0, 0, 0, 0, 0, 0, 0, 0, 0, 0, 0, 0, 0, 0, 0, 0, 0, 0, 0, 0, 0, 0,\n",
       "         0, 0, 0, 0, 0, 0, 0, 0, 0, 1, 1, 1, 1, 1, 1, 1, 1, 1, 1, 1, 1, 1, 1, 1,\n",
       "         1, 1, 1, 1, 1, 1, 1, 1, 1, 1, 1, 1, 1, 1, 1, 1, 1, 1, 1, 1, 1, 1, 1, 1,\n",
       "         1]),\n",
       " tensor([0, 0, 0, 0, 0, 0, 0, 0, 0, 0, 0, 0, 0, 0, 0, 0, 0, 0, 0, 0, 0, 0, 0, 0,\n",
       "         0, 0, 0, 0, 0, 0, 0, 0, 0, 0, 0, 0, 0, 0, 0, 0, 0, 0, 0, 0, 0, 0, 0, 0,\n",
       "         0, 0, 0, 0, 0, 0, 0, 0, 0, 0, 0, 0, 0, 0, 0, 0, 0, 0, 0, 0, 0, 0, 0, 0,\n",
       "         0]),\n",
       " tensor([0, 0, 0, 0, 0, 0, 0, 0, 0, 1, 1, 1, 1, 1, 1, 2, 2, 2, 2, 2, 2, 2, 2, 2,\n",
       "         3, 3, 3, 3, 3, 3, 3, 3, 3, 0, 0, 0, 0, 0, 0, 0, 0, 0, 1, 1, 1, 1, 1, 1,\n",
       "         1, 1, 1, 1, 2, 2, 2, 2, 2, 2, 2, 2, 2, 2, 3, 3, 3, 3, 3, 3, 3, 3, 3, 3,\n",
       "         3]),\n",
       " tensor([0, 0, 1, 1, 1, 2, 2, 3, 3, 0, 0, 0, 1, 2, 2, 0, 0, 0, 1, 2, 2, 2, 3, 3,\n",
       "         0, 0, 0, 1, 1, 2, 2, 3, 3, 0, 1, 2, 2, 2, 3, 3, 3, 3, 0, 0, 0, 1, 1, 2,\n",
       "         2, 3, 3, 3, 0, 1, 1, 1, 2, 2, 2, 2, 3, 3, 0, 1, 1, 1, 2, 2, 2, 3, 3, 3,\n",
       "         3]),\n",
       " tensor([1, 3, 0, 1, 2, 1, 3, 1, 3, 0, 2, 3, 3, 0, 3, 1, 2, 3, 2, 0, 2, 3, 2, 3,\n",
       "         0, 2, 3, 1, 3, 1, 2, 2, 3, 2, 3, 1, 2, 3, 0, 1, 2, 3, 1, 2, 3, 0, 2, 0,\n",
       "         1, 0, 1, 2, 0, 1, 2, 3, 0, 1, 2, 3, 1, 3, 3, 0, 1, 3, 0, 1, 3, 0, 1, 2,\n",
       "         3]))"
      ]
     },
     "execution_count": 25,
     "metadata": {},
     "output_type": "execute_result"
    }
   ],
   "source": [
    "indices"
   ]
  },
  {
   "cell_type": "code",
   "execution_count": 43,
   "metadata": {},
   "outputs": [
    {
     "name": "stdout",
     "output_type": "stream",
     "text": [
      "torch.Size([73, 1, 8, 8, 8])\n"
     ]
    }
   ],
   "source": [
    "# Extract indices where patch_pred_labels is True\n",
    "indices = patch_pred_labels.nonzero(as_tuple=True)\n",
    "\n",
    "# Use the indices to gather the embeddings\n",
    "# We need to gather over the first dimension (batch)\n",
    "patch_embeddings_extracted = patch_embeddings[indices[0], :, indices[2], indices[3], indices[4]]\n",
    "patch_embeddings_extracted = patch_embeddings_extracted.view(73,1,8,8,8)\n",
    "print(patch_embeddings_extracted.shape)\n",
    "\n",
    "# Reshape to (K, 512)\n",
    "#patch_embeddings_extracted = patch_embeddings_extracted.view(-1, 512)"
   ]
  },
  {
   "cell_type": "code",
   "execution_count": null,
   "metadata": {},
   "outputs": [],
   "source": []
  },
  {
   "cell_type": "code",
   "execution_count": 44,
   "metadata": {},
   "outputs": [],
   "source": [
    "# Define a simple network B for mask prediction\n",
    "class Net(torch.nn.Module):\n",
    "    def __init__(self):\n",
    "        super(Net, self).__init__()\n",
    "        self.up = torch.nn.Upsample(scale_factor=4, mode='nearest')\n",
    "        self.conv = torch.nn.Conv3d(1, 3, kernel_size=3, padding=1)\n",
    "\n",
    "    def forward(self, x):\n",
    "        return self.conv(self.up(x))\n",
    "net = Net()"
   ]
  },
  {
   "cell_type": "code",
   "execution_count": 45,
   "metadata": {},
   "outputs": [],
   "source": [
    "patch_embeddings_extracted = net(patch_embeddings_extracted)"
   ]
  },
  {
   "cell_type": "code",
   "execution_count": 46,
   "metadata": {},
   "outputs": [
    {
     "data": {
      "text/plain": [
       "torch.Size([73, 3, 32, 32, 32])"
      ]
     },
     "execution_count": 46,
     "metadata": {},
     "output_type": "execute_result"
    }
   ],
   "source": [
    "patch_embeddings_extracted.shape"
   ]
  },
  {
   "cell_type": "code",
   "execution_count": 63,
   "metadata": {},
   "outputs": [
    {
     "data": {
      "text/plain": [
       "torch.float32"
      ]
     },
     "execution_count": 63,
     "metadata": {},
     "output_type": "execute_result"
    }
   ],
   "source": [
    "predicted_mask = torch.zeros((B, 3, W, H, D))\n",
    "predicted_mask.dtype"
   ]
  },
  {
   "cell_type": "code",
   "execution_count": 62,
   "metadata": {},
   "outputs": [
    {
     "data": {
      "text/plain": [
       "tensor([[[[[-2.6534e-02, -4.2508e-02, -4.2508e-02,  ..., -3.8891e-02,\n",
       "            -3.8891e-02, -5.7925e-02],\n",
       "           [ 3.1087e-02,  2.2982e-02,  2.2982e-02,  ...,  1.2055e-02,\n",
       "             1.2055e-02, -3.0848e-02],\n",
       "           [ 3.1087e-02,  2.2982e-02,  2.2982e-02,  ...,  1.2055e-02,\n",
       "             1.2055e-02, -3.0848e-02],\n",
       "           ...,\n",
       "           [-3.5975e-01, -3.1258e-01, -3.1258e-01,  ...,  3.0900e-01,\n",
       "             3.0900e-01, -6.6735e-02],\n",
       "           [-3.5975e-01, -3.1258e-01, -3.1258e-01,  ...,  3.0900e-01,\n",
       "             3.0900e-01, -6.6735e-02],\n",
       "           [-3.0445e-01, -2.4495e-01, -2.4495e-01,  ...,  2.2984e-01,\n",
       "             2.2984e-01, -1.7113e-01]],\n",
       "\n",
       "          [[-3.1042e-02, -2.7701e-02, -2.7701e-02,  ..., -2.7373e-02,\n",
       "            -2.7373e-02, -4.1076e-02],\n",
       "           [ 1.1248e-02,  2.5189e-02,  2.5189e-02,  ...,  1.3773e-02,\n",
       "             1.3773e-02, -2.6182e-02],\n",
       "           [ 1.1248e-02,  2.5189e-02,  2.5189e-02,  ...,  1.3773e-02,\n",
       "             1.3773e-02, -2.6182e-02],\n",
       "           ...,\n",
       "           [-2.4429e-01, -3.2543e-01, -3.2543e-01,  ...,  3.2404e-01,\n",
       "             3.2404e-01, -2.5866e-02],\n",
       "           [-2.4429e-01, -3.2543e-01, -3.2543e-01,  ...,  3.2404e-01,\n",
       "             3.2404e-01, -2.5866e-02],\n",
       "           [-3.6398e-01, -3.5068e-01, -3.5068e-01,  ...,  3.5361e-01,\n",
       "             3.5361e-01, -1.5916e-01]],\n",
       "\n",
       "          [[-3.1042e-02, -2.7701e-02, -2.7701e-02,  ..., -2.7373e-02,\n",
       "            -2.7373e-02, -4.1076e-02],\n",
       "           [ 1.1248e-02,  2.5189e-02,  2.5189e-02,  ...,  1.3773e-02,\n",
       "             1.3773e-02, -2.6182e-02],\n",
       "           [ 1.1248e-02,  2.5189e-02,  2.5189e-02,  ...,  1.3773e-02,\n",
       "             1.3773e-02, -2.6182e-02],\n",
       "           ...,\n",
       "           [-2.4429e-01, -3.2543e-01, -3.2543e-01,  ...,  3.2404e-01,\n",
       "             3.2404e-01, -2.5866e-02],\n",
       "           [-2.4429e-01, -3.2543e-01, -3.2543e-01,  ...,  3.2404e-01,\n",
       "             3.2404e-01, -2.5866e-02],\n",
       "           [-3.6398e-01, -3.5068e-01, -3.5068e-01,  ...,  3.5361e-01,\n",
       "             3.5361e-01, -1.5916e-01]],\n",
       "\n",
       "          ...,\n",
       "\n",
       "          [[-6.3117e-02, -3.7545e-02, -3.7545e-02,  ..., -3.7855e-02,\n",
       "            -3.7855e-02, -1.7640e-01],\n",
       "           [ 2.6065e-01,  3.6738e-01,  3.6738e-01,  ...,  3.7816e-01,\n",
       "             3.7816e-01, -2.5811e-02],\n",
       "           [ 2.6065e-01,  3.6738e-01,  3.6738e-01,  ...,  3.7816e-01,\n",
       "             3.7816e-01, -2.5811e-02],\n",
       "           ...,\n",
       "           [-1.7071e-01, -2.2447e-01, -2.2447e-01,  ..., -1.3973e-01,\n",
       "            -1.3973e-01, -2.6338e-02],\n",
       "           [-1.7071e-01, -2.2447e-01, -2.2447e-01,  ..., -1.3973e-01,\n",
       "            -1.3973e-01, -2.6338e-02],\n",
       "           [-2.5001e-01, -2.4120e-01, -2.4120e-01,  ..., -1.4931e-01,\n",
       "            -1.4931e-01,  1.6860e-02]],\n",
       "\n",
       "          [[-6.3117e-02, -3.7545e-02, -3.7545e-02,  ..., -3.7855e-02,\n",
       "            -3.7855e-02, -1.7640e-01],\n",
       "           [ 2.6065e-01,  3.6738e-01,  3.6738e-01,  ...,  3.7816e-01,\n",
       "             3.7816e-01, -2.5811e-02],\n",
       "           [ 2.6065e-01,  3.6738e-01,  3.6738e-01,  ...,  3.7816e-01,\n",
       "             3.7816e-01, -2.5811e-02],\n",
       "           ...,\n",
       "           [-1.7071e-01, -2.2447e-01, -2.2447e-01,  ..., -1.3973e-01,\n",
       "            -1.3973e-01, -2.6338e-02],\n",
       "           [-1.7071e-01, -2.2447e-01, -2.2447e-01,  ..., -1.3973e-01,\n",
       "            -1.3973e-01, -2.6338e-02],\n",
       "           [-2.5001e-01, -2.4120e-01, -2.4120e-01,  ..., -1.4931e-01,\n",
       "            -1.4931e-01,  1.6860e-02]],\n",
       "\n",
       "          [[-1.4220e-01,  7.4699e-03,  7.4699e-03,  ...,  8.3925e-03,\n",
       "             8.3925e-03, -7.2941e-02],\n",
       "           [-4.0486e-02,  2.5940e-01,  2.5940e-01,  ...,  2.6723e-01,\n",
       "             2.6723e-01,  1.6482e-02],\n",
       "           [-4.0486e-02,  2.5940e-01,  2.5940e-01,  ...,  2.6723e-01,\n",
       "             2.6723e-01,  1.6482e-02],\n",
       "           ...,\n",
       "           [-1.9039e-02, -1.7008e-01, -1.7008e-01,  ..., -1.0859e-01,\n",
       "            -1.0859e-01, -3.8210e-02],\n",
       "           [-1.9039e-02, -1.7008e-01, -1.7008e-01,  ..., -1.0859e-01,\n",
       "            -1.0859e-01, -3.8210e-02],\n",
       "           [-1.3558e-01, -2.5631e-01, -2.5631e-01,  ..., -1.5797e-01,\n",
       "            -1.5797e-01, -6.1834e-02]]],\n",
       "\n",
       "\n",
       "         [[[-1.5821e-01, -1.8442e-01, -1.8442e-01,  ..., -1.6154e-01,\n",
       "            -1.6154e-01, -1.1943e-01],\n",
       "           [-1.3791e-01, -1.9270e-01, -1.9270e-01,  ..., -1.6798e-01,\n",
       "            -1.6798e-01, -1.2528e-01],\n",
       "           [-1.3791e-01, -1.9270e-01, -1.9270e-01,  ..., -1.6798e-01,\n",
       "            -1.6798e-01, -1.2528e-01],\n",
       "           ...,\n",
       "           [ 2.4751e-01,  5.6642e-01,  5.6642e-01,  ..., -8.3975e-01,\n",
       "            -8.3975e-01, -4.6573e-01],\n",
       "           [ 2.4751e-01,  5.6642e-01,  5.6642e-01,  ..., -8.3975e-01,\n",
       "            -8.3975e-01, -4.6573e-01],\n",
       "           [ 1.1789e-02,  1.4601e-01,  1.4601e-01,  ..., -3.4760e-01,\n",
       "            -3.4760e-01, -1.8890e-01]],\n",
       "\n",
       "          [[-1.7558e-01, -1.6357e-01, -1.6357e-01,  ..., -1.4532e-01,\n",
       "            -1.4532e-01, -9.0079e-02],\n",
       "           [-1.6187e-01, -1.9449e-01, -1.9449e-01,  ..., -1.6937e-01,\n",
       "            -1.6937e-01, -1.1957e-01],\n",
       "           [-1.6187e-01, -1.9449e-01, -1.9449e-01,  ..., -1.6937e-01,\n",
       "            -1.6937e-01, -1.1957e-01],\n",
       "           ...,\n",
       "           [ 3.8697e-01,  5.7681e-01,  5.7681e-01,  ..., -8.5192e-01,\n",
       "            -8.5192e-01, -4.1577e-01],\n",
       "           [ 3.8697e-01,  5.7681e-01,  5.7681e-01,  ..., -8.5192e-01,\n",
       "            -8.5192e-01, -4.1577e-01],\n",
       "           [-2.4546e-02,  6.8971e-02,  6.8971e-02,  ..., -2.5741e-01,\n",
       "            -2.5741e-01, -1.1220e-01]],\n",
       "\n",
       "          [[-1.7558e-01, -1.6357e-01, -1.6357e-01,  ..., -1.4532e-01,\n",
       "            -1.4532e-01, -9.0079e-02],\n",
       "           [-1.6187e-01, -1.9449e-01, -1.9449e-01,  ..., -1.6937e-01,\n",
       "            -1.6937e-01, -1.1957e-01],\n",
       "           [-1.6187e-01, -1.9449e-01, -1.9449e-01,  ..., -1.6937e-01,\n",
       "            -1.6937e-01, -1.1957e-01],\n",
       "           ...,\n",
       "           [ 3.8697e-01,  5.7681e-01,  5.7681e-01,  ..., -8.5192e-01,\n",
       "            -8.5192e-01, -4.1577e-01],\n",
       "           [ 3.8697e-01,  5.7681e-01,  5.7681e-01,  ..., -8.5192e-01,\n",
       "            -8.5192e-01, -4.1577e-01],\n",
       "           [-2.4546e-02,  6.8971e-02,  6.8971e-02,  ..., -2.5741e-01,\n",
       "            -2.5741e-01, -1.1220e-01]],\n",
       "\n",
       "          ...,\n",
       "\n",
       "          [[-8.0252e-01, -7.1057e-01, -7.1057e-01,  ..., -7.2780e-01,\n",
       "            -7.2780e-01, -1.6924e-01],\n",
       "           [-6.9752e-01, -9.4725e-01, -9.4725e-01,  ..., -9.7096e-01,\n",
       "            -9.7096e-01, -4.6744e-01],\n",
       "           [-6.9752e-01, -9.4725e-01, -9.4725e-01,  ..., -9.7096e-01,\n",
       "            -9.7096e-01, -4.6744e-01],\n",
       "           ...,\n",
       "           [ 2.2893e-01,  3.5471e-01,  3.5471e-01,  ...,  1.6831e-01,\n",
       "             1.6831e-01,  2.6974e-02],\n",
       "           [ 2.2893e-01,  3.5471e-01,  3.5471e-01,  ...,  1.6831e-01,\n",
       "             1.6831e-01,  2.6974e-02],\n",
       "           [-4.3727e-02,  1.8234e-02,  1.8234e-02,  ..., -2.4347e-02,\n",
       "            -2.4347e-02, -7.1404e-02]],\n",
       "\n",
       "          [[-8.0252e-01, -7.1057e-01, -7.1057e-01,  ..., -7.2780e-01,\n",
       "            -7.2780e-01, -1.6924e-01],\n",
       "           [-6.9752e-01, -9.4725e-01, -9.4725e-01,  ..., -9.7096e-01,\n",
       "            -9.7096e-01, -4.6744e-01],\n",
       "           [-6.9752e-01, -9.4725e-01, -9.4725e-01,  ..., -9.7096e-01,\n",
       "            -9.7096e-01, -4.6744e-01],\n",
       "           ...,\n",
       "           [ 2.2893e-01,  3.5471e-01,  3.5471e-01,  ...,  1.6831e-01,\n",
       "             1.6831e-01,  2.6974e-02],\n",
       "           [ 2.2893e-01,  3.5471e-01,  3.5471e-01,  ...,  1.6831e-01,\n",
       "             1.6831e-01,  2.6974e-02],\n",
       "           [-4.3727e-02,  1.8234e-02,  1.8234e-02,  ..., -2.4347e-02,\n",
       "            -2.4347e-02, -7.1404e-02]],\n",
       "\n",
       "          [[-5.2949e-01, -2.7570e-01, -2.7570e-01,  ..., -2.8103e-01,\n",
       "            -2.8103e-01,  6.2608e-02],\n",
       "           [-4.9253e-01, -3.9345e-01, -3.9345e-01,  ..., -4.0200e-01,\n",
       "            -4.0200e-01, -3.9205e-02],\n",
       "           [-4.9253e-01, -3.9345e-01, -3.9345e-01,  ..., -4.0200e-01,\n",
       "            -4.0200e-01, -3.9205e-02],\n",
       "           ...,\n",
       "           [ 1.2568e-01,  7.5786e-02,  7.5786e-02,  ...,  8.6061e-03,\n",
       "             8.6061e-03, -9.3232e-02],\n",
       "           [ 1.2568e-01,  7.5786e-02,  7.5786e-02,  ...,  8.6061e-03,\n",
       "             8.6061e-03, -9.3232e-02],\n",
       "           [-7.8749e-02, -1.5495e-01, -1.5495e-01,  ..., -1.2351e-01,\n",
       "            -1.2351e-01, -1.4676e-01]]],\n",
       "\n",
       "\n",
       "         [[[ 8.5457e-02,  6.7756e-02,  6.7756e-02,  ...,  6.9577e-02,\n",
       "             6.9577e-02,  5.3437e-02],\n",
       "           [ 1.6357e-01,  1.4512e-01,  1.4512e-01,  ...,  1.2976e-01,\n",
       "             1.2976e-01,  7.6050e-02],\n",
       "           [ 1.6357e-01,  1.4512e-01,  1.4512e-01,  ...,  1.2976e-01,\n",
       "             1.2976e-01,  7.6050e-02],\n",
       "           ...,\n",
       "           [-4.3392e-01, -3.2654e-01, -3.2654e-01,  ...,  5.4714e-01,\n",
       "             5.4714e-01,  7.6776e-02],\n",
       "           [-4.3392e-01, -3.2654e-01, -3.2654e-01,  ...,  5.4714e-01,\n",
       "             5.4714e-01,  7.6776e-02],\n",
       "           [-4.0537e-01, -1.6012e-01, -1.6012e-01,  ...,  3.5232e-01,\n",
       "             3.5232e-01, -8.8811e-03]],\n",
       "\n",
       "          [[ 7.8660e-02,  3.0136e-02,  3.0136e-02,  ...,  4.0311e-02,\n",
       "             4.0311e-02,  1.4672e-02],\n",
       "           [ 1.5921e-01,  9.9599e-02,  9.9599e-02,  ...,  9.4349e-02,\n",
       "             9.4349e-02,  1.4045e-02],\n",
       "           [ 1.5921e-01,  9.9599e-02,  9.9599e-02,  ...,  9.4349e-02,\n",
       "             9.4349e-02,  1.4045e-02],\n",
       "           ...,\n",
       "           [-4.0857e-01, -6.1640e-02, -6.1640e-02,  ...,  2.3703e-01,\n",
       "             2.3703e-01, -4.6624e-01],\n",
       "           [-4.0857e-01, -6.1640e-02, -6.1640e-02,  ...,  2.3703e-01,\n",
       "             2.3703e-01, -4.6624e-01],\n",
       "           [-3.9920e-01,  4.7135e-02,  4.7135e-02,  ...,  1.0970e-01,\n",
       "             1.0970e-01, -4.1638e-01]],\n",
       "\n",
       "          [[ 7.8660e-02,  3.0136e-02,  3.0136e-02,  ...,  4.0311e-02,\n",
       "             4.0311e-02,  1.4672e-02],\n",
       "           [ 1.5921e-01,  9.9599e-02,  9.9599e-02,  ...,  9.4349e-02,\n",
       "             9.4349e-02,  1.4045e-02],\n",
       "           [ 1.5921e-01,  9.9599e-02,  9.9599e-02,  ...,  9.4349e-02,\n",
       "             9.4349e-02,  1.4045e-02],\n",
       "           ...,\n",
       "           [-4.0857e-01, -6.1640e-02, -6.1640e-02,  ...,  2.3703e-01,\n",
       "             2.3703e-01, -4.6624e-01],\n",
       "           [-4.0857e-01, -6.1640e-02, -6.1640e-02,  ...,  2.3703e-01,\n",
       "             2.3703e-01, -4.6624e-01],\n",
       "           [-3.9920e-01,  4.7135e-02,  4.7135e-02,  ...,  1.0970e-01,\n",
       "             1.0970e-01, -4.1638e-01]],\n",
       "\n",
       "          ...,\n",
       "\n",
       "          [[ 9.6654e-02, -2.7483e-01, -2.7483e-01,  ..., -2.8444e-01,\n",
       "            -2.8444e-01, -5.4367e-01],\n",
       "           [ 7.1335e-01,  2.5696e-01,  2.5696e-01,  ...,  2.6192e-01,\n",
       "             2.6192e-01, -5.5000e-01],\n",
       "           [ 7.1335e-01,  2.5696e-01,  2.5696e-01,  ...,  2.6192e-01,\n",
       "             2.6192e-01, -5.5000e-01],\n",
       "           ...,\n",
       "           [-2.4508e-01, -1.5211e-02, -1.5211e-02,  ...,  2.3756e-02,\n",
       "             2.3756e-02,  2.5167e-01],\n",
       "           [-2.4508e-01, -1.5211e-02, -1.5211e-02,  ...,  2.3756e-02,\n",
       "             2.3756e-02,  2.5167e-01],\n",
       "           [-2.3887e-01,  5.6860e-02,  5.6860e-02,  ...,  6.5022e-02,\n",
       "             6.5022e-02,  2.3551e-01]],\n",
       "\n",
       "          [[ 9.6654e-02, -2.7483e-01, -2.7483e-01,  ..., -2.8444e-01,\n",
       "            -2.8444e-01, -5.4367e-01],\n",
       "           [ 7.1335e-01,  2.5696e-01,  2.5696e-01,  ...,  2.6192e-01,\n",
       "             2.6192e-01, -5.5000e-01],\n",
       "           [ 7.1335e-01,  2.5696e-01,  2.5696e-01,  ...,  2.6192e-01,\n",
       "             2.6192e-01, -5.5000e-01],\n",
       "           ...,\n",
       "           [-2.4508e-01, -1.5211e-02, -1.5211e-02,  ...,  2.3756e-02,\n",
       "             2.3756e-02,  2.5167e-01],\n",
       "           [-2.4508e-01, -1.5211e-02, -1.5211e-02,  ...,  2.3756e-02,\n",
       "             2.3756e-02,  2.5167e-01],\n",
       "           [-2.3887e-01,  5.6860e-02,  5.6860e-02,  ...,  6.5022e-02,\n",
       "             6.5022e-02,  2.3551e-01]],\n",
       "\n",
       "          [[-1.4032e-01, -4.6661e-01, -4.6661e-01,  ..., -4.8147e-01,\n",
       "            -4.8147e-01, -4.9573e-01],\n",
       "           [ 1.4394e-01, -2.2183e-01, -2.2183e-01,  ..., -2.2999e-01,\n",
       "            -2.2999e-01, -6.0710e-01],\n",
       "           [ 1.4394e-01, -2.2183e-01, -2.2183e-01,  ..., -2.2999e-01,\n",
       "            -2.2999e-01, -6.0710e-01],\n",
       "           ...,\n",
       "           [ 4.1713e-02,  2.2594e-01,  2.2594e-01,  ...,  1.6184e-01,\n",
       "             1.6184e-01,  2.6769e-01],\n",
       "           [ 4.1713e-02,  2.2594e-01,  2.2594e-01,  ...,  1.6184e-01,\n",
       "             1.6184e-01,  2.6769e-01],\n",
       "           [-2.6780e-02,  1.5705e-01,  1.5705e-01,  ...,  1.2239e-01,\n",
       "             1.2239e-01,  1.9077e-01]]]],\n",
       "\n",
       "\n",
       "\n",
       "        [[[[-2.5284e-02,  2.2804e-02,  2.2804e-02,  ..., -3.7370e-02,\n",
       "            -3.7370e-02, -5.4118e-02],\n",
       "           [-1.9875e-01, -1.7435e-01, -1.7435e-01,  ...,  7.4586e-03,\n",
       "             7.4586e-03, -3.0293e-02],\n",
       "           [-1.9875e-01, -1.7435e-01, -1.7435e-01,  ...,  7.4586e-03,\n",
       "             7.4586e-03, -3.0293e-02],\n",
       "           ...,\n",
       "           [ 2.9361e-02,  2.1500e-02,  2.1500e-02,  ...,  6.7391e-01,\n",
       "             6.7391e-01, -1.1084e-01],\n",
       "           [ 2.9361e-02,  2.1500e-02,  2.1500e-02,  ...,  6.7391e-01,\n",
       "             6.7391e-01, -1.1084e-01],\n",
       "           [ 2.0146e-02,  1.0230e-02,  1.0230e-02,  ...,  5.0857e-01,\n",
       "             5.0857e-01, -3.2887e-01]],\n",
       "\n",
       "          [[-1.1714e-02, -2.1770e-02, -2.1770e-02,  ..., -2.7235e-02,\n",
       "            -2.7235e-02, -3.9292e-02],\n",
       "           [-1.3903e-01, -1.8100e-01, -1.8100e-01,  ...,  8.9700e-03,\n",
       "             8.9700e-03, -2.6187e-02],\n",
       "           [-1.3903e-01, -1.8100e-01, -1.8100e-01,  ...,  8.9700e-03,\n",
       "             8.9700e-03, -2.6187e-02],\n",
       "           ...,\n",
       "           [ 1.0120e-02,  2.3641e-02,  2.3641e-02,  ...,  7.0532e-01,\n",
       "             7.0532e-01, -2.5478e-02],\n",
       "           [ 1.0120e-02,  2.3641e-02,  2.3641e-02,  ...,  7.0532e-01,\n",
       "             7.0532e-01, -2.5478e-02],\n",
       "           [ 3.0067e-02,  2.7850e-02,  2.7850e-02,  ...,  7.6708e-01,\n",
       "             7.6708e-01, -3.0388e-01]],\n",
       "\n",
       "          [[-1.1714e-02, -2.1770e-02, -2.1770e-02,  ..., -2.7235e-02,\n",
       "            -2.7235e-02, -3.9292e-02],\n",
       "           [-1.3903e-01, -1.8100e-01, -1.8100e-01,  ...,  8.9700e-03,\n",
       "             8.9700e-03, -2.6187e-02],\n",
       "           [-1.3903e-01, -1.8100e-01, -1.8100e-01,  ...,  8.9700e-03,\n",
       "             8.9700e-03, -2.6187e-02],\n",
       "           ...,\n",
       "           [ 1.0120e-02,  2.3641e-02,  2.3641e-02,  ...,  7.0532e-01,\n",
       "             7.0532e-01, -2.5478e-02],\n",
       "           [ 1.0120e-02,  2.3641e-02,  2.3641e-02,  ...,  7.0532e-01,\n",
       "             7.0532e-01, -2.5478e-02],\n",
       "           [ 3.0067e-02,  2.7850e-02,  2.7850e-02,  ...,  7.6708e-01,\n",
       "             7.6708e-01, -3.0388e-01]],\n",
       "\n",
       "          ...,\n",
       "\n",
       "          [[-3.1545e-03, -1.9143e-02, -1.9143e-02,  ..., -2.8581e-02,\n",
       "            -2.8581e-02, -5.6673e-02],\n",
       "           [-2.0558e-01, -2.7232e-01, -2.7232e-01,  ...,  5.5771e-02,\n",
       "             5.5771e-02, -2.6139e-02],\n",
       "           [-2.0558e-01, -2.7232e-01, -2.7232e-01,  ...,  5.5771e-02,\n",
       "             5.5771e-02, -2.6139e-02],\n",
       "           ...,\n",
       "           [ 1.7702e-01,  2.5263e-01,  2.5263e-01,  ..., -2.0880e-03,\n",
       "            -2.0880e-03, -2.6198e-02],\n",
       "           [ 1.7702e-01,  2.5263e-01,  2.5263e-01,  ..., -2.0880e-03,\n",
       "            -2.0880e-03, -2.6198e-02],\n",
       "           [ 2.8857e-01,  2.7617e-01,  2.7617e-01,  ..., -5.0673e-05,\n",
       "            -5.0673e-05, -3.5383e-02]],\n",
       "\n",
       "          [[-3.1545e-03, -1.9143e-02, -1.9143e-02,  ..., -2.8581e-02,\n",
       "            -2.8581e-02, -5.6673e-02],\n",
       "           [-2.0558e-01, -2.7232e-01, -2.7232e-01,  ...,  5.5771e-02,\n",
       "             5.5771e-02, -2.6139e-02],\n",
       "           [-2.0558e-01, -2.7232e-01, -2.7232e-01,  ...,  5.5771e-02,\n",
       "             5.5771e-02, -2.6139e-02],\n",
       "           ...,\n",
       "           [ 1.7702e-01,  2.5263e-01,  2.5263e-01,  ..., -2.0880e-03,\n",
       "            -2.0880e-03, -2.6198e-02],\n",
       "           [ 1.7702e-01,  2.5263e-01,  2.5263e-01,  ..., -2.0880e-03,\n",
       "            -2.0880e-03, -2.6198e-02],\n",
       "           [ 2.8857e-01,  2.7617e-01,  2.7617e-01,  ..., -5.0673e-05,\n",
       "            -5.0673e-05, -3.5383e-02]],\n",
       "\n",
       "          [[ 4.6289e-02, -4.7288e-02, -4.7288e-02,  ..., -1.9204e-02,\n",
       "            -1.9204e-02, -3.5695e-02],\n",
       "           [-1.7305e-02, -2.0481e-01, -2.0481e-01,  ...,  3.3278e-02,\n",
       "             3.3278e-02, -1.7564e-02],\n",
       "           [-1.7305e-02, -2.0481e-01, -2.0481e-01,  ...,  3.3278e-02,\n",
       "             3.3278e-02, -1.7564e-02],\n",
       "           ...,\n",
       "           [-3.6327e-02,  1.7614e-01,  1.7614e-01,  ..., -8.7086e-03,\n",
       "            -8.7086e-03, -2.3674e-02],\n",
       "           [-3.6327e-02,  1.7614e-01,  1.7614e-01,  ..., -8.7086e-03,\n",
       "            -8.7086e-03, -2.3674e-02],\n",
       "           [ 1.2760e-01,  2.9743e-01,  2.9743e-01,  ...,  1.7893e-03,\n",
       "             1.7893e-03, -1.8651e-02]]],\n",
       "\n",
       "\n",
       "         [[[ 1.4989e-01,  2.2879e-01,  2.2879e-01,  ..., -1.5192e-01,\n",
       "            -1.5192e-01, -1.1486e-01],\n",
       "           [ 8.8749e-02,  2.5371e-01,  2.5371e-01,  ..., -1.5759e-01,\n",
       "            -1.5759e-01, -1.2001e-01],\n",
       "           [ 8.8749e-02,  2.5371e-01,  2.5371e-01,  ..., -1.5759e-01,\n",
       "            -1.5759e-01, -1.2001e-01],\n",
       "           ...,\n",
       "           [-1.3620e-01, -1.8935e-01, -1.8935e-01,  ..., -1.6653e+00,\n",
       "            -1.6653e+00, -8.8411e-01],\n",
       "           [-1.3620e-01, -1.8935e-01, -1.8935e-01,  ..., -1.6653e+00,\n",
       "            -1.6653e+00, -8.8411e-01],\n",
       "           [-9.6919e-02, -1.1929e-01, -1.1929e-01,  ..., -6.3738e-01,\n",
       "            -6.3738e-01, -3.0593e-01]],\n",
       "\n",
       "          [[ 2.0218e-01,  1.6602e-01,  1.6602e-01,  ..., -1.3765e-01,\n",
       "            -1.3765e-01, -8.9036e-02],\n",
       "           [ 1.6089e-01,  2.5909e-01,  2.5909e-01,  ..., -1.5881e-01,\n",
       "            -1.5881e-01, -1.1499e-01],\n",
       "           [ 1.6089e-01,  2.5909e-01,  2.5909e-01,  ..., -1.5881e-01,\n",
       "            -1.5881e-01, -1.1499e-01],\n",
       "           ...,\n",
       "           [-1.5945e-01, -1.9108e-01, -1.9108e-01,  ..., -1.6907e+00,\n",
       "            -1.6907e+00, -7.7977e-01],\n",
       "           [-1.5945e-01, -1.9108e-01, -1.9108e-01,  ..., -1.6907e+00,\n",
       "            -1.6907e+00, -7.7977e-01],\n",
       "           [-9.0863e-02, -1.0645e-01, -1.0645e-01,  ..., -4.4902e-01,\n",
       "            -4.4902e-01, -1.4575e-01]],\n",
       "\n",
       "          [[ 2.0218e-01,  1.6602e-01,  1.6602e-01,  ..., -1.3765e-01,\n",
       "            -1.3765e-01, -8.9036e-02],\n",
       "           [ 1.6089e-01,  2.5909e-01,  2.5909e-01,  ..., -1.5881e-01,\n",
       "            -1.5881e-01, -1.1499e-01],\n",
       "           [ 1.6089e-01,  2.5909e-01,  2.5909e-01,  ..., -1.5881e-01,\n",
       "            -1.5881e-01, -1.1499e-01],\n",
       "           ...,\n",
       "           [-1.5945e-01, -1.9108e-01, -1.9108e-01,  ..., -1.6907e+00,\n",
       "            -1.6907e+00, -7.7977e-01],\n",
       "           [-1.5945e-01, -1.9108e-01, -1.9108e-01,  ..., -1.6907e+00,\n",
       "            -1.6907e+00, -7.7977e-01],\n",
       "           [-9.0863e-02, -1.0645e-01, -1.0645e-01,  ..., -4.4902e-01,\n",
       "            -4.4902e-01, -1.4575e-01]],\n",
       "\n",
       "          ...,\n",
       "\n",
       "          [[ 3.6949e-01,  3.1200e-01,  3.1200e-01,  ..., -2.1246e-01,\n",
       "            -2.1246e-01, -9.9204e-02],\n",
       "           [ 3.0384e-01,  4.5998e-01,  4.5998e-01,  ..., -2.6176e-01,\n",
       "            -2.6176e-01, -1.5967e-01],\n",
       "           [ 3.0384e-01,  4.5998e-01,  4.5998e-01,  ..., -2.6176e-01,\n",
       "            -2.6176e-01, -1.5967e-01],\n",
       "           ...,\n",
       "           [-5.1790e-01, -6.9482e-01, -6.9482e-01,  ..., -1.3448e-01,\n",
       "            -1.3448e-01, -1.0443e-01],\n",
       "           [-5.1790e-01, -6.9482e-01, -6.9482e-01,  ..., -1.3448e-01,\n",
       "            -1.3448e-01, -1.0443e-01],\n",
       "           [-1.3437e-01, -2.2152e-01, -2.2152e-01,  ..., -9.3519e-02,\n",
       "            -9.3519e-02, -8.3513e-02]],\n",
       "\n",
       "          [[ 3.6949e-01,  3.1200e-01,  3.1200e-01,  ..., -2.1246e-01,\n",
       "            -2.1246e-01, -9.9204e-02],\n",
       "           [ 3.0384e-01,  4.5998e-01,  4.5998e-01,  ..., -2.6176e-01,\n",
       "            -2.6176e-01, -1.5967e-01],\n",
       "           [ 3.0384e-01,  4.5998e-01,  4.5998e-01,  ..., -2.6176e-01,\n",
       "            -2.6176e-01, -1.5967e-01],\n",
       "           ...,\n",
       "           [-5.1790e-01, -6.9482e-01, -6.9482e-01,  ..., -1.3448e-01,\n",
       "            -1.3448e-01, -1.0443e-01],\n",
       "           [-5.1790e-01, -6.9482e-01, -6.9482e-01,  ..., -1.3448e-01,\n",
       "            -1.3448e-01, -1.0443e-01],\n",
       "           [-1.3437e-01, -2.2152e-01, -2.2152e-01,  ..., -9.3519e-02,\n",
       "            -9.3519e-02, -8.3513e-02]],\n",
       "\n",
       "          [[ 1.9878e-01,  4.0103e-02,  4.0103e-02,  ..., -1.2187e-01,\n",
       "            -1.2187e-01, -5.2192e-02],\n",
       "           [ 1.7567e-01,  1.1373e-01,  1.1373e-01,  ..., -1.4640e-01,\n",
       "            -1.4640e-01, -7.2836e-02],\n",
       "           [ 1.7567e-01,  1.1373e-01,  1.1373e-01,  ..., -1.4640e-01,\n",
       "            -1.4640e-01, -7.2836e-02],\n",
       "           ...,\n",
       "           [-3.7267e-01, -3.0248e-01, -3.0248e-01,  ..., -1.0053e-01,\n",
       "            -1.0053e-01, -7.8872e-02],\n",
       "           [-3.7267e-01, -3.0248e-01, -3.0248e-01,  ..., -1.0053e-01,\n",
       "            -1.0053e-01, -7.8872e-02],\n",
       "           [-8.5105e-02,  2.2086e-02,  2.2086e-02,  ..., -7.2434e-02,\n",
       "            -7.2434e-02, -6.7492e-02]]],\n",
       "\n",
       "\n",
       "         [[[ 4.7353e-02,  1.0064e-01,  1.0064e-01,  ...,  7.0343e-02,\n",
       "             7.0343e-02,  5.6141e-02],\n",
       "           [-1.8780e-01, -1.3225e-01, -1.3225e-01,  ...,  1.2330e-01,\n",
       "             1.2330e-01,  7.6039e-02],\n",
       "           [-1.8780e-01, -1.3225e-01, -1.3225e-01,  ...,  1.2330e-01,\n",
       "             1.2330e-01,  7.6039e-02],\n",
       "           ...,\n",
       "           [ 1.6093e-01,  1.4303e-01,  1.4303e-01,  ...,  1.0600e+00,\n",
       "             1.0600e+00,  7.7668e-02],\n",
       "           [ 1.6093e-01,  1.4303e-01,  1.4303e-01,  ...,  1.0600e+00,\n",
       "             1.0600e+00,  7.7668e-02],\n",
       "           [ 1.5617e-01,  1.1530e-01,  1.1530e-01,  ...,  6.5316e-01,\n",
       "             6.5316e-01, -1.0123e-01]],\n",
       "\n",
       "          [[ 6.7817e-02,  2.1390e-01,  2.1390e-01,  ...,  4.4592e-02,\n",
       "             4.4592e-02,  2.2031e-02],\n",
       "           [-1.7469e-01,  4.7788e-03,  4.7788e-03,  ...,  9.2140e-02,\n",
       "             9.2140e-02,  2.1480e-02],\n",
       "           [-1.7469e-01,  4.7788e-03,  4.7788e-03,  ...,  9.2140e-02,\n",
       "             9.2140e-02,  2.1480e-02],\n",
       "           ...,\n",
       "           [ 1.5670e-01,  9.8887e-02,  9.8887e-02,  ...,  4.1238e-01,\n",
       "             4.1238e-01, -1.0564e+00],\n",
       "           [ 1.5670e-01,  9.8887e-02,  9.8887e-02,  ...,  4.1238e-01,\n",
       "             4.1238e-01, -1.0564e+00],\n",
       "           [ 1.5514e-01,  8.0759e-02,  8.0759e-02,  ...,  1.4642e-01,\n",
       "             1.4642e-01, -9.5233e-01]],\n",
       "\n",
       "          [[ 6.7817e-02,  2.1390e-01,  2.1390e-01,  ...,  4.4592e-02,\n",
       "             4.4592e-02,  2.2031e-02],\n",
       "           [-1.7469e-01,  4.7788e-03,  4.7788e-03,  ...,  9.2140e-02,\n",
       "             9.2140e-02,  2.1480e-02],\n",
       "           [-1.7469e-01,  4.7788e-03,  4.7788e-03,  ...,  9.2140e-02,\n",
       "             9.2140e-02,  2.1480e-02],\n",
       "           ...,\n",
       "           [ 1.5670e-01,  9.8887e-02,  9.8887e-02,  ...,  4.1238e-01,\n",
       "             4.1238e-01, -1.0564e+00],\n",
       "           [ 1.5670e-01,  9.8887e-02,  9.8887e-02,  ...,  4.1238e-01,\n",
       "             4.1238e-01, -1.0564e+00],\n",
       "           [ 1.5514e-01,  8.0759e-02,  8.0759e-02,  ...,  1.4642e-01,\n",
       "             1.4642e-01, -9.5233e-01]],\n",
       "\n",
       "          ...,\n",
       "\n",
       "          [[ 6.3015e-02,  2.9528e-01,  2.9528e-01,  ...,  2.8808e-03,\n",
       "             2.8808e-03, -4.9681e-02],\n",
       "           [-3.2257e-01, -3.7217e-02, -3.7217e-02,  ...,  1.1366e-01,\n",
       "             1.1366e-01, -5.0966e-02],\n",
       "           [-3.2257e-01, -3.7217e-02, -3.7217e-02,  ...,  1.1366e-01,\n",
       "             1.1366e-01, -5.0966e-02],\n",
       "           ...,\n",
       "           [ 5.2753e-01,  2.0419e-01,  2.0419e-01,  ...,  8.7055e-02,\n",
       "             8.7055e-02,  3.8597e-02],\n",
       "           [ 5.2753e-01,  2.0419e-01,  2.0419e-01,  ...,  8.7055e-02,\n",
       "             8.7055e-02,  3.8597e-02],\n",
       "           [ 5.1880e-01,  1.0282e-01,  1.0282e-01,  ...,  7.8281e-02,\n",
       "             7.8281e-02,  4.2032e-02]],\n",
       "\n",
       "          [[ 6.3015e-02,  2.9528e-01,  2.9528e-01,  ...,  2.8808e-03,\n",
       "             2.8808e-03, -4.9681e-02],\n",
       "           [-3.2257e-01, -3.7217e-02, -3.7217e-02,  ...,  1.1366e-01,\n",
       "             1.1366e-01, -5.0966e-02],\n",
       "           [-3.2257e-01, -3.7217e-02, -3.7217e-02,  ...,  1.1366e-01,\n",
       "             1.1366e-01, -5.0966e-02],\n",
       "           ...,\n",
       "           [ 5.2753e-01,  2.0419e-01,  2.0419e-01,  ...,  8.7055e-02,\n",
       "             8.7055e-02,  3.8597e-02],\n",
       "           [ 5.2753e-01,  2.0419e-01,  2.0419e-01,  ...,  8.7055e-02,\n",
       "             8.7055e-02,  3.8597e-02],\n",
       "           [ 5.1880e-01,  1.0282e-01,  1.0282e-01,  ...,  7.8281e-02,\n",
       "             7.8281e-02,  4.2032e-02]],\n",
       "\n",
       "          [[ 2.1118e-01,  4.1519e-01,  4.1519e-01,  ..., -3.7070e-02,\n",
       "            -3.7070e-02, -3.9961e-02],\n",
       "           [ 3.3448e-02,  2.6215e-01,  2.6215e-01,  ...,  1.3922e-02,\n",
       "             1.3922e-02, -6.2544e-02],\n",
       "           [ 3.3448e-02,  2.6215e-01,  2.6215e-01,  ...,  1.3922e-02,\n",
       "             1.3922e-02, -6.2544e-02],\n",
       "           ...,\n",
       "           [ 1.2412e-01, -1.3502e-01, -1.3502e-01,  ...,  5.7697e-02,\n",
       "             5.7697e-02,  3.5189e-02],\n",
       "           [ 1.2412e-01, -1.3502e-01, -1.3502e-01,  ...,  5.7697e-02,\n",
       "             5.7697e-02,  3.5189e-02],\n",
       "           [ 2.2047e-01, -3.8115e-02, -3.8115e-02,  ...,  6.6084e-02,\n",
       "             6.6084e-02,  5.1546e-02]]]],\n",
       "\n",
       "\n",
       "\n",
       "        [[[[-2.5985e-02, -1.3810e-02, -1.3810e-02,  ..., -5.1280e-02,\n",
       "            -5.1280e-02, -8.8925e-02],\n",
       "           [-6.9901e-02, -6.3724e-02, -6.3724e-02,  ...,  4.9484e-02,\n",
       "             4.9484e-02, -3.5372e-02],\n",
       "           [-6.9901e-02, -6.3724e-02, -6.3724e-02,  ...,  4.9484e-02,\n",
       "             4.9484e-02, -3.5372e-02],\n",
       "           ...,\n",
       "           [-2.8258e-01, -2.4633e-01, -2.4633e-01,  ..., -2.4182e-01,\n",
       "            -2.4182e-01, -1.6723e-04],\n",
       "           [-2.8258e-01, -2.4633e-01, -2.4633e-01,  ..., -2.4182e-01,\n",
       "            -2.4182e-01, -1.6723e-04],\n",
       "           [-2.4008e-01, -1.9435e-01, -1.9435e-01,  ..., -1.9090e-01,\n",
       "            -1.9090e-01,  6.6974e-02]],\n",
       "\n",
       "          [[-2.2549e-02, -2.5095e-02, -2.5095e-02,  ..., -2.8498e-02,\n",
       "            -2.8498e-02, -5.5600e-02],\n",
       "           [-5.4781e-02, -6.5407e-02, -6.5407e-02,  ...,  5.2881e-02,\n",
       "             5.2881e-02, -2.6142e-02],\n",
       "           [-5.4781e-02, -6.5407e-02, -6.5407e-02,  ...,  5.2881e-02,\n",
       "             5.2881e-02, -2.6142e-02],\n",
       "           ...,\n",
       "           [-1.9384e-01, -2.5620e-01, -2.5620e-01,  ..., -2.5149e-01,\n",
       "            -2.5149e-01, -2.6452e-02],\n",
       "           [-1.9384e-01, -2.5620e-01, -2.5620e-01,  ..., -2.5149e-01,\n",
       "            -2.5149e-01, -2.6452e-02],\n",
       "           [-2.8584e-01, -2.7562e-01, -2.7562e-01,  ..., -2.7051e-01,\n",
       "            -2.7051e-01,  5.9278e-02]],\n",
       "\n",
       "          [[-2.2549e-02, -2.5095e-02, -2.5095e-02,  ..., -2.8498e-02,\n",
       "            -2.8498e-02, -5.5600e-02],\n",
       "           [-5.4781e-02, -6.5407e-02, -6.5407e-02,  ...,  5.2881e-02,\n",
       "             5.2881e-02, -2.6142e-02],\n",
       "           [-5.4781e-02, -6.5407e-02, -6.5407e-02,  ...,  5.2881e-02,\n",
       "             5.2881e-02, -2.6142e-02],\n",
       "           ...,\n",
       "           [-1.9384e-01, -2.5620e-01, -2.5620e-01,  ..., -2.5149e-01,\n",
       "            -2.5149e-01, -2.6452e-02],\n",
       "           [-1.9384e-01, -2.5620e-01, -2.5620e-01,  ..., -2.5149e-01,\n",
       "            -2.5149e-01, -2.6452e-02],\n",
       "           [-2.8584e-01, -2.7562e-01, -2.7562e-01,  ..., -2.7051e-01,\n",
       "            -2.7051e-01,  5.9278e-02]],\n",
       "\n",
       "          ...,\n",
       "\n",
       "          [[-1.3882e-02, -2.2435e-02, -2.2435e-02,  ..., -2.6146e-02,\n",
       "            -2.6146e-02, -2.5242e-02],\n",
       "           [-1.2218e-01, -1.5788e-01, -1.5788e-01,  ..., -2.8864e-02,\n",
       "            -2.8864e-02, -2.6225e-02],\n",
       "           [-1.2218e-01, -1.5788e-01, -1.5788e-01,  ..., -2.8864e-02,\n",
       "            -2.8864e-02, -2.6225e-02],\n",
       "           ...,\n",
       "           [-3.0049e-01, -4.0253e-01, -4.0253e-01,  ...,  7.6640e-01,\n",
       "             7.6640e-01, -2.5416e-02],\n",
       "           [-3.0049e-01, -4.0253e-01, -4.0253e-01,  ...,  7.6640e-01,\n",
       "             7.6640e-01, -2.5416e-02],\n",
       "           [-4.5102e-01, -4.3430e-01, -4.3430e-01,  ...,  8.3331e-01,\n",
       "             8.3331e-01, -3.2706e-01]],\n",
       "\n",
       "          [[-1.3882e-02, -2.2435e-02, -2.2435e-02,  ..., -2.6146e-02,\n",
       "            -2.6146e-02, -2.5242e-02],\n",
       "           [-1.2218e-01, -1.5788e-01, -1.5788e-01,  ..., -2.8864e-02,\n",
       "            -2.8864e-02, -2.6225e-02],\n",
       "           [-1.2218e-01, -1.5788e-01, -1.5788e-01,  ..., -2.8864e-02,\n",
       "            -2.8864e-02, -2.6225e-02],\n",
       "           ...,\n",
       "           [-3.0049e-01, -4.0253e-01, -4.0253e-01,  ...,  7.6640e-01,\n",
       "             7.6640e-01, -2.5416e-02],\n",
       "           [-3.0049e-01, -4.0253e-01, -4.0253e-01,  ...,  7.6640e-01,\n",
       "             7.6640e-01, -2.5416e-02],\n",
       "           [-4.5102e-01, -4.3430e-01, -4.3430e-01,  ...,  8.3331e-01,\n",
       "             8.3331e-01, -3.2706e-01]],\n",
       "\n",
       "          [[ 1.2569e-02, -3.7492e-02, -3.7492e-02,  ..., -2.6449e-02,\n",
       "            -2.6449e-02, -2.5917e-02],\n",
       "           [-2.1452e-02, -1.2176e-01, -1.2176e-01,  ..., -2.8139e-02,\n",
       "            -2.8139e-02, -2.6501e-02],\n",
       "           [-2.1452e-02, -1.2176e-01, -1.2176e-01,  ..., -2.8139e-02,\n",
       "            -2.8139e-02, -2.6501e-02],\n",
       "           ...,\n",
       "           [-1.2586e-02, -2.9930e-01, -2.9930e-01,  ...,  5.4897e-01,\n",
       "             5.4897e-01,  5.7482e-02],\n",
       "           [-1.2586e-02, -2.9930e-01, -2.9930e-01,  ...,  5.4897e-01,\n",
       "             5.4897e-01,  5.7482e-02],\n",
       "           [-2.3380e-01, -4.6298e-01, -4.6298e-01,  ...,  8.9374e-01,\n",
       "             8.9374e-01,  2.2245e-01]]],\n",
       "\n",
       "\n",
       "         [[[-2.2838e-02, -2.8616e-03, -2.8616e-03,  ..., -2.3992e-01,\n",
       "            -2.3992e-01, -1.5663e-01],\n",
       "           [-3.8317e-02,  3.4476e-03,  3.4476e-03,  ..., -2.5266e-01,\n",
       "            -2.5266e-01, -1.6819e-01],\n",
       "           [-3.8317e-02,  3.4476e-03,  3.4476e-03,  ..., -2.5266e-01,\n",
       "            -2.5266e-01, -1.6819e-01],\n",
       "           ...,\n",
       "           [ 1.7142e-01,  4.1655e-01,  4.1655e-01,  ...,  4.0634e-01,\n",
       "             4.0634e-01,  1.6579e-01],\n",
       "           [ 1.7142e-01,  4.1655e-01,  4.1655e-01,  ...,  4.0634e-01,\n",
       "             4.0634e-01,  1.6579e-01],\n",
       "           [-9.7679e-03,  9.3402e-02,  9.3402e-02,  ...,  8.9819e-02,\n",
       "             8.9819e-02, -1.2247e-02]],\n",
       "\n",
       "          [[-9.5995e-03, -1.8753e-02, -1.8753e-02,  ..., -2.0784e-01,\n",
       "            -2.0784e-01, -9.8576e-02],\n",
       "           [-2.0052e-02,  4.8087e-03,  4.8087e-03,  ..., -2.5541e-01,\n",
       "            -2.5541e-01, -1.5691e-01],\n",
       "           [-2.0052e-02,  4.8087e-03,  4.8087e-03,  ..., -2.5541e-01,\n",
       "            -2.5541e-01, -1.5691e-01],\n",
       "           ...,\n",
       "           [ 2.7862e-01,  4.2454e-01,  4.2454e-01,  ...,  4.1416e-01,\n",
       "             4.1416e-01,  1.3367e-01],\n",
       "           [ 2.7862e-01,  4.2454e-01,  4.2454e-01,  ...,  4.1416e-01,\n",
       "             4.1416e-01,  1.3367e-01],\n",
       "           [-3.7697e-02,  3.4184e-02,  3.4184e-02,  ...,  3.1815e-02,\n",
       "             3.1815e-02, -6.1572e-02]],\n",
       "\n",
       "          [[-9.5995e-03, -1.8753e-02, -1.8753e-02,  ..., -2.0784e-01,\n",
       "            -2.0784e-01, -9.8576e-02],\n",
       "           [-2.0052e-02,  4.8087e-03,  4.8087e-03,  ..., -2.5541e-01,\n",
       "            -2.5541e-01, -1.5691e-01],\n",
       "           [-2.0052e-02,  4.8087e-03,  4.8087e-03,  ..., -2.5541e-01,\n",
       "            -2.5541e-01, -1.5691e-01],\n",
       "           ...,\n",
       "           [ 2.7862e-01,  4.2454e-01,  4.2454e-01,  ...,  4.1416e-01,\n",
       "             4.1416e-01,  1.3367e-01],\n",
       "           [ 2.7862e-01,  4.2454e-01,  4.2454e-01,  ...,  4.1416e-01,\n",
       "             4.1416e-01,  1.3367e-01],\n",
       "           [-3.7697e-02,  3.4184e-02,  3.4184e-02,  ...,  3.1815e-02,\n",
       "             3.1815e-02, -6.1572e-02]],\n",
       "\n",
       "          ...,\n",
       "\n",
       "          [[ 1.5982e-01,  1.2906e-01,  1.2906e-01,  ..., -7.7168e-02,\n",
       "            -7.7168e-02, -8.0816e-02],\n",
       "           [ 1.2470e-01,  2.0823e-01,  2.0823e-01,  ..., -7.5580e-02,\n",
       "            -7.5580e-02, -7.8869e-02],\n",
       "           [ 1.2470e-01,  2.0823e-01,  2.0823e-01,  ..., -7.5580e-02,\n",
       "            -7.5580e-02, -7.8869e-02],\n",
       "           ...,\n",
       "           [ 5.0767e-01,  7.4643e-01,  7.4643e-01,  ..., -1.8250e+00,\n",
       "            -1.8250e+00, -8.3808e-01],\n",
       "           [ 5.0767e-01,  7.4643e-01,  7.4643e-01,  ..., -1.8250e+00,\n",
       "            -1.8250e+00, -8.3808e-01],\n",
       "           [-9.8978e-03,  1.0772e-01,  1.0772e-01,  ..., -4.7971e-01,\n",
       "            -4.7971e-01, -1.5112e-01]],\n",
       "\n",
       "          [[ 1.5982e-01,  1.2906e-01,  1.2906e-01,  ..., -7.7168e-02,\n",
       "            -7.7168e-02, -8.0816e-02],\n",
       "           [ 1.2470e-01,  2.0823e-01,  2.0823e-01,  ..., -7.5580e-02,\n",
       "            -7.5580e-02, -7.8869e-02],\n",
       "           [ 1.2470e-01,  2.0823e-01,  2.0823e-01,  ..., -7.5580e-02,\n",
       "            -7.5580e-02, -7.8869e-02],\n",
       "           ...,\n",
       "           [ 5.0767e-01,  7.4643e-01,  7.4643e-01,  ..., -1.8250e+00,\n",
       "            -1.8250e+00, -8.3808e-01],\n",
       "           [ 5.0767e-01,  7.4643e-01,  7.4643e-01,  ..., -1.8250e+00,\n",
       "            -1.8250e+00, -8.3808e-01],\n",
       "           [-9.8978e-03,  1.0772e-01,  1.0772e-01,  ..., -4.7971e-01,\n",
       "            -4.7971e-01, -1.5112e-01]],\n",
       "\n",
       "          [[ 6.8493e-02, -1.6394e-02, -1.6394e-02,  ..., -8.0086e-02,\n",
       "            -8.0086e-02, -8.2331e-02],\n",
       "           [ 5.6130e-02,  2.2992e-02,  2.2992e-02,  ..., -7.9296e-02,\n",
       "            -7.9296e-02, -8.1666e-02],\n",
       "           [ 5.6130e-02,  2.2992e-02,  2.2992e-02,  ..., -7.9296e-02,\n",
       "            -7.9296e-02, -8.1666e-02],\n",
       "           ...,\n",
       "           [ 3.1168e-01,  2.1696e-01,  2.1696e-01,  ..., -7.0982e-01,\n",
       "            -7.0982e-01,  1.2978e-03],\n",
       "           [ 3.1168e-01,  2.1696e-01,  2.1696e-01,  ..., -7.0982e-01,\n",
       "            -7.0982e-01,  1.2978e-03],\n",
       "           [-7.6377e-02, -2.2103e-01, -2.2103e-01,  ...,  2.1274e-01,\n",
       "             2.1274e-01,  3.7505e-01]]],\n",
       "\n",
       "\n",
       "         [[[ 6.8715e-02,  8.2206e-02,  8.2206e-02,  ...,  6.3339e-02,\n",
       "             6.3339e-02,  3.1417e-02],\n",
       "           [ 9.1816e-03,  2.3245e-02,  2.3245e-02,  ...,  1.8237e-01,\n",
       "             1.8237e-01,  7.6141e-02],\n",
       "           [ 9.1816e-03,  2.3245e-02,  2.3245e-02,  ...,  1.8237e-01,\n",
       "             1.8237e-01,  7.6141e-02],\n",
       "           ...,\n",
       "           [-3.1596e-01, -2.3342e-01, -2.3342e-01,  ..., -2.2708e-01,\n",
       "            -2.2708e-01,  7.5429e-02],\n",
       "           [-3.1596e-01, -2.3342e-01, -2.3342e-01,  ..., -2.2708e-01,\n",
       "            -2.2708e-01,  7.5429e-02],\n",
       "           [-2.9401e-01, -1.0550e-01, -1.0550e-01,  ..., -1.0179e-01,\n",
       "            -1.0179e-01,  1.3052e-01]],\n",
       "\n",
       "          [[ 7.3896e-02,  1.1088e-01,  1.1088e-01,  ...,  5.4563e-03,\n",
       "             5.4563e-03, -4.5253e-02],\n",
       "           [ 1.2502e-02,  5.7936e-02,  5.7936e-02,  ...,  1.1233e-01,\n",
       "             1.1233e-01, -4.6493e-02],\n",
       "           [ 1.2502e-02,  5.7936e-02,  5.7936e-02,  ...,  1.1233e-01,\n",
       "             1.1233e-01, -4.6493e-02],\n",
       "           ...,\n",
       "           [-2.9647e-01, -2.9807e-02, -2.9807e-02,  ..., -2.7639e-02,\n",
       "            -2.7639e-02,  4.2466e-01],\n",
       "           [-2.9647e-01, -2.9807e-02, -2.9807e-02,  ..., -2.7639e-02,\n",
       "            -2.7639e-02,  4.2466e-01],\n",
       "           [-2.8927e-01,  5.3803e-02,  5.3803e-02,  ...,  5.4257e-02,\n",
       "             5.4257e-02,  3.9260e-01]],\n",
       "\n",
       "          [[ 7.3896e-02,  1.1088e-01,  1.1088e-01,  ...,  5.4563e-03,\n",
       "             5.4563e-03, -4.5253e-02],\n",
       "           [ 1.2502e-02,  5.7936e-02,  5.7936e-02,  ...,  1.1233e-01,\n",
       "             1.1233e-01, -4.6493e-02],\n",
       "           [ 1.2502e-02,  5.7936e-02,  5.7936e-02,  ...,  1.1233e-01,\n",
       "             1.1233e-01, -4.6493e-02],\n",
       "           ...,\n",
       "           [-2.9647e-01, -2.9807e-02, -2.9807e-02,  ..., -2.7639e-02,\n",
       "            -2.7639e-02,  4.2466e-01],\n",
       "           [-2.9647e-01, -2.9807e-02, -2.9807e-02,  ..., -2.7639e-02,\n",
       "            -2.7639e-02,  4.2466e-01],\n",
       "           [-2.8927e-01,  5.3803e-02,  5.3803e-02,  ...,  5.4257e-02,\n",
       "             5.4257e-02,  3.9260e-01]],\n",
       "\n",
       "          ...,\n",
       "\n",
       "          [[ 6.9033e-02,  1.9329e-01,  1.9329e-01,  ...,  7.8310e-02,\n",
       "             7.8310e-02,  8.0003e-02],\n",
       "           [-1.3724e-01,  1.5411e-02,  1.5411e-02,  ...,  7.4742e-02,\n",
       "             7.4742e-02,  8.0045e-02],\n",
       "           [-1.3724e-01,  1.5411e-02,  1.5411e-02,  ...,  7.4742e-02,\n",
       "             7.4742e-02,  8.0045e-02],\n",
       "           ...,\n",
       "           [-5.3343e-01, -9.7098e-02, -9.7098e-02,  ...,  4.4047e-01,\n",
       "             4.4047e-01, -1.1510e+00],\n",
       "           [-5.3343e-01, -9.7098e-02, -9.7098e-02,  ...,  4.4047e-01,\n",
       "             4.4047e-01, -1.1510e+00],\n",
       "           [-5.2165e-01,  3.9708e-02,  3.9708e-02,  ...,  1.5231e-01,\n",
       "             1.5231e-01, -1.0382e+00]],\n",
       "\n",
       "          [[ 6.9033e-02,  1.9329e-01,  1.9329e-01,  ...,  7.8310e-02,\n",
       "             7.8310e-02,  8.0003e-02],\n",
       "           [-1.3724e-01,  1.5411e-02,  1.5411e-02,  ...,  7.4742e-02,\n",
       "             7.4742e-02,  8.0045e-02],\n",
       "           [-1.3724e-01,  1.5411e-02,  1.5411e-02,  ...,  7.4742e-02,\n",
       "             7.4742e-02,  8.0045e-02],\n",
       "           ...,\n",
       "           [-5.3343e-01, -9.7098e-02, -9.7098e-02,  ...,  4.4047e-01,\n",
       "             4.4047e-01, -1.1510e+00],\n",
       "           [-5.3343e-01, -9.7098e-02, -9.7098e-02,  ...,  4.4047e-01,\n",
       "             4.4047e-01, -1.1510e+00],\n",
       "           [-5.2165e-01,  3.9708e-02,  3.9708e-02,  ...,  1.5231e-01,\n",
       "             1.5231e-01, -1.0382e+00]],\n",
       "\n",
       "          [[ 1.4830e-01,  2.5744e-01,  2.5744e-01,  ...,  7.9597e-02,\n",
       "             7.9597e-02,  7.9690e-02],\n",
       "           [ 5.3215e-02,  1.7556e-01,  1.7556e-01,  ...,  7.7955e-02,\n",
       "             7.7955e-02,  8.0418e-02],\n",
       "           [ 5.3215e-02,  1.7556e-01,  1.7556e-01,  ...,  7.7955e-02,\n",
       "             7.7955e-02,  8.0418e-02],\n",
       "           ...,\n",
       "           [ 1.0956e-02,  3.6066e-01,  3.6066e-01,  ..., -5.2373e-01,\n",
       "            -5.2373e-01, -1.2629e+00],\n",
       "           [ 1.0956e-02,  3.6066e-01,  3.6066e-01,  ..., -5.2373e-01,\n",
       "            -5.2373e-01, -1.2629e+00],\n",
       "           [-1.1906e-01,  2.2989e-01,  2.2989e-01,  ..., -2.4828e-01,\n",
       "            -2.4828e-01, -7.2574e-01]]]],\n",
       "\n",
       "\n",
       "\n",
       "        ...,\n",
       "\n",
       "\n",
       "\n",
       "        [[[[-2.6694e-02, -5.0849e-02, -5.0849e-02,  ...,  1.1115e-02,\n",
       "             1.1115e-02,  6.7212e-02],\n",
       "           [ 6.0439e-02,  4.8183e-02,  4.8183e-02,  ..., -1.3903e-01,\n",
       "            -1.3903e-01, -1.2589e-02],\n",
       "           [ 6.0439e-02,  4.8183e-02,  4.8183e-02,  ..., -1.3903e-01,\n",
       "            -1.3903e-01, -1.2589e-02],\n",
       "           ...,\n",
       "           [ 4.5525e-01,  3.8716e-01,  3.8716e-01,  ...,  1.4613e-01,\n",
       "             1.4613e-01, -4.7052e-02],\n",
       "           [ 4.5525e-01,  3.8716e-01,  3.8716e-01,  ...,  1.4613e-01,\n",
       "             1.4613e-01, -4.7052e-02],\n",
       "           [ 3.7544e-01,  2.8954e-01,  2.8954e-01,  ...,  1.0543e-01,\n",
       "             1.0543e-01, -1.0073e-01]],\n",
       "\n",
       "          [[-3.3510e-02, -2.8459e-02, -2.8459e-02,  ..., -2.2832e-02,\n",
       "            -2.2832e-02,  1.7553e-02],\n",
       "           [ 3.0440e-02,  5.1522e-02,  5.1522e-02,  ..., -1.4410e-01,\n",
       "            -1.4410e-01, -2.6342e-02],\n",
       "           [ 3.0440e-02,  5.1522e-02,  5.1522e-02,  ..., -1.4410e-01,\n",
       "            -1.4410e-01, -2.6342e-02],\n",
       "           ...,\n",
       "           [ 2.8859e-01,  4.0571e-01,  4.0571e-01,  ...,  1.5386e-01,\n",
       "             1.5386e-01, -2.6039e-02],\n",
       "           [ 2.8859e-01,  4.0571e-01,  4.0571e-01,  ...,  1.5386e-01,\n",
       "             1.5386e-01, -2.6039e-02],\n",
       "           [ 4.6137e-01,  4.4217e-01,  4.4217e-01,  ...,  1.6906e-01,\n",
       "             1.6906e-01, -9.4573e-02]],\n",
       "\n",
       "          [[-3.3510e-02, -2.8459e-02, -2.8459e-02,  ..., -2.2832e-02,\n",
       "            -2.2832e-02,  1.7553e-02],\n",
       "           [ 3.0440e-02,  5.1522e-02,  5.1522e-02,  ..., -1.4410e-01,\n",
       "            -1.4410e-01, -2.6342e-02],\n",
       "           [ 3.0440e-02,  5.1522e-02,  5.1522e-02,  ..., -1.4410e-01,\n",
       "            -1.4410e-01, -2.6342e-02],\n",
       "           ...,\n",
       "           [ 2.8859e-01,  4.0571e-01,  4.0571e-01,  ...,  1.5386e-01,\n",
       "             1.5386e-01, -2.6039e-02],\n",
       "           [ 2.8859e-01,  4.0571e-01,  4.0571e-01,  ...,  1.5386e-01,\n",
       "             1.5386e-01, -2.6039e-02],\n",
       "           [ 4.6137e-01,  4.4217e-01,  4.4217e-01,  ...,  1.6906e-01,\n",
       "             1.6906e-01, -9.4573e-02]],\n",
       "\n",
       "          ...,\n",
       "\n",
       "          [[-6.4284e-02, -3.7903e-02, -3.7903e-02,  ..., -1.4897e-02,\n",
       "            -1.4897e-02,  1.1999e-01],\n",
       "           [ 2.6972e-01,  3.7982e-01,  3.7982e-01,  ..., -4.1992e-01,\n",
       "            -4.1992e-01, -2.6623e-02],\n",
       "           [ 2.6972e-01,  3.7982e-01,  3.7982e-01,  ..., -4.1992e-01,\n",
       "            -4.1992e-01, -2.6623e-02],\n",
       "           ...,\n",
       "           [-1.9628e-01, -2.5954e-01, -2.5954e-01,  ...,  1.7726e-02,\n",
       "             1.7726e-02, -2.6178e-02],\n",
       "           [-1.9628e-01, -2.5954e-01, -2.5954e-01,  ...,  1.7726e-02,\n",
       "             1.7726e-02, -2.6178e-02],\n",
       "           [-2.8961e-01, -2.7924e-01, -2.7924e-01,  ...,  2.1436e-02,\n",
       "             2.1436e-02, -4.2903e-02]],\n",
       "\n",
       "          [[-6.4284e-02, -3.7903e-02, -3.7903e-02,  ..., -1.4897e-02,\n",
       "            -1.4897e-02,  1.1999e-01],\n",
       "           [ 2.6972e-01,  3.7982e-01,  3.7982e-01,  ..., -4.1992e-01,\n",
       "            -4.1992e-01, -2.6623e-02],\n",
       "           [ 2.6972e-01,  3.7982e-01,  3.7982e-01,  ..., -4.1992e-01,\n",
       "            -4.1992e-01, -2.6623e-02],\n",
       "           ...,\n",
       "           [-1.9628e-01, -2.5954e-01, -2.5954e-01,  ...,  1.7726e-02,\n",
       "             1.7726e-02, -2.6178e-02],\n",
       "           [-1.9628e-01, -2.5954e-01, -2.5954e-01,  ...,  1.7726e-02,\n",
       "             1.7726e-02, -2.6178e-02],\n",
       "           [-2.8961e-01, -2.7924e-01, -2.7924e-01,  ...,  2.1436e-02,\n",
       "             2.1436e-02, -4.2903e-02]],\n",
       "\n",
       "          [[-1.4586e-01,  8.5354e-03,  8.5354e-03,  ..., -5.9924e-02,\n",
       "            -5.9924e-02,  1.9263e-02],\n",
       "           [-4.0937e-02,  2.6844e-01,  2.6844e-01,  ..., -3.1192e-01,\n",
       "            -3.1192e-01, -6.7799e-02],\n",
       "           [-4.0937e-02,  2.6844e-01,  2.6844e-01,  ..., -3.1192e-01,\n",
       "            -3.1192e-01, -6.7799e-02],\n",
       "           ...,\n",
       "           [-1.7768e-02, -1.9554e-01, -1.9554e-01,  ...,  5.6700e-03,\n",
       "             5.6700e-03, -2.1581e-02],\n",
       "           [-1.7768e-02, -1.9554e-01, -1.9554e-01,  ...,  5.6700e-03,\n",
       "             5.6700e-03, -2.1581e-02],\n",
       "           [-1.5493e-01, -2.9703e-01, -2.9703e-01,  ...,  2.4787e-02,\n",
       "             2.4787e-02, -1.2434e-02]]],\n",
       "\n",
       "\n",
       "         [[[-1.9756e-01, -2.3720e-01, -2.3720e-01,  ...,  1.5484e-01,\n",
       "             1.5484e-01,  3.0726e-02],\n",
       "           [-1.6685e-01, -2.4971e-01, -2.4971e-01,  ...,  1.7382e-01,\n",
       "             1.7382e-01,  4.7952e-02],\n",
       "           [-1.6685e-01, -2.4971e-01, -2.4971e-01,  ...,  1.7382e-01,\n",
       "             1.7382e-01,  4.7952e-02],\n",
       "           ...,\n",
       "           [-5.5620e-01, -1.0166e+00, -1.0166e+00,  ..., -4.7129e-01,\n",
       "            -4.7129e-01, -2.7900e-01],\n",
       "           [-5.5620e-01, -1.0166e+00, -1.0166e+00,  ..., -4.7129e-01,\n",
       "            -4.7129e-01, -2.7900e-01],\n",
       "           [-2.1590e-01, -4.0967e-01, -4.0967e-01,  ..., -2.1826e-01,\n",
       "            -2.1826e-01, -1.3666e-01]],\n",
       "\n",
       "          [[-2.2383e-01, -2.0567e-01, -2.0567e-01,  ...,  1.0703e-01,\n",
       "             1.0703e-01, -5.5782e-02],\n",
       "           [-2.0309e-01, -2.5242e-01, -2.5242e-01,  ...,  1.7791e-01,\n",
       "             1.7791e-01,  3.1140e-02],\n",
       "           [-2.0309e-01, -2.5242e-01, -2.5242e-01,  ...,  1.7791e-01,\n",
       "             1.7791e-01,  3.1140e-02],\n",
       "           ...,\n",
       "           [-7.5753e-01, -1.0316e+00, -1.0316e+00,  ..., -4.7755e-01,\n",
       "            -4.7755e-01, -2.5331e-01],\n",
       "           [-7.5753e-01, -1.0316e+00, -1.0316e+00,  ..., -4.7755e-01,\n",
       "            -4.7755e-01, -2.5331e-01],\n",
       "           [-1.6345e-01, -2.9845e-01, -2.9845e-01,  ..., -1.7189e-01,\n",
       "            -1.7189e-01, -9.7233e-02]],\n",
       "\n",
       "          [[-2.2383e-01, -2.0567e-01, -2.0567e-01,  ...,  1.0703e-01,\n",
       "             1.0703e-01, -5.5782e-02],\n",
       "           [-2.0309e-01, -2.5242e-01, -2.5242e-01,  ...,  1.7791e-01,\n",
       "             1.7791e-01,  3.1140e-02],\n",
       "           [-2.0309e-01, -2.5242e-01, -2.5242e-01,  ...,  1.7791e-01,\n",
       "             1.7791e-01,  3.1140e-02],\n",
       "           ...,\n",
       "           [-7.5753e-01, -1.0316e+00, -1.0316e+00,  ..., -4.7755e-01,\n",
       "            -4.7755e-01, -2.5331e-01],\n",
       "           [-7.5753e-01, -1.0316e+00, -1.0316e+00,  ..., -4.7755e-01,\n",
       "            -4.7755e-01, -2.5331e-01],\n",
       "           [-1.6345e-01, -2.9845e-01, -2.9845e-01,  ..., -1.7189e-01,\n",
       "            -1.7189e-01, -9.7233e-02]],\n",
       "\n",
       "          ...,\n",
       "\n",
       "          [[-8.2533e-01, -7.3047e-01, -7.3047e-01,  ...,  5.4795e-01,\n",
       "             5.4795e-01,  4.1438e-03],\n",
       "           [-7.1701e-01, -9.7463e-01, -9.7463e-01,  ...,  7.8469e-01,\n",
       "             7.8469e-01,  2.9446e-01],\n",
       "           [-7.1701e-01, -9.7463e-01, -9.7463e-01,  ...,  7.8469e-01,\n",
       "             7.8469e-01,  2.9446e-01],\n",
       "           ...,\n",
       "           [ 2.8384e-01,  4.3188e-01,  4.3188e-01,  ..., -1.7807e-01,\n",
       "            -1.7807e-01, -1.2335e-01],\n",
       "           [ 2.8384e-01,  4.3188e-01,  4.3188e-01,  ..., -1.7807e-01,\n",
       "            -1.7807e-01, -1.2335e-01],\n",
       "           [-3.7063e-02,  3.5862e-02,  3.5862e-02,  ..., -1.0348e-01,\n",
       "            -1.0348e-01, -8.5257e-02]],\n",
       "\n",
       "          [[-8.2533e-01, -7.3047e-01, -7.3047e-01,  ...,  5.4795e-01,\n",
       "             5.4795e-01,  4.1438e-03],\n",
       "           [-7.1701e-01, -9.7463e-01, -9.7463e-01,  ...,  7.8469e-01,\n",
       "             7.8469e-01,  2.9446e-01],\n",
       "           [-7.1701e-01, -9.7463e-01, -9.7463e-01,  ...,  7.8469e-01,\n",
       "             7.8469e-01,  2.9446e-01],\n",
       "           ...,\n",
       "           [ 2.8384e-01,  4.3188e-01,  4.3188e-01,  ..., -1.7807e-01,\n",
       "            -1.7807e-01, -1.2335e-01],\n",
       "           [ 2.8384e-01,  4.3188e-01,  4.3188e-01,  ..., -1.7807e-01,\n",
       "            -1.7807e-01, -1.2335e-01],\n",
       "           [-3.7063e-02,  3.5862e-02,  3.5862e-02,  ..., -1.0348e-01,\n",
       "            -1.0348e-01, -8.5257e-02]],\n",
       "\n",
       "          [[-5.4366e-01, -2.8185e-01, -2.8185e-01,  ...,  1.1297e-01,\n",
       "             1.1297e-01, -2.2159e-01],\n",
       "           [-5.0553e-01, -4.0332e-01, -4.0332e-01,  ...,  2.3076e-01,\n",
       "             2.3076e-01, -1.2246e-01],\n",
       "           [-5.0553e-01, -4.0332e-01, -4.0332e-01,  ...,  2.3076e-01,\n",
       "             2.3076e-01, -1.2246e-01],\n",
       "           ...,\n",
       "           [ 1.6233e-01,  1.0360e-01,  1.0360e-01,  ..., -1.1623e-01,\n",
       "            -1.1623e-01, -7.6805e-02],\n",
       "           [ 1.6233e-01,  1.0360e-01,  1.0360e-01,  ..., -1.1623e-01,\n",
       "            -1.1623e-01, -7.6805e-02],\n",
       "           [-7.8282e-02, -1.6797e-01, -1.6797e-01,  ..., -6.5082e-02,\n",
       "            -6.5082e-02, -5.6082e-02]]],\n",
       "\n",
       "\n",
       "         [[[ 9.0324e-02,  6.3556e-02,  6.3556e-02,  ...,  9.4757e-02,\n",
       "             9.4757e-02,  1.4232e-01],\n",
       "           [ 2.0844e-01,  1.8054e-01,  1.8054e-01,  ..., -8.2609e-02,\n",
       "            -8.2609e-02,  7.5680e-02],\n",
       "           [ 2.0844e-01,  1.8054e-01,  1.8054e-01,  ..., -8.2609e-02,\n",
       "            -8.2609e-02,  7.5680e-02],\n",
       "           ...,\n",
       "           [ 8.1202e-01,  6.5700e-01,  6.5700e-01,  ...,  3.1821e-01,\n",
       "             3.1821e-01,  7.6378e-02],\n",
       "           [ 8.1202e-01,  6.5700e-01,  6.5700e-01,  ...,  3.1821e-01,\n",
       "             3.1821e-01,  7.6378e-02],\n",
       "           [ 7.7080e-01,  4.1676e-01,  4.1676e-01,  ...,  2.1805e-01,\n",
       "             2.1805e-01,  3.2338e-02]],\n",
       "\n",
       "          [[ 8.0045e-02,  6.6680e-03,  6.6680e-03,  ...,  1.8101e-01,\n",
       "             1.8101e-01,  2.5657e-01],\n",
       "           [ 2.0185e-01,  1.1171e-01,  1.1171e-01,  ...,  2.1749e-02,\n",
       "             2.1749e-02,  2.5842e-01],\n",
       "           [ 2.0185e-01,  1.1171e-01,  1.1171e-01,  ...,  2.1749e-02,\n",
       "             2.1749e-02,  2.5842e-01],\n",
       "           ...,\n",
       "           [ 7.7542e-01,  2.7459e-01,  2.7459e-01,  ...,  1.5877e-01,\n",
       "             1.5877e-01, -2.0281e-01],\n",
       "           [ 7.7542e-01,  2.7459e-01,  2.7459e-01,  ...,  1.5877e-01,\n",
       "             1.5877e-01, -2.0281e-01],\n",
       "           [ 7.6190e-01,  1.1756e-01,  1.1756e-01,  ...,  9.3303e-02,\n",
       "             9.3303e-02, -1.7718e-01]],\n",
       "\n",
       "          [[ 8.0045e-02,  6.6680e-03,  6.6680e-03,  ...,  1.8101e-01,\n",
       "             1.8101e-01,  2.5657e-01],\n",
       "           [ 2.0185e-01,  1.1171e-01,  1.1171e-01,  ...,  2.1749e-02,\n",
       "             2.1749e-02,  2.5842e-01],\n",
       "           [ 2.0185e-01,  1.1171e-01,  1.1171e-01,  ...,  2.1749e-02,\n",
       "             2.1749e-02,  2.5842e-01],\n",
       "           ...,\n",
       "           [ 7.7542e-01,  2.7459e-01,  2.7459e-01,  ...,  1.5877e-01,\n",
       "             1.5877e-01, -2.0281e-01],\n",
       "           [ 7.7542e-01,  2.7459e-01,  2.7459e-01,  ...,  1.5877e-01,\n",
       "             1.5877e-01, -2.0281e-01],\n",
       "           [ 7.6190e-01,  1.1756e-01,  1.1756e-01,  ...,  9.3303e-02,\n",
       "             9.3303e-02, -1.7718e-01]],\n",
       "\n",
       "          ...,\n",
       "\n",
       "          [[ 9.7309e-02, -2.8593e-01, -2.8593e-01,  ...,  4.2684e-01,\n",
       "             4.2684e-01,  6.7922e-01],\n",
       "           [ 7.3351e-01,  2.6269e-01,  2.6269e-01,  ..., -1.0510e-01,\n",
       "            -1.0510e-01,  6.8539e-01],\n",
       "           [ 7.3351e-01,  2.6269e-01,  2.6269e-01,  ..., -1.0510e-01,\n",
       "            -1.0510e-01,  6.8539e-01],\n",
       "           ...,\n",
       "           [-3.0188e-01, -3.1343e-02, -3.1343e-02,  ...,  9.6167e-02,\n",
       "             9.6167e-02,  7.9256e-03],\n",
       "           [-3.0188e-01, -3.1343e-02, -3.1343e-02,  ...,  9.6167e-02,\n",
       "             9.6167e-02,  7.9256e-03],\n",
       "           [-2.9458e-01,  5.3481e-02,  5.3481e-02,  ...,  8.0190e-02,\n",
       "             8.0190e-02,  1.4181e-02]],\n",
       "\n",
       "          [[ 9.7309e-02, -2.8593e-01, -2.8593e-01,  ...,  4.2684e-01,\n",
       "             4.2684e-01,  6.7922e-01],\n",
       "           [ 7.3351e-01,  2.6269e-01,  2.6269e-01,  ..., -1.0510e-01,\n",
       "            -1.0510e-01,  6.8539e-01],\n",
       "           [ 7.3351e-01,  2.6269e-01,  2.6269e-01,  ..., -1.0510e-01,\n",
       "            -1.0510e-01,  6.8539e-01],\n",
       "           ...,\n",
       "           [-3.0188e-01, -3.1343e-02, -3.1343e-02,  ...,  9.6167e-02,\n",
       "             9.6167e-02,  7.9256e-03],\n",
       "           [-3.0188e-01, -3.1343e-02, -3.1343e-02,  ...,  9.6167e-02,\n",
       "             9.6167e-02,  7.9256e-03],\n",
       "           [-2.9458e-01,  5.3481e-02,  5.3481e-02,  ...,  8.0190e-02,\n",
       "             8.0190e-02,  1.4181e-02]],\n",
       "\n",
       "          [[-1.4716e-01, -4.8377e-01, -4.8377e-01,  ...,  6.1867e-01,\n",
       "             6.1867e-01,  6.3255e-01],\n",
       "           [ 1.4609e-01, -2.3125e-01, -2.3125e-01,  ...,  3.7382e-01,\n",
       "             3.7382e-01,  7.4098e-01],\n",
       "           [ 1.4609e-01, -2.3125e-01, -2.3125e-01,  ...,  3.7382e-01,\n",
       "             3.7382e-01,  7.4098e-01],\n",
       "           ...,\n",
       "           [ 3.5654e-02,  2.5248e-01,  2.5248e-01,  ...,  4.2706e-02,\n",
       "             4.2706e-02,  1.7200e-03],\n",
       "           [ 3.5654e-02,  2.5248e-01,  2.5248e-01,  ...,  4.2706e-02,\n",
       "             4.2706e-02,  1.7200e-03],\n",
       "           [-4.4959e-02,  1.7140e-01,  1.7140e-01,  ...,  5.7978e-02,\n",
       "             5.7978e-02,  3.1505e-02]]]],\n",
       "\n",
       "\n",
       "\n",
       "        [[[[-2.5667e-02,  2.8123e-03,  2.8123e-03,  ..., -7.1122e-02,\n",
       "            -7.1122e-02, -1.3858e-01],\n",
       "           [-1.2840e-01, -1.1395e-01, -1.1395e-01,  ...,  1.0944e-01,\n",
       "             1.0944e-01, -4.2617e-02],\n",
       "           [-1.2840e-01, -1.1395e-01, -1.1395e-01,  ...,  1.0944e-01,\n",
       "             1.0944e-01, -4.2617e-02],\n",
       "           ...,\n",
       "           [ 4.7498e-01,  4.0410e-01,  4.0410e-01,  ...,  8.5794e-01,\n",
       "             8.5794e-01, -1.3308e-01],\n",
       "           [ 4.7498e-01,  4.0410e-01,  4.0410e-01,  ...,  8.5794e-01,\n",
       "             8.5794e-01, -1.3308e-01],\n",
       "           [ 3.9189e-01,  3.0248e-01,  3.0248e-01,  ...,  6.4914e-01,\n",
       "             6.4914e-01, -4.0843e-01]],\n",
       "\n",
       "          [[-1.7631e-02, -2.3586e-02, -2.3586e-02,  ..., -3.0300e-02,\n",
       "            -3.0300e-02, -7.8864e-02],\n",
       "           [-9.3028e-02, -1.1788e-01, -1.1788e-01,  ...,  1.1552e-01,\n",
       "             1.1552e-01, -2.6078e-02],\n",
       "           [-9.3028e-02, -1.1788e-01, -1.1788e-01,  ...,  1.1552e-01,\n",
       "             1.1552e-01, -2.6078e-02],\n",
       "           ...,\n",
       "           [ 3.0148e-01,  4.2341e-01,  4.2341e-01,  ...,  8.9761e-01,\n",
       "             8.9761e-01, -2.5283e-02],\n",
       "           [ 3.0148e-01,  4.2341e-01,  4.2341e-01,  ...,  8.9761e-01,\n",
       "             8.9761e-01, -2.5283e-02],\n",
       "           [ 4.8135e-01,  4.6136e-01,  4.6136e-01,  ...,  9.7560e-01,\n",
       "             9.7560e-01, -3.7686e-01]],\n",
       "\n",
       "          [[-1.7631e-02, -2.3586e-02, -2.3586e-02,  ..., -3.0300e-02,\n",
       "            -3.0300e-02, -7.8864e-02],\n",
       "           [-9.3028e-02, -1.1788e-01, -1.1788e-01,  ...,  1.1552e-01,\n",
       "             1.1552e-01, -2.6078e-02],\n",
       "           [-9.3028e-02, -1.1788e-01, -1.1788e-01,  ...,  1.1552e-01,\n",
       "             1.1552e-01, -2.6078e-02],\n",
       "           ...,\n",
       "           [ 3.0148e-01,  4.2341e-01,  4.2341e-01,  ...,  8.9761e-01,\n",
       "             8.9761e-01, -2.5283e-02],\n",
       "           [ 3.0148e-01,  4.2341e-01,  4.2341e-01,  ...,  8.9761e-01,\n",
       "             8.9761e-01, -2.5283e-02],\n",
       "           [ 4.8135e-01,  4.6136e-01,  4.6136e-01,  ...,  9.7560e-01,\n",
       "             9.7560e-01, -3.7686e-01]],\n",
       "\n",
       "          ...,\n",
       "\n",
       "          [[-3.7757e-02, -2.9762e-02, -2.9762e-02,  ..., -2.0941e-02,\n",
       "            -2.0941e-02,  4.1964e-02],\n",
       "           [ 6.3464e-02,  9.6832e-02,  9.6832e-02,  ..., -2.0983e-01,\n",
       "            -2.0983e-01, -2.6409e-02],\n",
       "           [ 6.3464e-02,  9.6832e-02,  9.6832e-02,  ..., -2.0983e-01,\n",
       "            -2.0983e-01, -2.6409e-02],\n",
       "           ...,\n",
       "           [-3.0319e-01, -4.0624e-01, -4.0624e-01,  ..., -1.3676e+00,\n",
       "            -1.3676e+00, -2.7587e-02],\n",
       "           [-3.0319e-01, -4.0624e-01, -4.0624e-01,  ..., -1.3676e+00,\n",
       "            -1.3676e+00, -2.7587e-02],\n",
       "           [-4.5521e-01, -4.3832e-01, -4.3832e-01,  ..., -1.4809e+00,\n",
       "            -1.4809e+00,  4.8291e-01]],\n",
       "\n",
       "          [[-3.7757e-02, -2.9762e-02, -2.9762e-02,  ..., -2.0941e-02,\n",
       "            -2.0941e-02,  4.1964e-02],\n",
       "           [ 6.3464e-02,  9.6832e-02,  9.6832e-02,  ..., -2.0983e-01,\n",
       "            -2.0983e-01, -2.6409e-02],\n",
       "           [ 6.3464e-02,  9.6832e-02,  9.6832e-02,  ..., -2.0983e-01,\n",
       "            -2.0983e-01, -2.6409e-02],\n",
       "           ...,\n",
       "           [-3.0319e-01, -4.0624e-01, -4.0624e-01,  ..., -1.3676e+00,\n",
       "            -1.3676e+00, -2.7587e-02],\n",
       "           [-3.0319e-01, -4.0624e-01, -4.0624e-01,  ..., -1.3676e+00,\n",
       "            -1.3676e+00, -2.7587e-02],\n",
       "           [-4.5521e-01, -4.3832e-01, -4.3832e-01,  ..., -1.4809e+00,\n",
       "            -1.4809e+00,  4.8291e-01]],\n",
       "\n",
       "          [[-6.2480e-02, -1.5689e-02, -1.5689e-02,  ..., -4.1939e-02,\n",
       "            -4.1939e-02, -5.0104e-03],\n",
       "           [-3.0682e-02,  6.3075e-02,  6.3075e-02,  ..., -1.5946e-01,\n",
       "            -1.5946e-01, -4.5612e-02],\n",
       "           [-3.0682e-02,  6.3075e-02,  6.3075e-02,  ..., -1.5946e-01,\n",
       "            -1.5946e-01, -4.5612e-02],\n",
       "           ...,\n",
       "           [-1.2452e-02, -3.0199e-01, -3.0199e-01,  ..., -9.9965e-01,\n",
       "            -9.9965e-01, -1.6788e-01],\n",
       "           [-1.2452e-02, -3.0199e-01, -3.0199e-01,  ..., -9.9965e-01,\n",
       "            -9.9965e-01, -1.6788e-01],\n",
       "           [-2.3585e-01, -4.6729e-01, -4.6729e-01,  ..., -1.5831e+00,\n",
       "            -1.5831e+00, -4.4706e-01]]],\n",
       "\n",
       "\n",
       "         [[[ 5.5579e-02,  1.0231e-01,  1.0231e-01,  ..., -3.6546e-01,\n",
       "            -3.6546e-01, -2.1621e-01],\n",
       "           [ 1.9370e-02,  1.1707e-01,  1.1707e-01,  ..., -3.8829e-01,\n",
       "            -3.8829e-01, -2.3693e-01],\n",
       "           [ 1.9370e-02,  1.1707e-01,  1.1707e-01,  ..., -3.8829e-01,\n",
       "            -3.8829e-01, -2.3693e-01],\n",
       "           ...,\n",
       "           [-5.7565e-01, -1.0549e+00, -1.0549e+00,  ..., -2.0816e+00,\n",
       "            -2.0816e+00, -1.0951e+00],\n",
       "           [-5.7565e-01, -1.0549e+00, -1.0549e+00,  ..., -2.0816e+00,\n",
       "            -2.0816e+00, -1.0951e+00],\n",
       "           [-2.2142e-01, -4.2312e-01, -4.2312e-01,  ..., -7.8353e-01,\n",
       "            -7.8353e-01, -3.6495e-01]],\n",
       "\n",
       "          [[ 8.6546e-02,  6.5132e-02,  6.5132e-02,  ..., -3.0797e-01,\n",
       "            -3.0797e-01, -1.1219e-01],\n",
       "           [ 6.2094e-02,  1.2025e-01,  1.2025e-01,  ..., -3.9321e-01,\n",
       "            -3.9321e-01, -2.1671e-01],\n",
       "           [ 6.2094e-02,  1.2025e-01,  1.2025e-01,  ..., -3.9321e-01,\n",
       "            -3.9321e-01, -2.1671e-01],\n",
       "           ...,\n",
       "           [-7.8523e-01, -1.0705e+00, -1.0705e+00,  ..., -2.1137e+00,\n",
       "            -2.1137e+00, -9.6334e-01],\n",
       "           [-7.8523e-01, -1.0705e+00, -1.0705e+00,  ..., -2.1137e+00,\n",
       "            -2.1137e+00, -9.6334e-01],\n",
       "           [-1.6681e-01, -3.0735e-01, -3.0735e-01,  ..., -5.4565e-01,\n",
       "            -5.4565e-01, -1.6266e-01]],\n",
       "\n",
       "          [[ 8.6546e-02,  6.5132e-02,  6.5132e-02,  ..., -3.0797e-01,\n",
       "            -3.0797e-01, -1.1219e-01],\n",
       "           [ 6.2094e-02,  1.2025e-01,  1.2025e-01,  ..., -3.9321e-01,\n",
       "            -3.9321e-01, -2.1671e-01],\n",
       "           [ 6.2094e-02,  1.2025e-01,  1.2025e-01,  ..., -3.9321e-01,\n",
       "            -3.9321e-01, -2.1671e-01],\n",
       "           ...,\n",
       "           [-7.8523e-01, -1.0705e+00, -1.0705e+00,  ..., -2.1137e+00,\n",
       "            -2.1137e+00, -9.6334e-01],\n",
       "           [-7.8523e-01, -1.0705e+00, -1.0705e+00,  ..., -2.1137e+00,\n",
       "            -2.1137e+00, -9.6334e-01],\n",
       "           [-1.6681e-01, -3.0735e-01, -3.0735e-01,  ..., -5.4565e-01,\n",
       "            -5.4565e-01, -1.6266e-01]],\n",
       "\n",
       "          ...,\n",
       "\n",
       "          [[-3.0684e-01, -2.7810e-01, -2.7810e-01,  ...,  2.1210e-01,\n",
       "             2.1210e-01, -4.1501e-02],\n",
       "           [-2.7402e-01, -3.5209e-01, -3.5209e-01,  ...,  3.2251e-01,\n",
       "             3.2251e-01,  9.3890e-02],\n",
       "           [-2.7402e-01, -3.5209e-01, -3.5209e-01,  ...,  3.2251e-01,\n",
       "             3.2251e-01,  9.3890e-02],\n",
       "           ...,\n",
       "           [ 5.1347e-01,  7.5458e-01,  7.5458e-01,  ...,  2.8695e+00,\n",
       "             2.8695e+00,  1.1992e+00],\n",
       "           [ 5.1347e-01,  7.5458e-01,  7.5458e-01,  ...,  2.8695e+00,\n",
       "             2.8695e+00,  1.1992e+00],\n",
       "           [-9.1934e-03,  1.0958e-01,  1.0958e-01,  ...,  5.9272e-01,\n",
       "             5.9272e-01,  3.6621e-02]],\n",
       "\n",
       "          [[-3.0684e-01, -2.7810e-01, -2.7810e-01,  ...,  2.1210e-01,\n",
       "             2.1210e-01, -4.1501e-02],\n",
       "           [-2.7402e-01, -3.5209e-01, -3.5209e-01,  ...,  3.2251e-01,\n",
       "             3.2251e-01,  9.3890e-02],\n",
       "           [-2.7402e-01, -3.5209e-01, -3.5209e-01,  ...,  3.2251e-01,\n",
       "             3.2251e-01,  9.3890e-02],\n",
       "           ...,\n",
       "           [ 5.1347e-01,  7.5458e-01,  7.5458e-01,  ...,  2.8695e+00,\n",
       "             2.8695e+00,  1.1992e+00],\n",
       "           [ 5.1347e-01,  7.5458e-01,  7.5458e-01,  ...,  2.8695e+00,\n",
       "             2.8695e+00,  1.1992e+00],\n",
       "           [-9.1934e-03,  1.0958e-01,  1.0958e-01,  ...,  5.9272e-01,\n",
       "             5.9272e-01,  3.6621e-02]],\n",
       "\n",
       "          [[-2.2148e-01, -1.4214e-01, -1.4214e-01,  ...,  9.2521e-03,\n",
       "             9.2521e-03, -1.4677e-01],\n",
       "           [-2.0993e-01, -1.7895e-01, -1.7895e-01,  ...,  6.4179e-02,\n",
       "             6.4179e-02, -1.0054e-01],\n",
       "           [-2.0993e-01, -1.7895e-01, -1.7895e-01,  ...,  6.4179e-02,\n",
       "             6.4179e-02, -1.0054e-01],\n",
       "           ...,\n",
       "           [ 3.1555e-01,  2.1990e-01,  2.1990e-01,  ...,  9.8214e-01,\n",
       "             9.8214e-01, -2.2133e-01],\n",
       "           [ 3.1555e-01,  2.1990e-01,  2.1990e-01,  ...,  9.8214e-01,\n",
       "             9.8214e-01, -2.2133e-01],\n",
       "           [-7.6328e-02, -2.2240e-01, -2.2240e-01,  ..., -5.7916e-01,\n",
       "            -5.7916e-01, -8.5386e-01]]],\n",
       "\n",
       "\n",
       "         [[[ 5.9017e-02,  9.0576e-02,  9.0576e-02,  ...,  5.3348e-02,\n",
       "             5.3348e-02, -3.8532e-03],\n",
       "           [-8.0246e-02, -4.7348e-02, -4.7348e-02,  ...,  2.6664e-01,\n",
       "             2.6664e-01,  7.6288e-02],\n",
       "           [-8.0246e-02, -4.7348e-02, -4.7348e-02,  ...,  2.6664e-01,\n",
       "             2.6664e-01,  7.6288e-02],\n",
       "           ...,\n",
       "           [ 8.4218e-01,  6.8081e-01,  6.8081e-01,  ...,  1.3187e+00,\n",
       "             1.3187e+00,  7.8118e-02],\n",
       "           [ 8.4218e-01,  6.8081e-01,  6.8081e-01,  ...,  1.3187e+00,\n",
       "             1.3187e+00,  7.8118e-02],\n",
       "           [ 7.9927e-01,  4.3072e-01,  4.3072e-01,  ...,  8.0488e-01,\n",
       "             8.0488e-01, -1.4781e-01]],\n",
       "\n",
       "          [[ 7.1136e-02,  1.5765e-01,  1.5765e-01,  ..., -5.0373e-02,\n",
       "            -5.0373e-02, -1.4124e-01],\n",
       "           [-7.2479e-02,  3.3804e-02,  3.3804e-02,  ...,  1.4114e-01,\n",
       "             1.4114e-01, -1.4346e-01],\n",
       "           [-7.2479e-02,  3.3804e-02,  3.3804e-02,  ...,  1.4114e-01,\n",
       "             1.4114e-01, -1.4346e-01],\n",
       "           ...,\n",
       "           [ 8.0408e-01,  2.8273e-01,  2.8273e-01,  ...,  5.0081e-01,\n",
       "             5.0081e-01, -1.3541e+00],\n",
       "           [ 8.0408e-01,  2.8273e-01,  2.8273e-01,  ...,  5.0081e-01,\n",
       "             5.0081e-01, -1.3541e+00],\n",
       "           [ 7.9000e-01,  1.1927e-01,  1.1927e-01,  ...,  1.6495e-01,\n",
       "             1.6495e-01, -1.2226e+00]],\n",
       "\n",
       "          [[ 7.1136e-02,  1.5765e-01,  1.5765e-01,  ..., -5.0373e-02,\n",
       "            -5.0373e-02, -1.4124e-01],\n",
       "           [-7.2479e-02,  3.3804e-02,  3.3804e-02,  ...,  1.4114e-01,\n",
       "             1.4114e-01, -1.4346e-01],\n",
       "           [-7.2479e-02,  3.3804e-02,  3.3804e-02,  ...,  1.4114e-01,\n",
       "             1.4114e-01, -1.4346e-01],\n",
       "           ...,\n",
       "           [ 8.0408e-01,  2.8273e-01,  2.8273e-01,  ...,  5.0081e-01,\n",
       "             5.0081e-01, -1.3541e+00],\n",
       "           [ 8.0408e-01,  2.8273e-01,  2.8273e-01,  ...,  5.0081e-01,\n",
       "             5.0081e-01, -1.3541e+00],\n",
       "           [ 7.9000e-01,  1.1927e-01,  1.1927e-01,  ...,  1.6495e-01,\n",
       "             1.6495e-01, -1.2226e+00]],\n",
       "\n",
       "          ...,\n",
       "\n",
       "          [[ 8.2427e-02, -3.3714e-02, -3.3714e-02,  ...,  2.3959e-01,\n",
       "             2.3959e-01,  3.5729e-01],\n",
       "           [ 2.7523e-01,  1.3255e-01,  1.3255e-01,  ..., -8.4788e-03,\n",
       "            -8.4788e-03,  3.6017e-01],\n",
       "           [ 2.7523e-01,  1.3255e-01,  1.3255e-01,  ..., -8.4788e-03,\n",
       "            -8.4788e-03,  3.6017e-01],\n",
       "           ...,\n",
       "           [-5.3944e-01, -9.8803e-02, -9.8803e-02,  ..., -5.4093e-01,\n",
       "            -5.4093e-01,  2.1524e+00],\n",
       "           [-5.3944e-01, -9.8803e-02, -9.8803e-02,  ..., -5.4093e-01,\n",
       "            -5.4093e-01,  2.1524e+00],\n",
       "           [-5.2754e-01,  3.9351e-02,  3.9351e-02,  ..., -5.3258e-02,\n",
       "            -5.3258e-02,  1.9615e+00]],\n",
       "\n",
       "          [[ 8.2427e-02, -3.3714e-02, -3.3714e-02,  ...,  2.3959e-01,\n",
       "             2.3959e-01,  3.5729e-01],\n",
       "           [ 2.7523e-01,  1.3255e-01,  1.3255e-01,  ..., -8.4788e-03,\n",
       "            -8.4788e-03,  3.6017e-01],\n",
       "           [ 2.7523e-01,  1.3255e-01,  1.3255e-01,  ..., -8.4788e-03,\n",
       "            -8.4788e-03,  3.6017e-01],\n",
       "           ...,\n",
       "           [-5.3944e-01, -9.8803e-02, -9.8803e-02,  ..., -5.4093e-01,\n",
       "            -5.4093e-01,  2.1524e+00],\n",
       "           [-5.3944e-01, -9.8803e-02, -9.8803e-02,  ..., -5.4093e-01,\n",
       "            -5.4093e-01,  2.1524e+00],\n",
       "           [-5.2754e-01,  3.9351e-02,  3.9351e-02,  ..., -5.3258e-02,\n",
       "            -5.3258e-02,  1.9615e+00]],\n",
       "\n",
       "          [[ 8.3416e-03, -9.3671e-02, -9.3671e-02,  ...,  3.2905e-01,\n",
       "             3.2905e-01,  3.3552e-01],\n",
       "           [ 9.7212e-02, -1.7144e-02, -1.7144e-02,  ...,  2.1487e-01,\n",
       "             2.1487e-01,  3.8609e-01],\n",
       "           [ 9.7212e-02, -1.7144e-02, -1.7144e-02,  ...,  2.1487e-01,\n",
       "             2.1487e-01,  3.8609e-01],\n",
       "           ...,\n",
       "           [ 1.0316e-02,  3.6347e-01,  3.6347e-01,  ...,  1.0908e+00,\n",
       "             1.0908e+00,  2.3418e+00],\n",
       "           [ 1.0316e-02,  3.6347e-01,  3.6347e-01,  ...,  1.0908e+00,\n",
       "             1.0908e+00,  2.3418e+00],\n",
       "           [-1.2098e-01,  2.3141e-01,  2.3141e-01,  ...,  6.2469e-01,\n",
       "             6.2469e-01,  1.4327e+00]]]],\n",
       "\n",
       "\n",
       "\n",
       "        [[[[-2.5750e-02, -1.5055e-03, -1.5055e-03,  ..., -1.7918e-01,\n",
       "            -1.7918e-01, -4.0897e-01],\n",
       "           [-1.1320e-01, -1.0090e-01, -1.0090e-01,  ...,  4.3591e-01,\n",
       "             4.3591e-01, -8.2072e-02],\n",
       "           [-1.1320e-01, -1.0090e-01, -1.0090e-01,  ...,  4.3591e-01,\n",
       "             4.3591e-01, -8.2072e-02],\n",
       "           ...,\n",
       "           [ 6.8726e-01,  5.8636e-01,  5.8636e-01,  ..., -4.1944e-02,\n",
       "            -4.1944e-02, -2.4322e-02],\n",
       "           [ 6.8726e-01,  5.8636e-01,  5.8636e-01,  ..., -4.1944e-02,\n",
       "            -4.1944e-02, -2.4322e-02],\n",
       "           [ 5.6898e-01,  4.4169e-01,  4.4169e-01,  ..., -3.8231e-02,\n",
       "            -3.8231e-02, -1.9427e-02]],\n",
       "\n",
       "          [[-1.8908e-02, -2.3978e-02, -2.3978e-02,  ..., -4.0113e-02,\n",
       "            -4.0113e-02, -2.0555e-01],\n",
       "           [-8.3093e-02, -1.0425e-01, -1.0425e-01,  ...,  4.5664e-01,\n",
       "             4.5664e-01, -2.5731e-02],\n",
       "           [-8.3093e-02, -1.0425e-01, -1.0425e-01,  ...,  4.5664e-01,\n",
       "             4.5664e-01, -2.5731e-02],\n",
       "           ...,\n",
       "           [ 4.4028e-01,  6.1384e-01,  6.1384e-01,  ..., -4.2649e-02,\n",
       "            -4.2649e-02, -2.6239e-02],\n",
       "           [ 4.4028e-01,  6.1384e-01,  6.1384e-01,  ..., -4.2649e-02,\n",
       "            -4.2649e-02, -2.6239e-02],\n",
       "           [ 6.9632e-01,  6.6787e-01,  6.6787e-01,  ..., -4.4036e-02,\n",
       "            -4.4036e-02, -1.9988e-02]],\n",
       "\n",
       "          [[-1.8908e-02, -2.3978e-02, -2.3978e-02,  ..., -4.0113e-02,\n",
       "            -4.0113e-02, -2.0555e-01],\n",
       "           [-8.3093e-02, -1.0425e-01, -1.0425e-01,  ...,  4.5664e-01,\n",
       "             4.5664e-01, -2.5731e-02],\n",
       "           [-8.3093e-02, -1.0425e-01, -1.0425e-01,  ...,  4.5664e-01,\n",
       "             4.5664e-01, -2.5731e-02],\n",
       "           ...,\n",
       "           [ 4.4028e-01,  6.1384e-01,  6.1384e-01,  ..., -4.2649e-02,\n",
       "            -4.2649e-02, -2.6239e-02],\n",
       "           [ 4.4028e-01,  6.1384e-01,  6.1384e-01,  ..., -4.2649e-02,\n",
       "            -4.2649e-02, -2.6239e-02],\n",
       "           [ 6.9632e-01,  6.6787e-01,  6.6787e-01,  ..., -4.4036e-02,\n",
       "            -4.4036e-02, -1.9988e-02]],\n",
       "\n",
       "          ...,\n",
       "\n",
       "          [[ 1.6076e-03, -1.7682e-02, -1.7682e-02,  ..., -1.3082e-02,\n",
       "            -1.3082e-02,  1.4343e-01],\n",
       "           [-2.4261e-01, -3.2312e-01, -3.2312e-01,  ..., -4.8304e-01,\n",
       "            -4.8304e-01, -2.6687e-02],\n",
       "           [-2.4261e-01, -3.2312e-01, -3.2312e-01,  ..., -4.8304e-01,\n",
       "            -4.8304e-01, -2.6687e-02],\n",
       "           ...,\n",
       "           [-2.1652e-01, -2.8732e-01, -2.8732e-01,  ..., -6.5193e-01,\n",
       "            -6.5193e-01, -2.6859e-02],\n",
       "           [-2.1652e-01, -2.8732e-01, -2.8732e-01,  ..., -6.5193e-01,\n",
       "            -6.5193e-01, -2.6859e-02],\n",
       "           [-3.2096e-01, -3.0936e-01, -3.0936e-01,  ..., -7.0475e-01,\n",
       "            -7.0475e-01,  2.1126e-01]],\n",
       "\n",
       "          [[ 1.6076e-03, -1.7682e-02, -1.7682e-02,  ..., -1.3082e-02,\n",
       "            -1.3082e-02,  1.4343e-01],\n",
       "           [-2.4261e-01, -3.2312e-01, -3.2312e-01,  ..., -4.8304e-01,\n",
       "            -4.8304e-01, -2.6687e-02],\n",
       "           [-2.4261e-01, -3.2312e-01, -3.2312e-01,  ..., -4.8304e-01,\n",
       "            -4.8304e-01, -2.6687e-02],\n",
       "           ...,\n",
       "           [-2.1652e-01, -2.8732e-01, -2.8732e-01,  ..., -6.5193e-01,\n",
       "            -6.5193e-01, -2.6859e-02],\n",
       "           [-2.1652e-01, -2.8732e-01, -2.8732e-01,  ..., -6.5193e-01,\n",
       "            -6.5193e-01, -2.6859e-02],\n",
       "           [-3.2096e-01, -3.0936e-01, -3.0936e-01,  ..., -7.0475e-01,\n",
       "            -7.0475e-01,  2.1126e-01]],\n",
       "\n",
       "          [[ 6.1258e-02, -5.1637e-02, -5.1637e-02,  ..., -6.5326e-02,\n",
       "            -6.5326e-02,  2.6554e-02],\n",
       "           [-1.5464e-02, -2.4167e-01, -2.4167e-01,  ..., -3.5772e-01,\n",
       "            -3.5772e-01, -7.4464e-02],\n",
       "           [-1.5464e-02, -2.4167e-01, -2.4167e-01,  ..., -3.5772e-01,\n",
       "            -3.5772e-01, -7.4464e-02],\n",
       "           ...,\n",
       "           [-1.6761e-02, -2.1569e-01, -2.1569e-01,  ..., -4.8028e-01,\n",
       "            -4.8028e-01, -9.2300e-02],\n",
       "           [-1.6761e-02, -2.1569e-01, -2.1569e-01,  ..., -4.8028e-01,\n",
       "            -4.8028e-01, -9.2300e-02],\n",
       "           [-1.7025e-01, -3.2926e-01, -3.2926e-01,  ..., -7.5245e-01,\n",
       "            -7.5245e-01, -2.2253e-01]]],\n",
       "\n",
       "\n",
       "         [[[ 3.5210e-02,  7.4989e-02,  7.4989e-02,  ..., -1.0491e+00,\n",
       "            -1.0491e+00, -5.4067e-01],\n",
       "           [ 4.3855e-03,  8.7553e-02,  8.7553e-02,  ..., -1.1268e+00,\n",
       "            -1.1268e+00, -6.1124e-01],\n",
       "           [ 4.3855e-03,  8.7553e-02,  8.7553e-02,  ..., -1.1268e+00,\n",
       "            -1.1268e+00, -6.1124e-01],\n",
       "           ...,\n",
       "           [-7.8499e-01, -1.4672e+00, -1.4672e+00,  ..., -4.5825e-02,\n",
       "            -4.5825e-02, -6.3365e-02],\n",
       "           [-7.8499e-01, -1.4672e+00, -1.4672e+00,  ..., -4.5825e-02,\n",
       "            -4.5825e-02, -6.3365e-02],\n",
       "           [-2.8072e-01, -5.6786e-01, -5.6786e-01,  ..., -6.8906e-02,\n",
       "            -6.8906e-02, -7.6348e-02]],\n",
       "\n",
       "          [[ 6.1572e-02,  4.3343e-02,  4.3343e-02,  ..., -8.5326e-01,\n",
       "            -8.5326e-01, -1.8630e-01],\n",
       "           [ 4.0756e-02,  9.0264e-02,  9.0264e-02,  ..., -1.1436e+00,\n",
       "            -1.1436e+00, -5.4237e-01],\n",
       "           [ 4.0756e-02,  9.0264e-02,  9.0264e-02,  ..., -1.1436e+00,\n",
       "            -1.1436e+00, -5.4237e-01],\n",
       "           ...,\n",
       "           [-1.0833e+00, -1.4894e+00, -1.4894e+00,  ..., -4.5254e-02,\n",
       "            -4.5254e-02, -6.5708e-02],\n",
       "           [-1.0833e+00, -1.4894e+00, -1.4894e+00,  ..., -4.5254e-02,\n",
       "            -4.5254e-02, -6.5708e-02],\n",
       "           [-2.0299e-01, -4.0305e-01, -4.0305e-01,  ..., -7.3135e-02,\n",
       "            -7.3135e-02, -7.9945e-02]],\n",
       "\n",
       "          [[ 6.1572e-02,  4.3343e-02,  4.3343e-02,  ..., -8.5326e-01,\n",
       "            -8.5326e-01, -1.8630e-01],\n",
       "           [ 4.0756e-02,  9.0264e-02,  9.0264e-02,  ..., -1.1436e+00,\n",
       "            -1.1436e+00, -5.4237e-01],\n",
       "           [ 4.0756e-02,  9.0264e-02,  9.0264e-02,  ..., -1.1436e+00,\n",
       "            -1.1436e+00, -5.4237e-01],\n",
       "           ...,\n",
       "           [-1.0833e+00, -1.4894e+00, -1.4894e+00,  ..., -4.5254e-02,\n",
       "            -4.5254e-02, -6.5708e-02],\n",
       "           [-1.0833e+00, -1.4894e+00, -1.4894e+00,  ..., -4.5254e-02,\n",
       "            -4.5254e-02, -6.5708e-02],\n",
       "           [-2.0299e-01, -4.0305e-01, -4.0305e-01,  ..., -7.3135e-02,\n",
       "            -7.3135e-02, -7.9945e-02]],\n",
       "\n",
       "          ...,\n",
       "\n",
       "          [[ 4.6257e-01,  3.9321e-01,  3.9321e-01,  ...,  6.4884e-01,\n",
       "             6.4884e-01,  1.7855e-02],\n",
       "           [ 3.8337e-01,  5.7174e-01,  5.7174e-01,  ...,  9.2353e-01,\n",
       "             9.2353e-01,  3.5471e-01],\n",
       "           [ 3.8337e-01,  5.7174e-01,  5.7174e-01,  ...,  9.2353e-01,\n",
       "             9.2353e-01,  3.5471e-01],\n",
       "           ...,\n",
       "           [ 3.2732e-01,  4.9298e-01,  4.9298e-01,  ...,  1.2951e+00,\n",
       "             1.2951e+00,  5.1595e-01],\n",
       "           [ 3.2732e-01,  4.9298e-01,  4.9298e-01,  ...,  1.2951e+00,\n",
       "             1.2951e+00,  5.1595e-01],\n",
       "           [-3.1786e-02,  4.9819e-02,  4.9819e-02,  ...,  2.3305e-01,\n",
       "             2.3305e-01, -2.6343e-02]],\n",
       "\n",
       "          [[ 4.6257e-01,  3.9321e-01,  3.9321e-01,  ...,  6.4884e-01,\n",
       "             6.4884e-01,  1.7855e-02],\n",
       "           [ 3.8337e-01,  5.7174e-01,  5.7174e-01,  ...,  9.2353e-01,\n",
       "             9.2353e-01,  3.5471e-01],\n",
       "           [ 3.8337e-01,  5.7174e-01,  5.7174e-01,  ...,  9.2353e-01,\n",
       "             9.2353e-01,  3.5471e-01],\n",
       "           ...,\n",
       "           [ 3.2732e-01,  4.9298e-01,  4.9298e-01,  ...,  1.2951e+00,\n",
       "             1.2951e+00,  5.1595e-01],\n",
       "           [ 3.2732e-01,  4.9298e-01,  4.9298e-01,  ...,  1.2951e+00,\n",
       "             1.2951e+00,  5.1595e-01],\n",
       "           [-3.1786e-02,  4.9819e-02,  4.9819e-02,  ...,  2.3305e-01,\n",
       "             2.3305e-01, -2.6343e-02]],\n",
       "\n",
       "          [[ 2.5661e-01,  6.5183e-02,  6.5183e-02,  ...,  1.4413e-01,\n",
       "             1.4413e-01, -2.4406e-01],\n",
       "           [ 2.2873e-01,  1.5400e-01,  1.5400e-01,  ...,  2.8079e-01,\n",
       "             2.8079e-01, -1.2905e-01],\n",
       "           [ 2.2873e-01,  1.5400e-01,  1.5400e-01,  ...,  2.8079e-01,\n",
       "             2.8079e-01, -1.2905e-01],\n",
       "           ...,\n",
       "           [ 1.9134e-01,  1.2562e-01,  1.2562e-01,  ...,  4.1470e-01,\n",
       "             4.1470e-01, -1.4667e-01],\n",
       "           [ 1.9134e-01,  1.2562e-01,  1.2562e-01,  ...,  4.1470e-01,\n",
       "             4.1470e-01, -1.4667e-01],\n",
       "           [-7.7912e-02, -1.7828e-01, -1.7828e-01,  ..., -3.1358e-01,\n",
       "            -3.1358e-01, -4.4171e-01]]],\n",
       "\n",
       "\n",
       "         [[[ 6.1536e-02,  8.8402e-02,  8.8402e-02,  ..., -1.0607e-03,\n",
       "            -1.0607e-03, -1.9592e-01],\n",
       "           [-5.7017e-02, -2.9011e-02, -2.9011e-02,  ...,  7.2552e-01,\n",
       "             7.2552e-01,  7.7086e-02],\n",
       "           [-5.7017e-02, -2.9011e-02, -2.9011e-02,  ...,  7.2552e-01,\n",
       "             7.2552e-01,  7.7086e-02],\n",
       "           ...,\n",
       "           [ 1.1667e+00,  9.3698e-01,  9.3698e-01,  ...,  5.3859e-02,\n",
       "             5.3859e-02,  7.5918e-02],\n",
       "           [ 1.1667e+00,  9.3698e-01,  9.3698e-01,  ...,  5.3859e-02,\n",
       "             5.3859e-02,  7.5918e-02],\n",
       "           [ 1.1056e+00,  5.8098e-01,  5.8098e-01,  ...,  6.2995e-02,\n",
       "             6.2995e-02,  7.9935e-02]],\n",
       "\n",
       "          [[ 7.1853e-02,  1.4550e-01,  1.4550e-01,  ..., -3.5439e-01,\n",
       "            -3.5439e-01, -6.6393e-01],\n",
       "           [-5.0405e-02,  4.0072e-02,  4.0072e-02,  ...,  2.9801e-01,\n",
       "             2.9801e-01, -6.7150e-01],\n",
       "           [-5.0405e-02,  4.0072e-02,  4.0072e-02,  ...,  2.9801e-01,\n",
       "             2.9801e-01, -6.7150e-01],\n",
       "           ...,\n",
       "           [ 1.1125e+00,  3.7031e-01,  3.7031e-01,  ...,  6.8402e-02,\n",
       "             6.8402e-02,  1.0138e-01],\n",
       "           [ 1.1125e+00,  3.7031e-01,  3.7031e-01,  ...,  6.8402e-02,\n",
       "             6.8402e-02,  1.0138e-01],\n",
       "           [ 1.0924e+00,  1.3761e-01,  1.3761e-01,  ...,  7.4374e-02,\n",
       "             7.4374e-02,  9.9046e-02]],\n",
       "\n",
       "          [[ 7.1853e-02,  1.4550e-01,  1.4550e-01,  ..., -3.5439e-01,\n",
       "            -3.5439e-01, -6.6393e-01],\n",
       "           [-5.0405e-02,  4.0072e-02,  4.0072e-02,  ...,  2.9801e-01,\n",
       "             2.9801e-01, -6.7150e-01],\n",
       "           [-5.0405e-02,  4.0072e-02,  4.0072e-02,  ...,  2.9801e-01,\n",
       "             2.9801e-01, -6.7150e-01],\n",
       "           ...,\n",
       "           [ 1.1125e+00,  3.7031e-01,  3.7031e-01,  ...,  6.8402e-02,\n",
       "             6.8402e-02,  1.0138e-01],\n",
       "           [ 1.1125e+00,  3.7031e-01,  3.7031e-01,  ...,  6.8402e-02,\n",
       "             6.8402e-02,  1.0138e-01],\n",
       "           [ 1.0924e+00,  1.3761e-01,  1.3761e-01,  ...,  7.4374e-02,\n",
       "             7.4374e-02,  9.9046e-02]],\n",
       "\n",
       "          ...,\n",
       "\n",
       "          [[ 6.0344e-02,  3.4056e-01,  3.4056e-01,  ...,  4.8309e-01,\n",
       "             4.8309e-01,  7.7593e-01],\n",
       "           [-4.0484e-01, -6.0580e-02, -6.0580e-02,  ..., -1.3412e-01,\n",
       "            -1.3412e-01,  7.8309e-01],\n",
       "           [-4.0484e-01, -6.0580e-02, -6.0580e-02,  ..., -1.3412e-01,\n",
       "            -1.3412e-01,  7.8309e-01],\n",
       "           ...,\n",
       "           [-3.4686e-01, -4.4115e-02, -4.4115e-02,  ..., -2.1179e-01,\n",
       "            -2.1179e-01,  1.0445e+00],\n",
       "           [-3.4686e-01, -4.4115e-02, -4.4115e-02,  ..., -2.1179e-01,\n",
       "            -2.1179e-01,  1.0445e+00],\n",
       "           [-3.3868e-01,  5.0806e-02,  5.0806e-02,  ...,  1.5684e-02,\n",
       "             1.5684e-02,  9.5547e-01]],\n",
       "\n",
       "          [[ 6.0344e-02,  3.4056e-01,  3.4056e-01,  ...,  4.8309e-01,\n",
       "             4.8309e-01,  7.7593e-01],\n",
       "           [-4.0484e-01, -6.0580e-02, -6.0580e-02,  ..., -1.3412e-01,\n",
       "            -1.3412e-01,  7.8309e-01],\n",
       "           [-4.0484e-01, -6.0580e-02, -6.0580e-02,  ..., -1.3412e-01,\n",
       "            -1.3412e-01,  7.8309e-01],\n",
       "           ...,\n",
       "           [-3.4686e-01, -4.4115e-02, -4.4115e-02,  ..., -2.1179e-01,\n",
       "            -2.1179e-01,  1.0445e+00],\n",
       "           [-3.4686e-01, -4.4115e-02, -4.4115e-02,  ..., -2.1179e-01,\n",
       "            -2.1179e-01,  1.0445e+00],\n",
       "           [-3.3868e-01,  5.0806e-02,  5.0806e-02,  ...,  1.5684e-02,\n",
       "             1.5684e-02,  9.5547e-01]],\n",
       "\n",
       "          [[ 2.3909e-01,  4.8522e-01,  4.8522e-01,  ...,  7.0566e-01,\n",
       "             7.0566e-01,  7.2177e-01],\n",
       "           [ 2.4673e-02,  3.0058e-01,  3.0058e-01,  ...,  4.2157e-01,\n",
       "             4.2157e-01,  8.4759e-01],\n",
       "           [ 2.4673e-02,  3.0058e-01,  3.0058e-01,  ...,  4.2157e-01,\n",
       "             4.2157e-01,  8.4759e-01],\n",
       "           ...,\n",
       "           [ 3.0857e-02,  2.7349e-01,  2.7349e-01,  ...,  5.4935e-01,\n",
       "             5.4935e-01,  1.1329e+00],\n",
       "           [ 3.0857e-02,  2.7349e-01,  2.7349e-01,  ...,  5.4935e-01,\n",
       "             5.4935e-01,  1.1329e+00],\n",
       "           [-5.9351e-02,  1.8276e-01,  1.8276e-01,  ...,  3.3192e-01,\n",
       "             3.3192e-01,  7.0883e-01]]]]], grad_fn=<ConvolutionBackward0>)"
      ]
     },
     "execution_count": 62,
     "metadata": {},
     "output_type": "execute_result"
    }
   ],
   "source": [
    "patch_embeddings_extracted"
   ]
  },
  {
   "cell_type": "code",
   "execution_count": 77,
   "metadata": {},
   "outputs": [
    {
     "ename": "RuntimeError",
     "evalue": "shape mismatch: value tensor of shape [73, 3, 32, 32, 32] cannot be broadcast to indexing result of shape [73, 32, 3]",
     "output_type": "error",
     "traceback": [
      "\u001b[0;31m---------------------------------------------------------------------------\u001b[0m",
      "\u001b[0;31mRuntimeError\u001b[0m                              Traceback (most recent call last)",
      "Cell \u001b[0;32mIn[77], line 11\u001b[0m\n\u001b[1;32m      8\u001b[0m d_indices \u001b[38;5;241m=\u001b[39m fill_indices[:, \u001b[38;5;241m4\u001b[39m]\u001b[38;5;241m.\u001b[39munsqueeze(\u001b[38;5;241m1\u001b[39m) \u001b[38;5;241m*\u001b[39m P\n\u001b[1;32m     10\u001b[0m \u001b[38;5;66;03m# Use advanced indexing to fill in the mask\u001b[39;00m\n\u001b[0;32m---> 11\u001b[0m \u001b[43mfull_predicted_mask\u001b[49m\u001b[43m[\u001b[49m\u001b[43mb_indices\u001b[49m\u001b[43m,\u001b[49m\u001b[43m \u001b[49m\u001b[43m:\u001b[49m\u001b[43m,\u001b[49m\u001b[43m \u001b[49m\n\u001b[1;32m     12\u001b[0m \u001b[43m                    \u001b[49m\u001b[43mw_indices\u001b[49m\u001b[38;5;241;43m.\u001b[39;49m\u001b[43mexpand\u001b[49m\u001b[43m(\u001b[49m\u001b[38;5;241;43m-\u001b[39;49m\u001b[38;5;241;43m1\u001b[39;49m\u001b[43m,\u001b[49m\u001b[43m \u001b[49m\u001b[43mP\u001b[49m\u001b[43m)\u001b[49m\u001b[43m,\u001b[49m\u001b[43m \u001b[49m\n\u001b[1;32m     13\u001b[0m \u001b[43m                    \u001b[49m\u001b[43mh_indices\u001b[49m\u001b[38;5;241;43m.\u001b[39;49m\u001b[43mexpand\u001b[49m\u001b[43m(\u001b[49m\u001b[38;5;241;43m-\u001b[39;49m\u001b[38;5;241;43m1\u001b[39;49m\u001b[43m,\u001b[49m\u001b[43m \u001b[49m\u001b[43mP\u001b[49m\u001b[43m)\u001b[49m\u001b[43m,\u001b[49m\u001b[43m \u001b[49m\n\u001b[1;32m     14\u001b[0m \u001b[43m                    \u001b[49m\u001b[43md_indices\u001b[49m\u001b[38;5;241;43m.\u001b[39;49m\u001b[43mexpand\u001b[49m\u001b[43m(\u001b[49m\u001b[38;5;241;43m-\u001b[39;49m\u001b[38;5;241;43m1\u001b[39;49m\u001b[43m,\u001b[49m\u001b[43m \u001b[49m\u001b[43mP\u001b[49m\u001b[43m)\u001b[49m\u001b[43m]\u001b[49m \u001b[38;5;241m=\u001b[39m patch_embeddings_extracted\n",
      "\u001b[0;31mRuntimeError\u001b[0m: shape mismatch: value tensor of shape [73, 3, 32, 32, 32] cannot be broadcast to indexing result of shape [73, 32, 3]"
     ]
    }
   ],
   "source": [
    "fill_indices = torch.nonzero(patch_pred_labels, as_tuple=False)\n",
    "full_predicted_mask = torch.zeros((B, 3, W, H, D))\n",
    "\n",
    "\n"
   ]
  },
  {
   "cell_type": "code",
   "execution_count": null,
   "metadata": {},
   "outputs": [],
   "source": [
    "# Iterate over fill_indices and scatter the predicted masks into the full tensor\n",
    "for i in range(fill_indices.size(0)):\n",
    "    b, _, w_idx, h_idx, d_idx = fill_indices[i]\n",
    "    full_predicted_mask[b, :, w_idx * P:(w_idx + 1) * P,\n",
    "                         h_idx * P:(h_idx + 1) * P,\n",
    "                         d_idx * P:(d_idx + 1) * P] = patch_embeddings_extracted[i]"
   ]
  },
  {
   "cell_type": "code",
   "execution_count": 71,
   "metadata": {},
   "outputs": [
    {
     "data": {
      "text/plain": [
       "torch.Size([2, 3, 128, 128, 128])"
      ]
     },
     "execution_count": 71,
     "metadata": {},
     "output_type": "execute_result"
    }
   ],
   "source": [
    "full_predicted_mask.shape"
   ]
  },
  {
   "cell_type": "code",
   "execution_count": 67,
   "metadata": {},
   "outputs": [],
   "source": [
    "indices[0]\n",
    "indices = (torch.tensor(indices[i],dtype=torch.long) for i in range(len(indices)))"
   ]
  },
  {
   "cell_type": "code",
   "execution_count": 69,
   "metadata": {},
   "outputs": [
    {
     "ename": "TypeError",
     "evalue": "'generator' object is not subscriptable",
     "output_type": "error",
     "traceback": [
      "\u001b[0;31m---------------------------------------------------------------------------\u001b[0m",
      "\u001b[0;31mTypeError\u001b[0m                                 Traceback (most recent call last)",
      "Cell \u001b[0;32mIn[69], line 1\u001b[0m\n\u001b[0;32m----> 1\u001b[0m \u001b[43mindices\u001b[49m\u001b[43m[\u001b[49m\u001b[38;5;241;43m0\u001b[39;49m\u001b[43m]\u001b[49m\n",
      "\u001b[0;31mTypeError\u001b[0m: 'generator' object is not subscriptable"
     ]
    }
   ],
   "source": [
    "indices[0]"
   ]
  },
  {
   "cell_type": "code",
   "execution_count": 68,
   "metadata": {},
   "outputs": [
    {
     "ename": "TypeError",
     "evalue": "'generator' object is not subscriptable",
     "output_type": "error",
     "traceback": [
      "\u001b[0;31m---------------------------------------------------------------------------\u001b[0m",
      "\u001b[0;31mTypeError\u001b[0m                                 Traceback (most recent call last)",
      "Cell \u001b[0;32mIn[68], line 1\u001b[0m\n\u001b[0;32m----> 1\u001b[0m predicted_mask[\u001b[43mindices\u001b[49m\u001b[43m[\u001b[49m\u001b[38;5;241;43m0\u001b[39;49m\u001b[43m]\u001b[49m :, indices[\u001b[38;5;241m2\u001b[39m] \u001b[38;5;241m*\u001b[39m P: (indices[\u001b[38;5;241m2\u001b[39m] \u001b[38;5;241m+\u001b[39m \u001b[38;5;241m1\u001b[39m) \u001b[38;5;241m*\u001b[39m P, indices[\u001b[38;5;241m3\u001b[39m] \u001b[38;5;241m*\u001b[39m P: (indices[\u001b[38;5;241m3\u001b[39m] \u001b[38;5;241m+\u001b[39m \u001b[38;5;241m1\u001b[39m) \u001b[38;5;241m*\u001b[39m P, indices[\u001b[38;5;241m4\u001b[39m] \u001b[38;5;241m*\u001b[39m P: (indices[\u001b[38;5;241m4\u001b[39m] \u001b[38;5;241m+\u001b[39m \u001b[38;5;241m1\u001b[39m) \u001b[38;5;241m*\u001b[39m P] \u001b[38;5;241m=\u001b[39m patch_embeddings_extracted\n",
      "\u001b[0;31mTypeError\u001b[0m: 'generator' object is not subscriptable"
     ]
    }
   ],
   "source": [
    "predicted_mask[indices[0] :, indices[2] * P: (indices[2] + 1) * P, indices[3] * P: (indices[3] + 1) * P, indices[4] * P: (indices[4] + 1) * P] = patch_embeddings_extracted"
   ]
  },
  {
   "cell_type": "code",
   "execution_count": 61,
   "metadata": {},
   "outputs": [
    {
     "data": {
      "text/plain": [
       "tensor([ 64, 128,  32,  64,  96,  64, 128,  64, 128,  32,  96, 128, 128,  32,\n",
       "        128,  64,  96, 128,  96,  32,  96, 128,  96, 128,  32,  96, 128,  64,\n",
       "        128,  64,  96,  96, 128,  96, 128,  64,  96, 128,  32,  64,  96, 128,\n",
       "         64,  96, 128,  32,  96,  32,  64,  32,  64,  96,  32,  64,  96, 128,\n",
       "         32,  64,  96, 128,  64, 128, 128,  32,  64, 128,  32,  64, 128,  32,\n",
       "         64,  96, 128])"
      ]
     },
     "execution_count": 61,
     "metadata": {},
     "output_type": "execute_result"
    }
   ],
   "source": [
    "(indices[4] + 1)*P"
   ]
  },
  {
   "cell_type": "code",
   "execution_count": 54,
   "metadata": {},
   "outputs": [
    {
     "data": {
      "text/plain": [
       "torch.int64"
      ]
     },
     "execution_count": 54,
     "metadata": {},
     "output_type": "execute_result"
    }
   ],
   "source": [
    "indices[0].dtype"
   ]
  },
  {
   "cell_type": "code",
   "execution_count": 24,
   "metadata": {},
   "outputs": [
    {
     "data": {
      "text/plain": [
       "torch.Size([73, 512])"
      ]
     },
     "execution_count": 24,
     "metadata": {},
     "output_type": "execute_result"
    }
   ],
   "source": [
    "patch_embeddings[indices[0], :, indices[2], indices[3], indices[4]].shape"
   ]
  },
  {
   "cell_type": "code",
   "execution_count": 17,
   "metadata": {},
   "outputs": [
    {
     "data": {
      "text/plain": [
       "torch.Size([73, 512])"
      ]
     },
     "execution_count": 17,
     "metadata": {},
     "output_type": "execute_result"
    }
   ],
   "source": [
    "patch_embeddings_extracted.shape"
   ]
  },
  {
   "cell_type": "code",
   "execution_count": 2,
   "metadata": {},
   "outputs": [],
   "source": [
    "import torch"
   ]
  },
  {
   "cell_type": "code",
   "execution_count": 14,
   "metadata": {},
   "outputs": [],
   "source": [
    "a = torch.randn(2,27,4,4,4)"
   ]
  },
  {
   "cell_type": "code",
   "execution_count": 17,
   "metadata": {},
   "outputs": [
    {
     "data": {
      "text/plain": [
       "torch.Size([128, 1, 3, 3, 3])"
      ]
     },
     "execution_count": 17,
     "metadata": {},
     "output_type": "execute_result"
    }
   ],
   "source": [
    "a.permute(0,2,3,4,1).contiguous().view(-1,3,3,3).unsqueeze(1).shape"
   ]
  },
  {
   "cell_type": "code",
   "execution_count": 28,
   "metadata": {},
   "outputs": [
    {
     "data": {
      "text/plain": [
       "tensor([[[[[-1.2816,  0.3369],\n",
       "           [-0.9877, -0.4192],\n",
       "           [ 0.6433, -0.2720]],\n",
       "\n",
       "          [[ 0.3197, -0.8071],\n",
       "           [ 0.4907, -0.3945],\n",
       "           [-1.2484, -1.2634]]],\n",
       "\n",
       "\n",
       "         [[[ 0.7450, -1.9769],\n",
       "           [-0.5431, -0.4924],\n",
       "           [-1.6434, -1.0368]],\n",
       "\n",
       "          [[-0.2818,  0.3876],\n",
       "           [ 2.8121, -0.6389],\n",
       "           [ 0.2694,  0.2201]]],\n",
       "\n",
       "\n",
       "         [[[-0.0977, -1.5234],\n",
       "           [-1.1313,  0.2077],\n",
       "           [-0.0113, -0.5947]],\n",
       "\n",
       "          [[-0.0258, -1.5154],\n",
       "           [ 0.5600,  1.5473],\n",
       "           [-0.3395, -0.3595]]]]])"
      ]
     },
     "execution_count": 28,
     "metadata": {},
     "output_type": "execute_result"
    }
   ],
   "source": [
    "a = torch.randn(1,3,2,3,2)\n",
    "a"
   ]
  },
  {
   "cell_type": "code",
   "execution_count": 35,
   "metadata": {},
   "outputs": [
    {
     "data": {
      "text/plain": [
       "tensor([[[[[1, 1],\n",
       "           [1, 0],\n",
       "           [1, 1]],\n",
       "\n",
       "          [[0, 1],\n",
       "           [1, 1],\n",
       "           [0, 0]]]]])"
      ]
     },
     "execution_count": 35,
     "metadata": {},
     "output_type": "execute_result"
    }
   ],
   "source": [
    "b = torch.randint(2,(1,1,2,3,2))\n",
    "b"
   ]
  },
  {
   "cell_type": "code",
   "execution_count": 36,
   "metadata": {},
   "outputs": [],
   "source": [
    "idxs = b.nonzero(as_tuple=True)"
   ]
  },
  {
   "cell_type": "code",
   "execution_count": 37,
   "metadata": {},
   "outputs": [
    {
     "data": {
      "text/plain": [
       "(tensor([0, 0, 0, 0, 0, 0, 0, 0]),\n",
       " tensor([0, 0, 0, 0, 0, 0, 0, 0]),\n",
       " tensor([0, 0, 0, 0, 0, 1, 1, 1]),\n",
       " tensor([0, 0, 1, 2, 2, 0, 1, 1]),\n",
       " tensor([0, 1, 0, 0, 1, 1, 0, 1]))"
      ]
     },
     "execution_count": 37,
     "metadata": {},
     "output_type": "execute_result"
    }
   ],
   "source": [
    "idxs"
   ]
  },
  {
   "cell_type": "code",
   "execution_count": 40,
   "metadata": {},
   "outputs": [
    {
     "data": {
      "text/plain": [
       "torch.Size([8, 3])"
      ]
     },
     "execution_count": 40,
     "metadata": {},
     "output_type": "execute_result"
    }
   ],
   "source": [
    "a[idxs[0],:,idxs[2],idxs[3],idxs[4]].shape"
   ]
  },
  {
   "cell_type": "code",
   "execution_count": null,
   "metadata": {},
   "outputs": [],
   "source": []
  },
  {
   "cell_type": "code",
   "execution_count": 41,
   "metadata": {},
   "outputs": [
    {
     "data": {
      "text/plain": [
       "torch.Size([1, 3, 2, 3, 2])"
      ]
     },
     "execution_count": 41,
     "metadata": {},
     "output_type": "execute_result"
    }
   ],
   "source": [
    "a.shape"
   ]
  },
  {
   "cell_type": "code",
   "execution_count": 43,
   "metadata": {},
   "outputs": [],
   "source": [
    "c = torch.randn(18,27)"
   ]
  },
  {
   "cell_type": "code",
   "execution_count": 44,
   "metadata": {},
   "outputs": [
    {
     "data": {
      "text/plain": [
       "True"
      ]
     },
     "execution_count": 44,
     "metadata": {},
     "output_type": "execute_result"
    }
   ],
   "source": [
    "torch.equal(c.view(18, 1, 3, 3, 3),c.view(18, 3, 3, 3).unsqueeze(1))"
   ]
  },
  {
   "cell_type": "code",
   "execution_count": 13,
   "metadata": {},
   "outputs": [
    {
     "name": "stdout",
     "output_type": "stream",
     "text": [
      "┏━━━━━━━━━━━━━━━━━━━━━━━━━━━┳━━━━━━━━━━━━━━━━━━━━━━━━━━━┓\n",
      "┃        Test metric        ┃       DataLoader 0        ┃\n",
      "┡━━━━━━━━━━━━━━━━━━━━━━━━━━━╇━━━━━━━━━━━━━━━━━━━━━━━━━━━┩\n",
      "│ test/bce_loss             │    0.612697958946228      │\n",
      "│ test/dice                 │    0.8849524259567261     │\n",
      "│ test/dice_ET              │    0.8522501587867737     │\n",
      "│ test/dice_TC              │    0.8944156765937805     │\n",
      "│ test/dice_WT              │    0.9081919193267822     │\n",
      "│ test/dice_loss            │    0.9753769636154175     │\n",
      "│ test/loss                 │    1.7974729537963867     │\n",
      "│ test/mse_loss             │    0.20939810574054718    │\n",
      "└───────────────────────────┴───────────────────────────┘\n"
     ]
    }
   ],
   "source": [
    "import csv\n",
    "\n",
    "def print_metrics_table(csv_filename):\n",
    "    # Read the csv file\n",
    "    with open(csv_filename, mode='r') as file:\n",
    "        reader = csv.DictReader(file)\n",
    "        # Get the first row (data) from the CSV\n",
    "        data = next(reader)\n",
    "\n",
    "    # Filter out 'epoch' and 'step' columns\n",
    "    metrics = {k: v for k, v in data.items() if k not in ['epoch', 'step']}\n",
    "\n",
    "    # Create the header for the table\n",
    "    table = \"┏━━━━━━━━━━━━━━━━━━━━━━━━━━━┳━━━━━━━━━━━━━━━━━━━━━━━━━━━┓\\n\"\n",
    "    table += \"┃        Test metric        ┃       DataLoader 0        ┃\\n\"\n",
    "    table += \"┡━━━━━━━━━━━━━━━━━━━━━━━━━━━╇━━━━━━━━━━━━━━━━━━━━━━━━━━━┩\\n\"\n",
    "\n",
    "    # Dynamically create rows based on the remaining columns (metrics)\n",
    "    for metric, value in metrics.items():\n",
    "        table += f\"│ {metric:<23}   │    {value:<23}│\\n\"\n",
    "\n",
    "    # Create the footer for the table\n",
    "    table += \"└───────────────────────────┴───────────────────────────┘\"\n",
    "\n",
    "    # Print the formatted table\n",
    "    print(table)\n",
    "\n",
    "# Example usage\n",
    "print_metrics_table('/home/sanyal/Projects/BraTS3DDiff/logs/bratseg_logs/diffusion/BraTS23-DiffUNet-roi_96-meantype_xstart-with_deno_loss-no_mse_loss/test/runs/2024-08-22_19-39-32/csv/version_0/metrics.csv')\n"
   ]
  },
  {
   "cell_type": "code",
   "execution_count": 7,
   "metadata": {},
   "outputs": [
    {
     "data": {
      "text/html": [
       "<div>\n",
       "<style scoped>\n",
       "    .dataframe tbody tr th:only-of-type {\n",
       "        vertical-align: middle;\n",
       "    }\n",
       "\n",
       "    .dataframe tbody tr th {\n",
       "        vertical-align: top;\n",
       "    }\n",
       "\n",
       "    .dataframe thead th {\n",
       "        text-align: right;\n",
       "    }\n",
       "</style>\n",
       "<table border=\"1\" class=\"dataframe\">\n",
       "  <thead>\n",
       "    <tr style=\"text-align: right;\">\n",
       "      <th></th>\n",
       "      <th>0</th>\n",
       "    </tr>\n",
       "  </thead>\n",
       "  <tbody>\n",
       "    <tr>\n",
       "      <th>epoch</th>\n",
       "      <td>0.000000</td>\n",
       "    </tr>\n",
       "    <tr>\n",
       "      <th>step</th>\n",
       "      <td>0.000000</td>\n",
       "    </tr>\n",
       "    <tr>\n",
       "      <th>test/bce_loss</th>\n",
       "      <td>0.612698</td>\n",
       "    </tr>\n",
       "    <tr>\n",
       "      <th>test/dice</th>\n",
       "      <td>0.884952</td>\n",
       "    </tr>\n",
       "    <tr>\n",
       "      <th>test/dice_ET</th>\n",
       "      <td>0.852250</td>\n",
       "    </tr>\n",
       "    <tr>\n",
       "      <th>test/dice_TC</th>\n",
       "      <td>0.894416</td>\n",
       "    </tr>\n",
       "    <tr>\n",
       "      <th>test/dice_WT</th>\n",
       "      <td>0.908192</td>\n",
       "    </tr>\n",
       "    <tr>\n",
       "      <th>test/dice_loss</th>\n",
       "      <td>0.975377</td>\n",
       "    </tr>\n",
       "    <tr>\n",
       "      <th>test/loss</th>\n",
       "      <td>1.797473</td>\n",
       "    </tr>\n",
       "    <tr>\n",
       "      <th>test/mse_loss</th>\n",
       "      <td>0.209398</td>\n",
       "    </tr>\n",
       "  </tbody>\n",
       "</table>\n",
       "</div>"
      ],
      "text/plain": [
       "                       0\n",
       "epoch           0.000000\n",
       "step            0.000000\n",
       "test/bce_loss   0.612698\n",
       "test/dice       0.884952\n",
       "test/dice_ET    0.852250\n",
       "test/dice_TC    0.894416\n",
       "test/dice_WT    0.908192\n",
       "test/dice_loss  0.975377\n",
       "test/loss       1.797473\n",
       "test/mse_loss   0.209398"
      ]
     },
     "execution_count": 7,
     "metadata": {},
     "output_type": "execute_result"
    }
   ],
   "source": [
    "import pandas as pd\n",
    "pd.read_csv('/home/sanyal/Projects/BraTS3DDiff/logs/bratseg_logs/diffusion/BraTS23-DiffUNet-roi_96-meantype_xstart-with_deno_loss-no_mse_loss/test/runs/2024-08-22_19-39-32/csv/version_0/metrics.csv').T"
   ]
  }
 ],
 "metadata": {
  "kernelspec": {
   "display_name": "bratseg",
   "language": "python",
   "name": "python3"
  },
  "language_info": {
   "codemirror_mode": {
    "name": "ipython",
    "version": 3
   },
   "file_extension": ".py",
   "mimetype": "text/x-python",
   "name": "python",
   "nbconvert_exporter": "python",
   "pygments_lexer": "ipython3",
   "version": "3.10.14"
  }
 },
 "nbformat": 4,
 "nbformat_minor": 2
}
