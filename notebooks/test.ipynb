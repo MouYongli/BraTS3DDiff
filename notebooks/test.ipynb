{
 "cells": [
  {
   "cell_type": "code",
   "execution_count": null,
   "metadata": {},
   "outputs": [],
   "source": [
    "class A():\n",
    "    def __init__(self):\n",
    "        pass\n",
    "    def a(self,x):\n",
    "        if x == 'm':\n",
    "            print('m')\n",
    "        elif x == 'n':\n",
    "            print('n')\n",
    "\n",
    "class B(A):\n",
    "    def __init__(self):\n",
    "        super().__init__()\n",
    "    def a(self,x):\n",
    "        if x == 'm'\n",
    "        super().a(x)\n",
    "        if x == 'n':\n",
    "            print('k')\n",
    "\n",
    "b = B()\n",
    "b.a('n')"
   ]
  },
  {
   "cell_type": "code",
   "execution_count": null,
   "metadata": {},
   "outputs": [],
   "source": [
    "import numpy as np"
   ]
  },
  {
   "cell_type": "code",
   "execution_count": null,
   "metadata": {},
   "outputs": [],
   "source": [
    "arr = np.random.randn(3,5)\n",
    "pad_width = [(2, 3), (1, 2)]  # Padding for (w, h, d)\n",
    "arr1 = np.pad(arr, pad_width, mode='constant', constant_values=0)"
   ]
  },
  {
   "cell_type": "code",
   "execution_count": null,
   "metadata": {},
   "outputs": [],
   "source": [
    "arr"
   ]
  },
  {
   "cell_type": "code",
   "execution_count": null,
   "metadata": {},
   "outputs": [],
   "source": [
    "arr1\n"
   ]
  },
  {
   "cell_type": "code",
   "execution_count": null,
   "metadata": {},
   "outputs": [],
   "source": [
    "arr1=torch.from_numpy(arr1)"
   ]
  },
  {
   "cell_type": "code",
   "execution_count": null,
   "metadata": {},
   "outputs": [],
   "source": [
    "arr1"
   ]
  },
  {
   "cell_type": "code",
   "execution_count": null,
   "metadata": {},
   "outputs": [],
   "source": [
    "a=torch.randn(4,4)"
   ]
  },
  {
   "cell_type": "code",
   "execution_count": null,
   "metadata": {},
   "outputs": [],
   "source": [
    "a"
   ]
  },
  {
   "cell_type": "code",
   "execution_count": null,
   "metadata": {},
   "outputs": [],
   "source": [
    "torch.clamp(a,0,1)"
   ]
  },
  {
   "cell_type": "code",
   "execution_count": null,
   "metadata": {},
   "outputs": [],
   "source": [
    "v=''\n",
    "f\"dd{v}\""
   ]
  },
  {
   "cell_type": "code",
   "execution_count": null,
   "metadata": {},
   "outputs": [],
   "source": [
    "arr1[arr1>0] = 1"
   ]
  },
  {
   "cell_type": "code",
   "execution_count": null,
   "metadata": {},
   "outputs": [],
   "source": [
    "arr1"
   ]
  },
  {
   "cell_type": "markdown",
   "metadata": {},
   "source": [
    "## Sliding Windows"
   ]
  },
  {
   "cell_type": "code",
   "execution_count": null,
   "metadata": {},
   "outputs": [],
   "source": [
    "def sliding_windows()"
   ]
  },
  {
   "cell_type": "code",
   "execution_count": null,
   "metadata": {},
   "outputs": [],
   "source": [
    "import torch"
   ]
  },
  {
   "cell_type": "code",
   "execution_count": null,
   "metadata": {},
   "outputs": [],
   "source": []
  },
  {
   "cell_type": "code",
   "execution_count": null,
   "metadata": {},
   "outputs": [],
   "source": [
    "arr = torch.randn(5,5)\n",
    "arr"
   ]
  },
  {
   "cell_type": "code",
   "execution_count": null,
   "metadata": {},
   "outputs": [],
   "source": []
  },
  {
   "cell_type": "code",
   "execution_count": null,
   "metadata": {},
   "outputs": [],
   "source": [
    "w, h = arr.shape\n",
    "n = 2\n",
    "s = 1\n",
    "# Calculate the shape of the output windows\n",
    "out_w = (w - n) // s + 1\n",
    "out_h = (h - n) // s + 1\n",
    "\n",
    "# Unfold the dimensions and reshape\n",
    "windows = arr.unfold(0, n, s).unfold(1, n, s)\n",
    "windows = windows.contiguous().view(out_w, out_h, n, n)"
   ]
  },
  {
   "cell_type": "code",
   "execution_count": null,
   "metadata": {},
   "outputs": [],
   "source": [
    "windows.reshape(16,2,2)"
   ]
  },
  {
   "cell_type": "code",
   "execution_count": null,
   "metadata": {},
   "outputs": [],
   "source": [
    "# Example usage\n",
    "B = 2    # Batch size\n",
    "C = 3  # Number of channels in output mask\n",
    "W = 128   # Width of the input image\n",
    "H = 128   # Height of the input image\n",
    "D = 128   # Depth of the input image\n",
    "P = 32   # Patch size\n",
    "W_P, H_P, D_P = W // P, H // P, D // P  # Number of patches"
   ]
  },
  {
   "cell_type": "code",
   "execution_count": null,
   "metadata": {},
   "outputs": [],
   "source": [
    "import torch"
   ]
  },
  {
   "cell_type": "code",
   "execution_count": null,
   "metadata": {},
   "outputs": [],
   "source": [
    "label_map = torch.randint(0, 2, (B, 1, W_P, H_P, D_P)).float()  # Random label map\n",
    "patch_preds = torch.rand((B, C, W_P, H_P, D_P, P, P, P)) "
   ]
  },
  {
   "cell_type": "code",
   "execution_count": null,
   "metadata": {},
   "outputs": [],
   "source": [
    "patch_preds1 = patch_preds.view(B*W_P*H_P*D_P, C, P, P, P)"
   ]
  },
  {
   "cell_type": "code",
   "execution_count": null,
   "metadata": {},
   "outputs": [],
   "source": [
    "label_map = label_map.view(B*W_P*H_P*D_P,1,1,1,1)\n",
    "label_map = label_map.expand(-1, C, P, P, P)"
   ]
  },
  {
   "cell_type": "code",
   "execution_count": null,
   "metadata": {},
   "outputs": [],
   "source": [
    "label_map.shape\n"
   ]
  },
  {
   "cell_type": "code",
   "execution_count": null,
   "metadata": {},
   "outputs": [],
   "source": [
    "# Zero out the patch predictions where the mask is 0\n",
    "final_patch_preds = patch_preds1 * label_map  # Broadcasting to apply the mask\n",
    "\n",
    "# Reshape to get the final mask of shape (B, C', W, H, D)\n",
    "final_mask1 = final_patch_preds.view(B, C, W_P * P, H_P * P, D_P * P)"
   ]
  },
  {
   "cell_type": "code",
   "execution_count": null,
   "metadata": {},
   "outputs": [],
   "source": [
    "final_mask1.shape"
   ]
  },
  {
   "cell_type": "code",
   "execution_count": null,
   "metadata": {},
   "outputs": [],
   "source": [
    "(final_mask1==final_mask).sum()\n"
   ]
  },
  {
   "cell_type": "code",
   "execution_count": null,
   "metadata": {},
   "outputs": [],
   "source": [
    "import numpy as np\n",
    "np.prod(final_mask1.shape)"
   ]
  },
  {
   "cell_type": "code",
   "execution_count": null,
   "metadata": {},
   "outputs": [],
   "source": [
    "patch_preds1.shape"
   ]
  },
  {
   "cell_type": "code",
   "execution_count": null,
   "metadata": {},
   "outputs": [],
   "source": [
    "label_map_expanded = label_map.view(B, 1, W_P, H_P, D_P, 1, 1, 1)\n",
    "mask = label_map_expanded.expand(-1, C, -1, -1, -1, P, P, P)  # (B, C', W/P, H/P, D/P, P, P, P)\n",
    "mask.shape"
   ]
  },
  {
   "cell_type": "code",
   "execution_count": null,
   "metadata": {},
   "outputs": [],
   "source": [
    "label_map_expanded = label_map.view(B, 1, W_P, H_P, D_P, 1, 1, 1)\n",
    "mask = label_map_expanded.expand(-1, C, -1, -1, -1, P, P, P)  # (B, C', W/P, H/P, D/P, P, P, P)\n",
    "\n",
    "# Zero out the patch predictions where the mask is 0\n",
    "final_patch_preds = patch_preds.view(B, C, W_P, H_P, D_P, P, P, P) * mask  # Broadcasting to apply the mask\n",
    "\n",
    "# Reshape to get the final mask of shape (B, C', W, H, D)\n",
    "final_mask = final_patch_preds.view(B, C, W_P * P, H_P * P, D_P * P)\n",
    "\n"
   ]
  },
  {
   "cell_type": "code",
   "execution_count": null,
   "metadata": {},
   "outputs": [],
   "source": [
    "final_mask.shape"
   ]
  },
  {
   "cell_type": "code",
   "execution_count": null,
   "metadata": {},
   "outputs": [],
   "source": [
    "import torch"
   ]
  },
  {
   "cell_type": "code",
   "execution_count": null,
   "metadata": {},
   "outputs": [],
   "source": [
    "# Initialize parameters\n",
    "B = 2  # Batch size\n",
    "C = 4  # Number of channels in the image\n",
    "W, H, D = 128, 128, 128  # Dimensions of the image\n",
    "P = 32  # Patch size\n",
    "C_prime = 3 # Number of channels in the output mask"
   ]
  },
  {
   "cell_type": "code",
   "execution_count": null,
   "metadata": {},
   "outputs": [],
   "source": [
    "patch_pred_labels = torch.randint(0, 2, (B, 1, W // P, H // P, D // P))  # Random patch predictions\n",
    "patch_pred_labels.shape\n"
   ]
  },
  {
   "cell_type": "code",
   "execution_count": null,
   "metadata": {},
   "outputs": [],
   "source": [
    "patch_embeddings = torch.randn(B, 512, W // P, H // P, D // P)\n",
    "patch_embeddings.shape"
   ]
  },
  {
   "cell_type": "code",
   "execution_count": null,
   "metadata": {},
   "outputs": [],
   "source": [
    "pos_indices = patch_pred_labels.nonzero(as_tuple=True)\n",
    "patch_embeddings[pos_indices].shape"
   ]
  },
  {
   "cell_type": "code",
   "execution_count": null,
   "metadata": {},
   "outputs": [],
   "source": [
    "indices"
   ]
  },
  {
   "cell_type": "code",
   "execution_count": null,
   "metadata": {},
   "outputs": [],
   "source": [
    "# Extract indices where patch_pred_labels is True\n",
    "indices = patch_pred_labels.nonzero(as_tuple=True)\n",
    "\n",
    "# Use the indices to gather the embeddings\n",
    "# We need to gather over the first dimension (batch)\n",
    "patch_embeddings_extracted = patch_embeddings[indices[0], :, indices[2], indices[3], indices[4]]\n",
    "patch_embeddings_extracted = patch_embeddings_extracted.view(73,1,8,8,8)\n",
    "print(patch_embeddings_extracted.shape)\n",
    "\n",
    "# Reshape to (K, 512)\n",
    "#patch_embeddings_extracted = patch_embeddings_extracted.view(-1, 512)"
   ]
  },
  {
   "cell_type": "code",
   "execution_count": null,
   "metadata": {},
   "outputs": [],
   "source": []
  },
  {
   "cell_type": "code",
   "execution_count": null,
   "metadata": {},
   "outputs": [],
   "source": [
    "# Define a simple network B for mask prediction\n",
    "class Net(torch.nn.Module):\n",
    "    def __init__(self):\n",
    "        super(Net, self).__init__()\n",
    "        self.up = torch.nn.Upsample(scale_factor=4, mode='nearest')\n",
    "        self.conv = torch.nn.Conv3d(1, 3, kernel_size=3, padding=1)\n",
    "\n",
    "    def forward(self, x):\n",
    "        return self.conv(self.up(x))\n",
    "net = Net()"
   ]
  },
  {
   "cell_type": "code",
   "execution_count": null,
   "metadata": {},
   "outputs": [],
   "source": [
    "patch_embeddings_extracted = net(patch_embeddings_extracted)"
   ]
  },
  {
   "cell_type": "code",
   "execution_count": null,
   "metadata": {},
   "outputs": [],
   "source": [
    "patch_embeddings_extracted.shape"
   ]
  },
  {
   "cell_type": "code",
   "execution_count": null,
   "metadata": {},
   "outputs": [],
   "source": [
    "predicted_mask = torch.zeros((B, 3, W, H, D))\n",
    "predicted_mask.dtype"
   ]
  },
  {
   "cell_type": "code",
   "execution_count": null,
   "metadata": {},
   "outputs": [],
   "source": [
    "patch_embeddings_extracted"
   ]
  },
  {
   "cell_type": "code",
   "execution_count": null,
   "metadata": {},
   "outputs": [],
   "source": [
    "fill_indices = torch.nonzero(patch_pred_labels, as_tuple=False)\n",
    "full_predicted_mask = torch.zeros((B, 3, W, H, D))\n",
    "\n",
    "\n"
   ]
  },
  {
   "cell_type": "code",
   "execution_count": null,
   "metadata": {},
   "outputs": [],
   "source": [
    "# Iterate over fill_indices and scatter the predicted masks into the full tensor\n",
    "for i in range(fill_indices.size(0)):\n",
    "    b, _, w_idx, h_idx, d_idx = fill_indices[i]\n",
    "    full_predicted_mask[b, :, w_idx * P:(w_idx + 1) * P,\n",
    "                         h_idx * P:(h_idx + 1) * P,\n",
    "                         d_idx * P:(d_idx + 1) * P] = patch_embeddings_extracted[i]"
   ]
  },
  {
   "cell_type": "code",
   "execution_count": null,
   "metadata": {},
   "outputs": [],
   "source": [
    "full_predicted_mask.shape"
   ]
  },
  {
   "cell_type": "code",
   "execution_count": null,
   "metadata": {},
   "outputs": [],
   "source": [
    "indices[0]\n",
    "indices = (torch.tensor(indices[i],dtype=torch.long) for i in range(len(indices)))"
   ]
  },
  {
   "cell_type": "code",
   "execution_count": null,
   "metadata": {},
   "outputs": [],
   "source": [
    "indices[0]"
   ]
  },
  {
   "cell_type": "code",
   "execution_count": null,
   "metadata": {},
   "outputs": [],
   "source": [
    "predicted_mask[indices[0] :, indices[2] * P: (indices[2] + 1) * P, indices[3] * P: (indices[3] + 1) * P, indices[4] * P: (indices[4] + 1) * P] = patch_embeddings_extracted"
   ]
  },
  {
   "cell_type": "code",
   "execution_count": null,
   "metadata": {},
   "outputs": [],
   "source": [
    "(indices[4] + 1)*P"
   ]
  },
  {
   "cell_type": "code",
   "execution_count": null,
   "metadata": {},
   "outputs": [],
   "source": [
    "indices[0].dtype"
   ]
  },
  {
   "cell_type": "code",
   "execution_count": null,
   "metadata": {},
   "outputs": [],
   "source": [
    "patch_embeddings[indices[0], :, indices[2], indices[3], indices[4]].shape"
   ]
  },
  {
   "cell_type": "code",
   "execution_count": null,
   "metadata": {},
   "outputs": [],
   "source": [
    "patch_embeddings_extracted.shape"
   ]
  },
  {
   "cell_type": "code",
   "execution_count": null,
   "metadata": {},
   "outputs": [],
   "source": [
    "import torch"
   ]
  },
  {
   "cell_type": "code",
   "execution_count": null,
   "metadata": {},
   "outputs": [],
   "source": [
    "a = torch.randn(2,27,4,4,4)"
   ]
  },
  {
   "cell_type": "code",
   "execution_count": null,
   "metadata": {},
   "outputs": [],
   "source": [
    "a.permute(0,2,3,4,1).contiguous().view(-1,3,3,3).unsqueeze(1).shape"
   ]
  },
  {
   "cell_type": "code",
   "execution_count": null,
   "metadata": {},
   "outputs": [],
   "source": [
    "a = torch.randn(1,3,2,3,2)\n",
    "a"
   ]
  },
  {
   "cell_type": "code",
   "execution_count": null,
   "metadata": {},
   "outputs": [],
   "source": [
    "b = torch.randint(2,(1,1,2,3,2))\n",
    "b"
   ]
  },
  {
   "cell_type": "code",
   "execution_count": null,
   "metadata": {},
   "outputs": [],
   "source": [
    "idxs = b.nonzero(as_tuple=True)"
   ]
  },
  {
   "cell_type": "code",
   "execution_count": null,
   "metadata": {},
   "outputs": [],
   "source": [
    "idxs"
   ]
  },
  {
   "cell_type": "code",
   "execution_count": null,
   "metadata": {},
   "outputs": [],
   "source": [
    "a[idxs[0],:,idxs[2],idxs[3],idxs[4]].shape"
   ]
  },
  {
   "cell_type": "code",
   "execution_count": null,
   "metadata": {},
   "outputs": [],
   "source": []
  },
  {
   "cell_type": "code",
   "execution_count": null,
   "metadata": {},
   "outputs": [],
   "source": [
    "a.shape"
   ]
  },
  {
   "cell_type": "code",
   "execution_count": null,
   "metadata": {},
   "outputs": [],
   "source": [
    "c = torch.randn(18,27)"
   ]
  },
  {
   "cell_type": "code",
   "execution_count": null,
   "metadata": {},
   "outputs": [],
   "source": [
    "torch.equal(c.view(18, 1, 3, 3, 3),c.view(18, 3, 3, 3).unsqueeze(1))"
   ]
  },
  {
   "cell_type": "code",
   "execution_count": null,
   "metadata": {},
   "outputs": [],
   "source": [
    "import csv\n",
    "\n",
    "def print_metrics_table(csv_filename):\n",
    "    # Read the csv file\n",
    "    with open(csv_filename, mode='r') as file:\n",
    "        reader = csv.DictReader(file)\n",
    "        # Get the first row (data) from the CSV\n",
    "        data = next(reader)\n",
    "\n",
    "    # Filter out 'epoch' and 'step' columns\n",
    "    metrics = {k: v for k, v in data.items() if k not in ['epoch', 'step']}\n",
    "\n",
    "    # Create the header for the table\n",
    "    table = \"┏━━━━━━━━━━━━━━━━━━━━━━━━━━━┳━━━━━━━━━━━━━━━━━━━━━━━━━━━┓\\n\"\n",
    "    table += \"┃        Test metric        ┃       DataLoader 0        ┃\\n\"\n",
    "    table += \"┡━━━━━━━━━━━━━━━━━━━━━━━━━━━╇━━━━━━━━━━━━━━━━━━━━━━━━━━━┩\\n\"\n",
    "\n",
    "    # Dynamically create rows based on the remaining columns (metrics)\n",
    "    for metric, value in metrics.items():\n",
    "        table += f\"│ {metric:<23}   │    {value:<23}│\\n\"\n",
    "\n",
    "    # Create the footer for the table\n",
    "    table += \"└───────────────────────────┴───────────────────────────┘\"\n",
    "\n",
    "    # Print the formatted table\n",
    "    print(table)\n",
    "\n",
    "# Example usage\n",
    "print_metrics_table('/home/sanyal/Projects/BraTS3DDiff/logs/bratseg_logs/diffusion/BraTS23-DiffUNet-roi_96-meantype_xstart-with_deno_loss-no_mse_loss/test/runs/2024-08-22_19-39-32/csv/version_0/metrics.csv')\n"
   ]
  },
  {
   "cell_type": "code",
   "execution_count": null,
   "metadata": {},
   "outputs": [],
   "source": [
    "import pandas as pd\n",
    "pd.read_csv('/home/sanyal/Projects/BraTS3DDiff/logs/bratseg_logs/diffusion/BraTS23-DiffUNet-roi_96-meantype_xstart-with_deno_loss-no_mse_loss/test/runs/2024-08-22_19-39-32/csv/version_0/metrics.csv').T"
   ]
  }
 ],
 "metadata": {
  "kernelspec": {
   "display_name": "bratseg",
   "language": "python",
   "name": "python3"
  },
  "language_info": {
   "codemirror_mode": {
    "name": "ipython",
    "version": 3
   },
   "file_extension": ".py",
   "mimetype": "text/x-python",
   "name": "python",
   "nbconvert_exporter": "python",
   "pygments_lexer": "ipython3",
   "version": "3.10.14"
  }
 },
 "nbformat": 4,
 "nbformat_minor": 2
}
