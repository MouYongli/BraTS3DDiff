{
 "cells": [
  {
   "cell_type": "code",
   "execution_count": null,
   "metadata": {},
   "outputs": [],
   "source": [
    "from matplotlib import pyplot as plt\n",
    "import numpy as np\n",
    "import random\n",
    "\n",
    "path = '/home/sanyal/DATA/diffusion-lightning-hydra-out/logs/eval/runs/2024-06-24_11-42-45/samples_100x32x32x3.npz'"
   ]
  },
  {
   "cell_type": "code",
   "execution_count": null,
   "metadata": {},
   "outputs": [],
   "source": []
  },
  {
   "cell_type": "code",
   "execution_count": null,
   "metadata": {},
   "outputs": [],
   "source": [
    "path_ = '/home/sanyal/DATA/diffusion-lightning-hydra-out/logs/eval/runs/2024-05-01_09-23-31/samples_100x32x32x3.npz'"
   ]
  },
  {
   "cell_type": "code",
   "execution_count": null,
   "metadata": {},
   "outputs": [],
   "source": [
    "data = np.load(path)['arr_0']\n",
    "len(data)"
   ]
  },
  {
   "cell_type": "code",
   "execution_count": null,
   "metadata": {},
   "outputs": [],
   "source": [
    "plt.figure()\n",
    "m=5\n",
    "n=6\n",
    "f, axarr = plt.subplots(m,n) \n",
    "idxs = random.sample(range(len(data)), m*n)\n",
    "for i in range(m):\n",
    "    for j in range(n):\n",
    "        axarr[i,j].imshow(data[idxs[(i*n)+j]], interpolation='nearest')\n",
    "        #axarr[i,j].set_title(j)"
   ]
  },
  {
   "cell_type": "code",
   "execution_count": null,
   "metadata": {},
   "outputs": [],
   "source": [
    "plt.figure()\n",
    "m=5\n",
    "n=6\n",
    "f, axarr = plt.subplots(m,n) \n",
    "idxs = random.sample(range(len(data)), m*n)\n",
    "for i in range(m):\n",
    "    for j in range(n):\n",
    "        axarr[i,j].imshow(data[idxs[(i*n)+j]], interpolation='nearest')\n",
    "        #axarr[i,j].set_title(j)"
   ]
  },
  {
   "cell_type": "code",
   "execution_count": null,
   "metadata": {},
   "outputs": [],
   "source": []
  },
  {
   "cell_type": "code",
   "execution_count": null,
   "metadata": {},
   "outputs": [],
   "source": []
  },
  {
   "cell_type": "code",
   "execution_count": null,
   "metadata": {},
   "outputs": [],
   "source": []
  }
 ],
 "metadata": {
  "kernelspec": {
   "display_name": "diff_env",
   "language": "python",
   "name": "python3"
  },
  "language_info": {
   "codemirror_mode": {
    "name": "ipython",
    "version": 3
   },
   "file_extension": ".py",
   "mimetype": "text/x-python",
   "name": "python",
   "nbconvert_exporter": "python",
   "pygments_lexer": "ipython3",
   "version": "3.12.2"
  }
 },
 "nbformat": 4,
 "nbformat_minor": 2
}
