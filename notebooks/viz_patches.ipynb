{
 "cells": [
  {
   "cell_type": "code",
   "execution_count": null,
   "metadata": {},
   "outputs": [],
   "source": [
    "from src.datasets.patch_tumor_classify_datamodule import BraTSDataModule\n",
    "import yaml\n",
    "\n",
    "import torch\n",
    "import matplotlib.pyplot as plt\n",
    "from mpl_toolkits.axes_grid1 import ImageGrid"
   ]
  },
  {
   "cell_type": "code",
   "execution_count": null,
   "metadata": {},
   "outputs": [],
   "source": [
    "%matplotlib inline\n"
   ]
  },
  {
   "cell_type": "code",
   "execution_count": null,
   "metadata": {},
   "outputs": [],
   "source": [
    "with open('/home/sanyal/Projects/BraTS3DDiff/configs/data/brats23_patch_tumor_classify.yaml') as f:\n",
    "    cfg = yaml.safe_load(f)\n",
    "cfg.pop('_target_')\n",
    "cfg['data_dir'] = '/home/sanyal/Projects/BraTS3DDiff/data/BraTS-Data/BraTS2023-GLI'\n",
    "cfg['patch_sizes'] = [2,4,8,16,32]\n",
    "cfg['batch_size'] = 1\n",
    "a = BraTSDataModule(**cfg)\n",
    "\n",
    "train_data = a.train_dataloader()\n",
    "data = iter(train_data).__next__()\n",
    "image = data[\"image\"]\n",
    "print(\"train loader data\", image.shape)\n",
    "mask = data[\"mask\"]\n",
    "print(\"train loader mask\", mask.shape)\n",
    "b,c,w,h,d = mask.shape\n",
    "patch_labels = data['patch_tumor_labels']\n",
    "print(\"train loader patch vols\", [patch_labels[i].shape for i in cfg['patch_sizes']])\n",
    "fig, axes = plt.subplots(nrows=1, ncols=7, figsize=(15, 5))\n",
    "axes[0].imshow(image[0,0,:,:,78],cmap='gray')\n",
    "axes[1].imshow(mask[0,0,:,:,78],cmap='gray')\n",
    "for i,(_,patch_label) in enumerate(patch_labels.items()):\n",
    "    axes[i+2].imshow(patch_label[0,0,:,:,patch_label.shape[-1]//2],cmap='gray')"
   ]
  },
  {
   "cell_type": "code",
   "execution_count": null,
   "metadata": {},
   "outputs": [],
   "source": [
    "patch_label_32 = patch_labels[32]\n",
    "patch_label_32.shape"
   ]
  },
  {
   "cell_type": "code",
   "execution_count": null,
   "metadata": {},
   "outputs": [],
   "source": [
    "mask.shape"
   ]
  },
  {
   "cell_type": "code",
   "execution_count": null,
   "metadata": {},
   "outputs": [],
   "source": [
    "pos_indices = patch_label_32.nonzero(as_tuple=True)\n",
    "pos_indices"
   ]
  },
  {
   "cell_type": "code",
   "execution_count": null,
   "metadata": {},
   "outputs": [],
   "source": [
    "patch_label_32.nonzero(as_tuple=False)\n"
   ]
  },
  {
   "cell_type": "code",
   "execution_count": null,
   "metadata": {},
   "outputs": [],
   "source": [
    "pos_indices[0].shape"
   ]
  },
  {
   "cell_type": "code",
   "execution_count": null,
   "metadata": {},
   "outputs": [],
   "source": [
    "mask_patches = mask.view(1,3,4,32,4,32,4,32)\n",
    "mask_patches_pos = mask_patches[pos_indices[0], :, pos_indices[2], :,  pos_indices[3], :, pos_indices[4], :]\n",
    "mask_patches_pos.shape"
   ]
  },
  {
   "cell_type": "code",
   "execution_count": null,
   "metadata": {},
   "outputs": [],
   "source": [
    "fig, axes = plt.subplots(nrows=1, ncols=1, figsize=(5, 5))\n",
    "axes.imshow(mask[0,0,:,:,42],cmap='gray')"
   ]
  },
  {
   "cell_type": "code",
   "execution_count": null,
   "metadata": {},
   "outputs": [],
   "source": [
    "mask.shape"
   ]
  },
  {
   "cell_type": "code",
   "execution_count": null,
   "metadata": {},
   "outputs": [],
   "source": [
    "fig, axes = plt.subplots(nrows=1, ncols=1, figsize=(5, 5))\n",
    "axes.imshow(mask_patches_pos[8,0,:,:,10],cmap='gray')"
   ]
  },
  {
   "cell_type": "code",
   "execution_count": null,
   "metadata": {},
   "outputs": [],
   "source": [
    "fig, axes = plt.subplots(nrows=1, ncols=1, figsize=(5, 5))\n",
    "axes.imshow(mask_patches_pos[2,0,:,:,31],cmap='gray')"
   ]
  },
  {
   "cell_type": "code",
   "execution_count": null,
   "metadata": {},
   "outputs": [],
   "source": [
    "mask_patches_pos.shape"
   ]
  },
  {
   "cell_type": "code",
   "execution_count": null,
   "metadata": {},
   "outputs": [],
   "source": [
    "fill_indices = torch.nonzero(patch_label_32, as_tuple=False)\n",
    "\n",
    "fill_indices"
   ]
  },
  {
   "cell_type": "code",
   "execution_count": null,
   "metadata": {},
   "outputs": [],
   "source": [
    "predicted_mask = torch.zeros((1, 3, 128, 128, 128))\n",
    "P=32\n",
    "\n",
    "# Iterate over fill_indices and scatter the predicted masks into the full tensor\n",
    "for i in range(fill_indices.size(0)):\n",
    "    b, _, w_idx, h_idx, d_idx = fill_indices[i]\n",
    "    predicted_mask[b, :, w_idx * P:(w_idx + 1) * P,\n",
    "                         h_idx * P:(h_idx + 1) * P,\n",
    "                         d_idx * P:(d_idx + 1) * P] = mask_patches_pos[i].unsqueeze(0)"
   ]
  },
  {
   "cell_type": "code",
   "execution_count": null,
   "metadata": {},
   "outputs": [],
   "source": [
    "predicted_mask.shape"
   ]
  },
  {
   "cell_type": "code",
   "execution_count": null,
   "metadata": {},
   "outputs": [],
   "source": [
    "fig, axes = plt.subplots(nrows=1, ncols=1, figsize=(5, 5))\n",
    "axes.imshow(mask[0,0,:,:,78],cmap='gray')"
   ]
  },
  {
   "cell_type": "code",
   "execution_count": null,
   "metadata": {},
   "outputs": [],
   "source": [
    "fig, axes = plt.subplots(nrows=1, ncols=1, figsize=(5, 5))\n",
    "axes.imshow(predicted_mask[0,0,:,:,78],cmap='gray')"
   ]
  },
  {
   "cell_type": "code",
   "execution_count": null,
   "metadata": {},
   "outputs": [],
   "source": [
    "torch.equal(predicted_mask, mask)\n"
   ]
  },
  {
   "cell_type": "code",
   "execution_count": null,
   "metadata": {},
   "outputs": [],
   "source": [
    "import numpy as np\n",
    "np.prod(list(predicted_mask.shape))"
   ]
  },
  {
   "cell_type": "code",
   "execution_count": null,
   "metadata": {},
   "outputs": [],
   "source": [
    "mask_patches.shape"
   ]
  },
  {
   "cell_type": "code",
   "execution_count": null,
   "metadata": {},
   "outputs": [],
   "source": [
    "list(enumerate(patch_labels.items()))predicted_mask[indices[0] :, indices[2] * P: (indices[2] + 1) * P, indices[3] * P: (indices[3] + 1) * P, indices[4] * P: (indices[4] + 1) * P] = patch_embeddings_extracted"
   ]
  },
  {
   "cell_type": "code",
   "execution_count": null,
   "metadata": {},
   "outputs": [],
   "source": []
  },
  {
   "cell_type": "code",
   "execution_count": null,
   "metadata": {},
   "outputs": [],
   "source": [
    "patch_vol"
   ]
  },
  {
   "cell_type": "code",
   "execution_count": null,
   "metadata": {},
   "outputs": [],
   "source": [
    "fig, axes = plt.subplots(nrows=1, ncols=7, figsize=(15, 5))\n",
    "axes[0].imshow(image[0,0,:,:,78],cmap='gray')\n",
    "axes[1].imshow(mask[0,0,:,:,78],cmap='gray')\n",
    "for i,patch_vol in enumerate(patch_vols):\n",
    "    axes[i+2].imshow(patch_vol[0,0,:,:,2],cmap='gray')\n",
    "\n",
    "\n",
    "fig.tight_layout()"
   ]
  },
  {
   "cell_type": "code",
   "execution_count": null,
   "metadata": {},
   "outputs": [],
   "source": [
    "#visualize patches\n",
    "im_channel=0\n",
    "depth=78\n",
    "image = image[0,im_channel,:,:,depth]\n",
    "mask = mask[0,:,:,:,depth]\n",
    "print(image.shape,mask.shape)\n",
    "\n",
    "fig, axes = plt.subplots(nrows=1, ncols=2, figsize=(5, 3))\n",
    "axes[0].imshow(image,cmap='gray')\n",
    "axes[1].imshow(mask[0],cmap='gray')\n",
    "fig.tight_layout()"
   ]
  },
  {
   "cell_type": "code",
   "execution_count": null,
   "metadata": {},
   "outputs": [],
   "source": []
  },
  {
   "cell_type": "code",
   "execution_count": null,
   "metadata": {},
   "outputs": [],
   "source": [
    "with open('/home/sanyal/Projects/BraTS3DDiff/configs/data/brats23_patch_tumor_classify.yaml') as f:\n",
    "    cfg = yaml.safe_load(f)\n",
    "cfg.pop('_target_')\n",
    "cfg['data_dir'] = '/home/sanyal/Projects/BraTS3DDiff/data/BraTS-Data/BraTS2023-GLI'\n",
    "cfg['patch_sizes'] = [2,4,8,16,32]\n",
    "cfg['batch_size'] = 1\n",
    "a = BraTSDataModule(**cfg)\n",
    "\n",
    "train_data = a.train_dataloader()\n",
    "data = iter(train_data).__next__()\n",
    "image = data[\"image\"]\n",
    "print(\"train loader data\", image.shape)\n",
    "mask = data[\"mask\"]\n",
    "print(\"train loader mask\", mask.shape)\n",
    "b,c,w,h,d = mask.shape\n",
    "patch_labels = data['patch_tumor_labels']\n",
    "print(\"train loader patch vols\", [patch_labels[i].shape for i in cfg['patch_sizes']])\n",
    "\n",
    "#visualize patches\n",
    "im_channel=0\n",
    "depth=78\n",
    "image = image[0,im_channel,:,:,depth]\n",
    "mask = mask[0,:,:,:,depth]\n",
    "fig, axes = plt.subplots(nrows=1, ncols=4, figsize=(10, 5))\n",
    "axes[0].imshow(image,cmap='gray')\n",
    "for i in range(1,4):\n",
    "    axes[i].imshow(mask[i-1,:,:])\n",
    "print(image.shape,mask.shape)\n",
    "\n",
    "fig, axes = plt.subplots(nrows=1, ncols=2, figsize=(5, 3))\n",
    "axes[0].imshow(image,cmap='gray')\n",
    "axes[1].imshow(mask[0],cmap='gray')\n",
    "fig.tight_layout()\n",
    "\n",
    "w,h = image.shape\n",
    "c,w,h = mask.shape\n",
    "patch_size = cfg['patch_sizes'][-2]\n",
    "\n",
    "img_patches = image.view(w//patch_size,patch_size,h//patch_size,patch_size)\n",
    "mask_patches = mask.view(c,w//patch_size,patch_size,h//patch_size,patch_size)\n",
    "mask_patches_vol = mask_patches[0].sum(dim=(1,3))\n",
    "mask_patches_vol[mask_patches_vol > 0] = 1\n",
    "mask_patches_vol[mask_patches_vol == 0] = 0\n",
    "\n",
    "\n",
    "fig = plt.figure(figsize=(4., 4.))\n",
    "grid = ImageGrid(fig, 111,  # similar to subplot(111)\n",
    "                nrows_ncols=(w//patch_size, h//patch_size),  # creates 2x2 grid of Axes\n",
    "                axes_pad=0.1,  # pad between Axes in inch.\n",
    "                )\n",
    "\n",
    "grid_w,grid_h = (w//patch_size, h//patch_size)\n",
    "#indices = torch.cartesian_prod(torch.arange(grid_w),torch.arange(grid_h))\n",
    "for idx, ax in enumerate(grid):\n",
    "    # Iterating over the grid returns the Axes.\n",
    "    patch_index = (idx//grid_h, idx%grid_h)\n",
    "    #print('patch_index_1',indices[idx])\n",
    "    ax.imshow(img_patches[patch_index[0],:,patch_index[1],:],cmap='gray')\n",
    "\n",
    "plt.show()\n",
    "fig = plt.figure(figsize=(4., 4.))\n",
    "grid = ImageGrid(fig, 111,  # similar to subplot(111)\n",
    "                nrows_ncols=(w//patch_size, h//patch_size),  # creates 2x2 grid of Axes\n",
    "                axes_pad=0.1,  # pad between Axes in inch.\n",
    "                )\n",
    "\n",
    "grid_w,grid_h = (w//patch_size, h//patch_size)\n",
    "#indices = torch.cartesian_prod(torch.arange(grid_w),torch.arange(grid_h))\n",
    "for idx, ax in enumerate(grid):\n",
    "    # Iterating over the grid returns the Axes.\n",
    "    patch_index = (idx//grid_h, idx%grid_h)\n",
    "    #print('patch_index_1',indices[idx])\n",
    "    ax.imshow(mask_patches[0, patch_index[0],:,patch_index[1],:],cmap='gray')\n",
    "plt.show()\n",
    "\n",
    "fig,ax = plt.subplots(1,1)\n",
    "ax.imshow(mask_patches_vol,cmap='gray')"
   ]
  },
  {
   "cell_type": "code",
   "execution_count": null,
   "metadata": {},
   "outputs": [],
   "source": [
    "with open('/home/sanyal/Projects/BraTS3DDiff/configs/data/brats23_patch_tumor_classify.yaml') as f:\n",
    "    cfg = yaml.safe_load(f)\n",
    "cfg.pop('_target_')\n",
    "cfg['data_dir'] = '/home/sanyal/Projects/BraTS3DDiff/data/BraTS-Data/BraTS2023-GLI'\n",
    "cfg['patch_sizes'] = [2,4,8,16,32]\n",
    "cfg['batch_size'] = 1\n",
    "a = BraTSDataModule(**cfg)\n",
    "\n",
    "train_data = a.train_dataloader()\n",
    "data = iter(train_data).__next__()\n",
    "image = data[\"image\"]\n",
    "print(\"train loader data\", image.shape)\n",
    "mask = data[\"mask\"]\n",
    "print(\"train loader mask\", mask.shape)\n",
    "b,c,w,h,d = mask.shape\n",
    "patch_labels = data['patch_tumor_labels']\n",
    "print(\"train loader patch vols\", [patch_labels[i].shape for i in cfg['patch_sizes']])\n",
    "\n",
    "#visualize patches\n",
    "im_channel=0\n",
    "depth=78\n",
    "image = image[0,im_channel,:,:,depth]\n",
    "mask = mask[0,:,:,:,depth]\n",
    "fig, axes = plt.subplots(nrows=1, ncols=4, figsize=(10, 5))\n",
    "axes[0].imshow(image,cmap='gray')\n",
    "for i in range(1,4):\n",
    "    axes[i].imshow(mask[i-1,:,:],cmap='gray')\n",
    "print(image.shape,mask.shape)\n",
    "\n"
   ]
  },
  {
   "cell_type": "code",
   "execution_count": null,
   "metadata": {},
   "outputs": [],
   "source": [
    "mask.shape\n"
   ]
  },
  {
   "cell_type": "code",
   "execution_count": null,
   "metadata": {},
   "outputs": [],
   "source": [
    "mask_0 = mask[0,:,:]\n",
    "w,h = mask_0.shape\n",
    "\n",
    "fig, axes = plt.subplots(nrows=1, ncols=7, figsize=(25, 10))\n",
    "axes[0].imshow(image,cmap='gray')\n",
    "axes[1].imshow(mask_0,cmap='gray')\n",
    "for i in range(len(cfg['patch_sizes'])):\n",
    "    patch_size = cfg['patch_sizes'][i]\n",
    "    mask_patches = mask_0.view(w//patch_size,patch_size,h//patch_size,patch_size)\n",
    "    mask_patches_label = mask_patches.sum(dim=(1,3))\n",
    "    mask_patches_label[mask_patches_label > 0] = 1\n",
    "    mask_patches_label[mask_patches_label == 0] = 0\n",
    "\n",
    "    axes[i+2].imshow(mask_patches_label,cmap='gray')\n",
    "\n",
    "\n",
    "fig.tight_layout()"
   ]
  },
  {
   "cell_type": "code",
   "execution_count": null,
   "metadata": {},
   "outputs": [],
   "source": [
    "mask_patches_label.shape"
   ]
  },
  {
   "cell_type": "code",
   "execution_count": null,
   "metadata": {},
   "outputs": [],
   "source": [
    "plt.imshow(mask_patches_label)"
   ]
  },
  {
   "cell_type": "code",
   "execution_count": null,
   "metadata": {},
   "outputs": [],
   "source": [
    "mask_patches_label"
   ]
  },
  {
   "cell_type": "code",
   "execution_count": null,
   "metadata": {},
   "outputs": [],
   "source": [
    "#filter indices\n",
    "true_indices = mask_patches_label.nonzero(as_tuple=True)\n",
    "true_indices"
   ]
  },
  {
   "cell_type": "code",
   "execution_count": null,
   "metadata": {},
   "outputs": [],
   "source": [
    "plt.imshow(mask_0)"
   ]
  },
  {
   "cell_type": "code",
   "execution_count": null,
   "metadata": {},
   "outputs": [],
   "source": [
    "mask_0.shape"
   ]
  },
  {
   "cell_type": "code",
   "execution_count": null,
   "metadata": {},
   "outputs": [],
   "source": [
    "mask_0_patches = mask_0.view(4,32,4,32).permute(1,3,0,2).contiguous().view(32*32,4,4)\n",
    "mask_0_patches.shape"
   ]
  },
  {
   "cell_type": "code",
   "execution_count": null,
   "metadata": {},
   "outputs": [],
   "source": []
  },
  {
   "cell_type": "code",
   "execution_count": null,
   "metadata": {},
   "outputs": [],
   "source": [
    "mask_0_patches_ = mask_0_patches.permute(1,2,0).contiguous()\n",
    "mask_0_patches_.shape"
   ]
  },
  {
   "cell_type": "code",
   "execution_count": null,
   "metadata": {},
   "outputs": [],
   "source": [
    "fig = plt.figure(figsize=(4., 4.))\n",
    "grid = ImageGrid(fig, 111,  # similar to subplot(111)\n",
    "                nrows_ncols=(4, 4),  # creates 2x2 grid of Axes\n",
    "                axes_pad=0.1,  # pad between Axes in inch.\n",
    "                )\n",
    "\n",
    "grid_w,grid_h = (4, 4)\n",
    "#downsample into 4x4 grid\n",
    "mask_0_patches = mask_0.view(4,32,4,32)\n",
    "#flatten grid\n",
    "mask_0_patches_ = mask_0_patches.permute(0,2,1,3).contiguous().view(16,32,32)\n",
    "\n",
    "#indices = torch.cartesian_prod(torch.arange(grid_w),torch.arange(grid_h))\n",
    "for idx, ax in enumerate(grid):\n",
    "    # Iterating over the grid returns the Axes.\n",
    "    ax.imshow(mask_0_patches_[idx],cmap='gray')\n",
    "plt.show()"
   ]
  },
  {
   "cell_type": "code",
   "execution_count": null,
   "metadata": {},
   "outputs": [],
   "source": [
    "fig = plt.figure(figsize=(4., 4.))\n",
    "grid = ImageGrid(fig, 111,  # similar to subplot(111)\n",
    "                nrows_ncols=(4, 4),  # creates 2x2 grid of Axes\n",
    "                axes_pad=0.1,  # pad between Axes in inch.\n",
    "                )\n",
    "\n",
    "grid_w,grid_h = (4, 4)\n",
    "#downsample into 4x4 grid\n",
    "mask_0_patches = mask_0.view(4,32,4,32)\n",
    "\n",
    "#indices = torch.cartesian_prod(torch.arange(grid_w),torch.arange(grid_h))\n",
    "for idx, ax in enumerate(grid):\n",
    "    # Iterating over the grid returns the Axes.\n",
    "    patch_index = (idx//grid_h, idx%grid_h)\n",
    "    #print('patch_index_1',indices[idx])\n",
    "    ax.imshow(mask_0_patches[patch_index[0],:,patch_index[1],:],cmap='gray')\n",
    "plt.show()"
   ]
  },
  {
   "cell_type": "code",
   "execution_count": null,
   "metadata": {},
   "outputs": [],
   "source": [
    "mask_patches_label"
   ]
  },
  {
   "cell_type": "code",
   "execution_count": null,
   "metadata": {},
   "outputs": [],
   "source": [
    "fig = plt.figure(figsize=(4., 4.))\n",
    "grid = ImageGrid(fig, 111,  # similar to subplot(111)\n",
    "                nrows_ncols=(4, 4),  # creates 2x2 grid of Axes\n",
    "                axes_pad=0.1,  # pad between Axes in inch.\n",
    "                )\n",
    "\n",
    "grid_w,grid_h = (4, 4)\n",
    "mask_0_patches = mask_0.view(4,32,4,32)\n",
    "#indices = torch.cartesian_prod(torch.arange(grid_w),torch.arange(grid_h))\n",
    "for idx, ax in enumerate(grid):\n",
    "    # Iterating over the grid returns the Axes.\n",
    "    patch_index = (idx//grid_h, idx%grid_h)\n",
    "    #print('patch_index_1',indices[idx])\n",
    "    ax.imshow(mask_0_patches[patch_index[0],:,patch_index[1],:],cmap='gray')\n",
    "plt.show()"
   ]
  },
  {
   "cell_type": "code",
   "execution_count": null,
   "metadata": {},
   "outputs": [],
   "source": [
    "mask_patches_label.shape"
   ]
  },
  {
   "cell_type": "code",
   "execution_count": null,
   "metadata": {},
   "outputs": [],
   "source": [
    "mask_0_patches.shape"
   ]
  },
  {
   "cell_type": "code",
   "execution_count": null,
   "metadata": {},
   "outputs": [],
   "source": [
    "mask_0_ = mask_0_patches.view(128,128)\n",
    "plt.imshow(mask_0_)"
   ]
  },
  {
   "cell_type": "code",
   "execution_count": null,
   "metadata": {},
   "outputs": [],
   "source": [
    "plt.imshow(mask_0_*x)"
   ]
  },
  {
   "cell_type": "code",
   "execution_count": null,
   "metadata": {},
   "outputs": [],
   "source": [
    "x=mask_patches_label.view(4,1,4,1).expand(4,32,4,32).contiguous().view(128,128)\n",
    "plt.imshow(x)"
   ]
  },
  {
   "cell_type": "code",
   "execution_count": null,
   "metadata": {},
   "outputs": [],
   "source": []
  },
  {
   "cell_type": "code",
   "execution_count": null,
   "metadata": {},
   "outputs": [],
   "source": [
    "#reshape mask_0\n",
    "mask_0_patches = mask_0.view(4,32,4,32)\n",
    "mask_0_patches.shape"
   ]
  },
  {
   "cell_type": "code",
   "execution_count": null,
   "metadata": {},
   "outputs": [],
   "source": [
    "true_indices"
   ]
  },
  {
   "cell_type": "code",
   "execution_count": null,
   "metadata": {},
   "outputs": [],
   "source": [
    "#subset mask_0_patches using true_indices\n",
    "mask_0_patches_true = mask_0_patches[true_indices[0],:,true_indices[1],:]\n",
    "mask_0_patches_true.shape"
   ]
  },
  {
   "cell_type": "code",
   "execution_count": null,
   "metadata": {},
   "outputs": [],
   "source": [
    "fig, axes = plt.subplots(nrows=1, ncols=5, figsize=(25, 10))\n",
    "for i in range(mask_0_patches_true.shape[0]):\n",
    "    axes[i].imshow(mask_0_patches_true[i],cmap='gray')"
   ]
  },
  {
   "cell_type": "code",
   "execution_count": null,
   "metadata": {},
   "outputs": [],
   "source": [
    "true_indices"
   ]
  },
  {
   "cell_type": "code",
   "execution_count": null,
   "metadata": {},
   "outputs": [],
   "source": [
    "mask_0.shape"
   ]
  },
  {
   "cell_type": "code",
   "execution_count": null,
   "metadata": {},
   "outputs": [],
   "source": [
    "pred_mask_0 = torch.zeros((128,128))\n",
    "pred_mask_0.shape"
   ]
  },
  {
   "cell_type": "code",
   "execution_count": null,
   "metadata": {},
   "outputs": [],
   "source": [
    "fill_indices = mask_patches_label.nonzero(as_tuple=False)\n",
    "fill_indices"
   ]
  },
  {
   "cell_type": "code",
   "execution_count": null,
   "metadata": {},
   "outputs": [],
   "source": [
    "for i in range(fill_indices.shape[0]):\n",
    "    fill_idx = fill_indices[i]\n",
    "    pred_mask_0[fill_idx[0]*32:(fill_idx[0]+1)*32,fill_idx[1]*32:(fill_idx[1]+1)*32] = mask_0_patches_true[i]"
   ]
  },
  {
   "cell_type": "code",
   "execution_count": null,
   "metadata": {},
   "outputs": [],
   "source": [
    "plt.imshow(pred_mask_0,cmap='gray')"
   ]
  },
  {
   "cell_type": "code",
   "execution_count": null,
   "metadata": {},
   "outputs": [],
   "source": [
    "torch.equal(pred_mask_0,mask_0)"
   ]
  },
  {
   "cell_type": "code",
   "execution_count": null,
   "metadata": {},
   "outputs": [],
   "source": [
    "mask_patches_label"
   ]
  },
  {
   "cell_type": "code",
   "execution_count": null,
   "metadata": {},
   "outputs": [],
   "source": []
  },
  {
   "cell_type": "code",
   "execution_count": null,
   "metadata": {},
   "outputs": [],
   "source": [
    "w,h = image.shape\n",
    "c,w,h = mask.shape\n",
    "patch_size = cfg['patch_sizes'][-1]\n",
    "\n",
    "img_patches = image.view(w//patch_size,patch_size,h//patch_size,patch_size)\n",
    "mask_patches = mask.view(c,w//patch_size,patch_size,h//patch_size,patch_size)\n",
    "mask_patches_vol = mask_patches[0].sum(dim=(1,3))/(patch_size*patch_size)\n",
    "\n",
    "\n",
    "fig = plt.figure(figsize=(4., 4.))\n",
    "grid = ImageGrid(fig, 111,  # similar to subplot(111)\n",
    "                nrows_ncols=(w//patch_size, h//patch_size),  # creates 2x2 grid of Axes\n",
    "                axes_pad=0.1,  # pad between Axes in inch.\n",
    "                )\n",
    "\n",
    "grid_w,grid_h = (w//patch_size, h//patch_size)\n",
    "#indices = torch.cartesian_prod(torch.arange(grid_w),torch.arange(grid_h))\n",
    "for idx, ax in enumerate(grid):\n",
    "    # Iterating over the grid returns the Axes.\n",
    "    patch_index = (idx//grid_h, idx%grid_h)\n",
    "    #print('patch_index_1',indices[idx])\n",
    "    ax.imshow(img_patches[patch_index[0],:,patch_index[1],:],cmap='gray')\n",
    "\n",
    "plt.show()\n",
    "fig = plt.figure(figsize=(4., 4.))\n",
    "grid = ImageGrid(fig, 111,  # similar to subplot(111)\n",
    "                nrows_ncols=(w//patch_size, h//patch_size),  # creates 2x2 grid of Axes\n",
    "                axes_pad=0.1,  # pad between Axes in inch.\n",
    "                )\n",
    "\n",
    "grid_w,grid_h = (w//patch_size, h//patch_size)\n",
    "#indices = torch.cartesian_prod(torch.arange(grid_w),torch.arange(grid_h))\n",
    "for idx, ax in enumerate(grid):\n",
    "    # Iterating over the grid returns the Axes.\n",
    "    patch_index = (idx//grid_h, idx%grid_h)\n",
    "    #print('patch_index_1',indices[idx])\n",
    "    ax.imshow(mask_patches[0, patch_index[0],:,patch_index[1],:],cmap='gray')\n",
    "plt.show()\n",
    "\n",
    "fig,ax = plt.subplots(1,1)\n",
    "ax.imshow(mask_patches_vol,cmap='gray')"
   ]
  },
  {
   "cell_type": "code",
   "execution_count": null,
   "metadata": {},
   "outputs": [],
   "source": [
    "mask_patches_vol"
   ]
  },
  {
   "cell_type": "code",
   "execution_count": null,
   "metadata": {},
   "outputs": [],
   "source": [
    "\n",
    "\n",
    "fig, axes = plt.subplots(nrows=1, ncols=7, figsize=(15, 5))\n",
    "axes[0].imshow(image,cmap='gray')\n",
    "axes[1].imshow(mask[1],cmap='gray')\n",
    "for i in range(len(cfg['patch_sizes'])):\n",
    "    patch_size = cfg['patch_sizes'][i]\n",
    "    mask_patches = mask.view(c,w//patch_size,patch_size,h//patch_size,patch_size)\n",
    "    mask_patches_vol = mask_patches[1].sum(dim=(1,3))\n",
    "    axes[i+2].imshow(mask_patches_vol,cmap='gray')\n",
    "\n",
    "\n",
    "fig.tight_layout()\n"
   ]
  },
  {
   "cell_type": "code",
   "execution_count": null,
   "metadata": {},
   "outputs": [],
   "source": [
    "mask_patches_vol"
   ]
  },
  {
   "cell_type": "code",
   "execution_count": null,
   "metadata": {},
   "outputs": [],
   "source": [
    "mask.shape"
   ]
  },
  {
   "cell_type": "code",
   "execution_count": null,
   "metadata": {},
   "outputs": [],
   "source": [
    "patch_size=32\n",
    "mask_patches = mask.view(c,w//patch_size,patch_size,h//patch_size,patch_size)\n",
    "mask_patches_vol = mask_patches[0].sum(dim=(1,3))"
   ]
  },
  {
   "cell_type": "code",
   "execution_count": null,
   "metadata": {},
   "outputs": [],
   "source": [
    "mask_patches_vol"
   ]
  },
  {
   "cell_type": "code",
   "execution_count": null,
   "metadata": {},
   "outputs": [],
   "source": [
    "32*32"
   ]
  },
  {
   "cell_type": "code",
   "execution_count": null,
   "metadata": {},
   "outputs": [],
   "source": [
    "mask_patches_vol"
   ]
  }
 ],
 "metadata": {
  "kernelspec": {
   "display_name": "bratseg",
   "language": "python",
   "name": "python3"
  },
  "language_info": {
   "codemirror_mode": {
    "name": "ipython",
    "version": 3
   },
   "file_extension": ".py",
   "mimetype": "text/x-python",
   "name": "python",
   "nbconvert_exporter": "python",
   "pygments_lexer": "ipython3",
   "version": "3.10.14"
  }
 },
 "nbformat": 4,
 "nbformat_minor": 2
}
