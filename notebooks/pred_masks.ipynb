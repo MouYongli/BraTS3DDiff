{
 "cells": [
  {
   "cell_type": "code",
   "execution_count": null,
   "metadata": {},
   "outputs": [],
   "source": [
    "from src.datasets.patch_tumor_classify_diffusion_datamodule import BraTSDataModule\n",
    "import yaml\n",
    "import torch\n",
    "import matplotlib.pyplot as plt\n",
    "from mpl_toolkits.axes_grid1 import ImageGrid\n",
    "import nibabel as nib\n",
    "import os\n",
    "import numpy as np\n",
    "from einops import repeat, rearrange, reduce\n"
   ]
  },
  {
   "cell_type": "code",
   "execution_count": null,
   "metadata": {},
   "outputs": [],
   "source": [
    "with open('/home/sanyal/Projects/BraTS3DDiff/configs/data/brats23_patch_tumor_classify_diffusion.yaml') as f:\n",
    "    cfg = yaml.safe_load(f)\n",
    "cfg.pop('_target_')\n",
    "cfg['data_dir'] = '/home/sanyal/Projects/BraTS3DDiff/data/BraTS-Data/BraTS2023-GLI'\n",
    "cfg['batch_size'] = 1\n",
    "a = BraTSDataModule(**cfg)\n",
    "\n",
    "test_data = a.data_test\n",
    "val_data = a.data_val\n"
   ]
  },
  {
   "cell_type": "code",
   "execution_count": null,
   "metadata": {},
   "outputs": [],
   "source": [
    "true_root = '/home/sanyal/Projects/BraTS3DDiff/data/BraTS-Data/BraTS2023-GLI/val'"
   ]
  },
  {
   "cell_type": "code",
   "execution_count": null,
   "metadata": {},
   "outputs": [],
   "source": [
    "pred_root = '/home/sanyal/Projects/BraTS3DDiff/logs/bratseg_logs/patch_diffusion/BraTS23-SwinUnetR-512-patch_tumor_classify_diffusion_roi_128_lr=0.001/test/runs/2024-10-02_03-04-00/seg_masks/'\n",
    "pred_root_16 = os.path.join(pred_root, 'res=16')\n",
    "pred_root_32 = os.path.join(pred_root, 'res=32')\n",
    "pred_root_mean = os.path.join(pred_root, 'res=mean')\n",
    "\n"
   ]
  },
  {
   "cell_type": "code",
   "execution_count": null,
   "metadata": {},
   "outputs": [],
   "source": [
    "pred_root_ = '/home/sanyal/Projects/BraTS3DDiff/logs/bratseg_logs/patch_diffusion/BraTS23-Patch-Diffusion-512-model-2/test/runs/2024-10-08_23-15-17/seg_masks'\n",
    "pred_root_16_ = os.path.join(pred_root_, 'res=16')\n",
    "pred_root_32_ = os.path.join(pred_root_, 'res=32')\n",
    "pred_root_mean_ = os.path.join(pred_root_, 'res=mean')\n",
    "\n"
   ]
  },
  {
   "cell_type": "code",
   "execution_count": null,
   "metadata": {},
   "outputs": [],
   "source": [
    "data, file_id = test_data.__getitem__(170)"
   ]
  },
  {
   "cell_type": "code",
   "execution_count": null,
   "metadata": {},
   "outputs": [],
   "source": [
    "image = data[\"image\"]"
   ]
  },
  {
   "cell_type": "code",
   "execution_count": null,
   "metadata": {},
   "outputs": [],
   "source": [
    "seg_path = os.path.join(true_root,file_id,f\"{file_id}{test_data.sep}seg{test_data.ext}\")\n",
    "mask = nib.load(seg_path).get_fdata().astype(np.float32)\n",
    "mask = rearrange(mask, f\"{test_data.dim_order} -> w h d\")\n",
    "\n",
    "pred_path_16 = os.path.join(pred_root_16,f\"{file_id}{test_data.ext}\")\n",
    "pred_mask_16 = nib.load(pred_path_16).get_fdata().astype(np.float32)\n",
    "pred_mask_16 = rearrange(pred_mask_16, f\"{test_data.dim_order} -> w h d\")\n",
    "\n",
    "pred_path_32 = os.path.join(pred_root_32,f\"{file_id}{test_data.ext}\")\n",
    "pred_mask_32 = nib.load(pred_path_32).get_fdata().astype(np.float32)\n",
    "pred_mask_32 = rearrange(pred_mask_32, f\"{test_data.dim_order} -> w h d\")\n",
    "\n",
    "pred_path_mean = os.path.join(pred_root_mean,f\"{file_id}{test_data.ext}\")\n",
    "pred_mask_mean = nib.load(pred_path_mean).get_fdata().astype(np.float32)\n",
    "pred_mask_mean = rearrange(pred_mask_mean, f\"{test_data.dim_order} -> w h d\")"
   ]
  },
  {
   "cell_type": "code",
   "execution_count": null,
   "metadata": {},
   "outputs": [],
   "source": [
    "pred_path_16_ = os.path.join(pred_root_16_,f\"{file_id}{test_data.ext}\")\n",
    "pred_mask_16_ = nib.load(pred_path_16_).get_fdata().astype(np.float32)\n",
    "pred_mask_16_ = rearrange(pred_mask_16_, f\"{test_data.dim_order} -> w h d\")\n",
    "\n",
    "pred_path_32_ = os.path.join(pred_root_32_,f\"{file_id}{test_data.ext}\")\n",
    "pred_mask_32_ = nib.load(pred_path_32_).get_fdata().astype(np.float32)\n",
    "pred_mask_32_ = rearrange(pred_mask_32_, f\"{test_data.dim_order} -> w h d\")\n",
    "\n",
    "pred_path_mean_ = os.path.join(pred_root_mean_,f\"{file_id}{test_data.ext}\")\n",
    "pred_mask_mean_ = nib.load(pred_path_mean_).get_fdata().astype(np.float32)\n",
    "pred_mask_mean_ = rearrange(pred_mask_mean_, f\"{test_data.dim_order} -> w h d\")"
   ]
  },
  {
   "cell_type": "code",
   "execution_count": null,
   "metadata": {},
   "outputs": [],
   "source": [
    "pred_mask_32.shape"
   ]
  },
  {
   "cell_type": "code",
   "execution_count": null,
   "metadata": {},
   "outputs": [],
   "source": [
    "fig, axes = plt.subplots(nrows=1, ncols=4, figsize=(15, 5))\n",
    "axes[0].imshow(image[0,:,:,78],cmap='gray')\n",
    "axes[1].imshow(mask[:,:,78],cmap='gray')\n",
    "axes[2].imshow(pred_mask_16[:,:,78],cmap='gray')\n",
    "axes[3].imshow(pred_mask_16_[:,:,78],cmap='gray')"
   ]
  },
  {
   "cell_type": "code",
   "execution_count": null,
   "metadata": {},
   "outputs": [],
   "source": [
    "fig, axes = plt.subplots(nrows=1, ncols=1, figsize=(15, 5))\n",
    "axes.imshow(mask[:,:,78],cmap='gray')\n",
    "plt.grid()\n"
   ]
  },
  {
   "cell_type": "code",
   "execution_count": null,
   "metadata": {},
   "outputs": [],
   "source": [
    "fig, axes = plt.subplots(nrows=1, ncols=1, figsize=(5, 5))\n",
    "axes.imshow(torch.randn(240,240),cmap='gray')\n",
    "plt.grid(color='black', linestyle='-', linewidth=2)\n"
   ]
  },
  {
   "cell_type": "code",
   "execution_count": null,
   "metadata": {},
   "outputs": [],
   "source": [
    "noisy_mask = model.forward(pred_type='q_sample',x_start=torch.from_numpy(mask[:,:,78]),t=torch.tensor([300]))[0]"
   ]
  },
  {
   "cell_type": "code",
   "execution_count": null,
   "metadata": {},
   "outputs": [],
   "source": [
    "fig, axes = plt.subplots(nrows=1, ncols=1, figsize=(5, 5))\n",
    "axes.imshow(noisy_mask,cmap='gray')\n",
    "plt.grid(color='black', linestyle='-', linewidth=2)"
   ]
  },
  {
   "cell_type": "code",
   "execution_count": null,
   "metadata": {},
   "outputs": [],
   "source": [
    "from matplotlib import pyplot as plt\n",
    "\n",
    "ig, axes = plt.subplots(nrows=1, ncols=4, figsize=(15, 5))\n",
    "for i in range(4):\n",
    "    axes[i].imshow(mask[:,:,78],cmap='magma')"
   ]
  },
  {
   "cell_type": "code",
   "execution_count": null,
   "metadata": {},
   "outputs": [],
   "source": [
    "fig, axes = plt.subplots(nrows=1, ncols=1, figsize=(5, 5))\n",
    "axes.imshow(mask[:,:,78],cmap='gray')\n",
    "plt.grid(color='white', linestyle='-', linewidth=1)\n",
    "# Annotate each grid box with its indices"
   ]
  },
  {
   "cell_type": "code",
   "execution_count": null,
   "metadata": {},
   "outputs": [],
   "source": [
    "fig, axes = plt.subplots(nrows=1, ncols=4, figsize=(15, 5))\n",
    "axes[0].imshow(image[0,:,:,78],cmap='gray')\n",
    "axes[1].imshow(mask[:,:,78],cmap='gray')\n",
    "axes[2].imshow(pred_mask_16[:,:,78],cmap='gray')\n",
    "axes[3].imshow(pred_mask_16_[:,:,78],cmap='gray')\n",
    "\n",
    "plt.grid()\n"
   ]
  },
  {
   "cell_type": "code",
   "execution_count": null,
   "metadata": {},
   "outputs": [],
   "source": [
    "fig, axes = plt.subplots(nrows=1, ncols=5, figsize=(15, 5))\n",
    "axes[0].imshow(image[0,:,:,78],cmap='gray')\n",
    "axes[1].imshow(mask[:,:,78]==2,cmap='gray')\n",
    "axes[2].imshow(pred_mask_16[:,:,78]==2,cmap='gray')\n",
    "axes[3].imshow(pred_mask_32[:,:,78]==2,cmap='gray')\n",
    "axes[4].imshow(pred_mask_mean[:,:,78]==2,cmap='gray')"
   ]
  },
  {
   "cell_type": "code",
   "execution_count": null,
   "metadata": {},
   "outputs": [],
   "source": [
    "fig, axes = plt.subplots(nrows=1, ncols=5, figsize=(15, 5))\n",
    "axes[0].imshow(image[0,:,:,78],cmap='gray')\n",
    "axes[1].imshow(mask[:,:,78],cmap='gray')\n",
    "axes[2].imshow(pred_mask_16[:,:,78],cmap='gray')\n",
    "axes[3].imshow(pred_mask_32[:,:,78],cmap='gray')\n",
    "axes[4].imshow(pred_mask_mean[:,:,78],cmap='gray')\n",
    "\n"
   ]
  },
  {
   "cell_type": "markdown",
   "metadata": {},
   "source": []
  },
  {
   "cell_type": "markdown",
   "metadata": {},
   "source": []
  },
  {
   "cell_type": "code",
   "execution_count": null,
   "metadata": {},
   "outputs": [],
   "source": [
    "from omegaconf import OmegaConf\n",
    "import hydra\n",
    "from src.models.patch_tumor_pred_diffusion_module_simpl import PatchTumorDiffusionLitModule\n",
    "from src.datasets.patch_tumor_classify_diffusion_datamodule import BraTSDataModule\n"
   ]
  },
  {
   "cell_type": "code",
   "execution_count": null,
   "metadata": {},
   "outputs": [],
   "source": [
    "model_cfg_path = '/home/sanyal/Projects/BraTS3DDiff/configs/model/patch_tumor_classify_diffusion.yaml'\n",
    "model_cfg = OmegaConf.load(model_cfg_path)\n"
   ]
  },
  {
   "cell_type": "code",
   "execution_count": null,
   "metadata": {},
   "outputs": [],
   "source": [
    "model_cfg.scheduler.max_epochs = 5\n",
    "model_cfg.net.in_channels = 7\n",
    "model_cfg.net.out_channels = 3\n",
    "model_cfg.sampler.diffusion_steps = 1000\n",
    "model_cfg.inferer.roi_size = [128,128,128]\n",
    "model_cfg.extra_kwargs.roi_size = [128,128,128]\n",
    "model_cfg.extra_kwargs.patch_sizes = [16, 32]\n",
    "model_cfg.embed_net.img_size = [128,128,128]\n",
    "model_cfg.extra_kwargs.num_targets = 3\n",
    "model_cfg.extra_kwargs.patch_thresh = 0.50\n",
    "\n",
    "\n",
    "\n"
   ]
  },
  {
   "cell_type": "code",
   "execution_count": null,
   "metadata": {},
   "outputs": [],
   "source": [
    "print(OmegaConf.to_yaml(model_cfg))"
   ]
  },
  {
   "cell_type": "code",
   "execution_count": null,
   "metadata": {},
   "outputs": [],
   "source": [
    "model = hydra.utils.instantiate(model_cfg)"
   ]
  },
  {
   "cell_type": "code",
   "execution_count": null,
   "metadata": {},
   "outputs": [],
   "source": [
    "extra_kwargs = model.hparams.extra_kwargs"
   ]
  },
  {
   "cell_type": "code",
   "execution_count": null,
   "metadata": {},
   "outputs": [],
   "source": [
    "model.hparams.extra_kwargs"
   ]
  },
  {
   "cell_type": "code",
   "execution_count": null,
   "metadata": {},
   "outputs": [],
   "source": []
  },
  {
   "cell_type": "code",
   "execution_count": null,
   "metadata": {},
   "outputs": [],
   "source": [
    "ckpt = '/home/sanyal/Projects/BraTS3DDiff/logs/bratseg_logs/patch_diffusion/BraTS23-SwinUnetR-512-patch_tumor_classify_diffusion_roi_128_lr=0.001/train/runs/2024-09-27_18-27-30/csv/version_0/checkpoints/epoch=230-step=114576.ckpt'\n",
    "model = PatchTumorDiffusionLitModule.load_from_checkpoint(ckpt)"
   ]
  },
  {
   "cell_type": "code",
   "execution_count": null,
   "metadata": {},
   "outputs": [],
   "source": [
    "model.hparams.extra_kwargs = extra_kwargs"
   ]
  },
  {
   "cell_type": "code",
   "execution_count": null,
   "metadata": {},
   "outputs": [],
   "source": [
    "import yaml"
   ]
  },
  {
   "cell_type": "code",
   "execution_count": null,
   "metadata": {},
   "outputs": [],
   "source": [
    "with open('/home/sanyal/Projects/BraTS3DDiff/configs/data/brats23_patch_tumor_classify_diffusion.yaml') as f:\n",
    "    cfg = yaml.safe_load(f)\n",
    "cfg.pop('_target_')\n",
    "cfg['data_dir'] = '/home/sanyal/Projects/BraTS3DDiff/data/BraTS-Data/BraTS2023-GLI'\n",
    "cfg['batch_size'] = 1\n",
    "a = BraTSDataModule(**cfg)\n",
    "\n",
    "test_data = a.data_test\n",
    "val_data = a.data_val\n",
    "\n",
    "data = val_data.__getitem__(6)\n",
    "\n",
    "image, mask, fg, patch_tumor_labels = data['image'], data['mask'], data['foreground'], data['patch_tumor_labels']\n",
    "\n",
    "fig, axes = plt.subplots(nrows=1, ncols=4, figsize=(15, 5))\n",
    "axes[0].imshow(image[0,:,:,78],cmap='gray')\n",
    "axes[1].imshow(mask[0,:,:,78],cmap='gray')\n",
    "axes[2].imshow(mask[1,:,:,78],cmap='gray')\n",
    "axes[3].imshow(mask[2,:,:,78],cmap='gray')"
   ]
  },
  {
   "cell_type": "code",
   "execution_count": null,
   "metadata": {},
   "outputs": [],
   "source": [
    "image, mask, fg = data['image'], data['mask'], data['foreground']"
   ]
  },
  {
   "cell_type": "code",
   "execution_count": null,
   "metadata": {},
   "outputs": [],
   "source": [
    "image, mask, fg, patch_tumor_labels = data['image'], data['mask'], data['foreground'], data['patch_tumor_labels']"
   ]
  },
  {
   "cell_type": "code",
   "execution_count": null,
   "metadata": {},
   "outputs": [],
   "source": [
    "image.shape"
   ]
  },
  {
   "cell_type": "code",
   "execution_count": null,
   "metadata": {},
   "outputs": [],
   "source": [
    "fig, axes = plt.subplots(nrows=1, ncols=4, figsize=(15, 5))\n",
    "axes[0].imshow(image[0,:,:,78],cmap='gray')\n",
    "axes[1].imshow(mask[0,:,:,78],cmap='gray')\n",
    "axes[2].imshow(mask[1,:,:,78],cmap='gray')\n",
    "axes[3].imshow(mask[2,:,:,78],cmap='gray')"
   ]
  },
  {
   "cell_type": "code",
   "execution_count": null,
   "metadata": {},
   "outputs": [],
   "source": [
    "fig, axes = plt.subplots(nrows=1, ncols=4, figsize=(15, 5))\n",
    "axes[0].imshow(patch_tumor_labels[16][0,:,:,4],cmap='gray')\n",
    "axes[1].imshow(patch_tumor_labels[16][0,:,:,4],cmap='gray')\n",
    "axes[2].imshow(patch_tumor_labels[32][0,:,:,3],cmap='gray')\n",
    "axes[3].imshow(patch_tumor_labels[32][0,:,:,3],cmap='gray')"
   ]
  },
  {
   "cell_type": "code",
   "execution_count": null,
   "metadata": {},
   "outputs": [],
   "source": [
    "model = model.to('cuda')\n",
    "image = image.to('cuda')\n",
    "image = image.unsqueeze(0)"
   ]
  },
  {
   "cell_type": "code",
   "execution_count": null,
   "metadata": {},
   "outputs": [],
   "source": [
    "patches_embeddings, patches_pred_labels = model.forward(image=image,pred_type='patch_embeddings')\n",
    "#patches_pred_labels = {k: v.sigmoid().detach().cpu().numpy() for k,v in patches_pred_labels.items()}\n",
    "patches_pred_labels = {k: v.sigmoid().gt(0.95).detach().cpu().numpy() for k,v in patches_pred_labels.items()}"
   ]
  },
  {
   "cell_type": "code",
   "execution_count": null,
   "metadata": {},
   "outputs": [],
   "source": [
    "fig, axes = plt.subplots(nrows=1, ncols=4, figsize=(15, 5))\n",
    "axes[0].imshow(patches_pred_labels[16][0,0,:,:,4],cmap='gray')\n",
    "axes[1].imshow(patches_pred_labels[16][0,0,:,:,4],cmap='gray')\n",
    "axes[2].imshow(patches_pred_labels[32][0,0,:,:,3],cmap='gray')\n",
    "axes[3].imshow(patches_pred_labels[32][0,0,:,:,3],cmap='gray')"
   ]
  },
  {
   "cell_type": "code",
   "execution_count": null,
   "metadata": {},
   "outputs": [],
   "source": [
    "patches_pred_labels[16][0,0,:,:,4]"
   ]
  },
  {
   "cell_type": "code",
   "execution_count": null,
   "metadata": {},
   "outputs": [],
   "source": [
    "out = model.predict_seg_mask(image)"
   ]
  },
  {
   "cell_type": "code",
   "execution_count": null,
   "metadata": {},
   "outputs": [],
   "source": [
    "fig, axes = plt.subplots(nrows=2, ncols=3, figsize=(15, 10))\n",
    "for i in range(3):\n",
    "    axes[0][i].imshow(mask[i,:,:,78],cmap='gray')\n",
    "for i in range(3):\n",
    "    axes[1][i].imshow(out['res=16'][0,i,:,:,78].sigmoid().gt(0.5).detach().cpu().numpy(),cmap='gray')\n",
    "plt.show()"
   ]
  },
  {
   "cell_type": "code",
   "execution_count": null,
   "metadata": {},
   "outputs": [],
   "source": []
  },
  {
   "cell_type": "code",
   "execution_count": null,
   "metadata": {},
   "outputs": [],
   "source": [
    "fig, axes = plt.subplots(nrows=1, ncols=4, figsize=(15, 5))\n",
    "axes[0].imshow(image[0,:,:,78],cmap='gray')\n",
    "axes[1].imshow(mask[0,:,:,78],cmap='gray')\n",
    "axes[2].imshow(mask[1,:,:,78],cmap='gray')\n",
    "axes[3].imshow(mask[2,:,:,78],cmap='gray')\n"
   ]
  },
  {
   "cell_type": "code",
   "execution_count": null,
   "metadata": {},
   "outputs": [],
   "source": [
    "model.hparams.extra_kwargs"
   ]
  },
  {
   "cell_type": "code",
   "execution_count": null,
   "metadata": {},
   "outputs": [],
   "source": [
    "model = model.to('cuda')\n",
    "image = image.to('cuda')\n",
    "image = image.unsqueeze(0)"
   ]
  },
  {
   "cell_type": "code",
   "execution_count": null,
   "metadata": {},
   "outputs": [],
   "source": [
    "with open('/home/sanyal/Projects/BraTS3DDiff/configs/data/brats23_patch_tumor_classify_diffusion.yaml') as f:\n",
    "    cfg = yaml.safe_load(f)\n",
    "cfg.pop('_target_')\n",
    "cfg['data_dir'] = '/home/sanyal/Projects/BraTS3DDiff/data/BraTS-Data/BraTS2023-GLI'\n",
    "cfg['batch_size'] = 1\n",
    "a = BraTSDataModule(**cfg)\n",
    "\n",
    "test_data = a.data_test\n",
    "val_data = a.data_val\n",
    "\n",
    "data = val_data.__getitem__(6)\n",
    "\n",
    "image, mask, fg, patch_tumor_labels = data['image'], data['mask'], data['foreground'], data['patch_tumor_labels']\n",
    "\n",
    "fig, axes = plt.subplots(nrows=1, ncols=4, figsize=(15, 5))\n",
    "axes[0].imshow(image[0,:,:,78],cmap='gray')\n",
    "axes[1].imshow(mask[0,:,:,78],cmap='gray')\n",
    "axes[2].imshow(mask[1,:,:,78],cmap='gray')\n",
    "axes[3].imshow(mask[2,:,:,78],cmap='gray')"
   ]
  },
  {
   "cell_type": "code",
   "execution_count": null,
   "metadata": {},
   "outputs": [],
   "source": [
    "with open('/home/sanyal/Projects/BraTS3DDiff/configs/data/brats23.yaml') as f:\n",
    "    cfg = yaml.safe_load(f)\n",
    "cfg.pop('_target_')\n",
    "cfg['data_dir'] = '/home/sanyal/Projects/BraTS3DDiff/data/BraTS-Data/BraTS2023-GLI'\n",
    "cfg['batch_size'] = 1\n",
    "a = BraTSDataModule(**cfg)\n",
    "\n",
    "test_data = a.data_test\n",
    "val_data = a.data_val\n",
    "\n",
    "data = val_data.__getitem__(6)\n",
    "\n",
    "image, mask, fg, patch_tumor_labels = data['image'], data['mask'], data['foreground'], data['patch_tumor_labels']\n",
    "\n",
    "fig, axes = plt.subplots(nrows=1, ncols=4, figsize=(15, 5))\n",
    "axes[0].imshow(image[0,:,:,78],cmap='gray')\n",
    "axes[1].imshow(mask[0,:,:,78],cmap='gray')\n",
    "axes[2].imshow(mask[1,:,:,78],cmap='gray')\n",
    "axes[3].imshow(mask[2,:,:,78],cmap='gray')"
   ]
  },
  {
   "cell_type": "code",
   "execution_count": null,
   "metadata": {},
   "outputs": [],
   "source": [
    "model = model.to('cuda')\n",
    "image = image.to('cuda')\n",
    "image = image.unsqueeze(0)"
   ]
  },
  {
   "cell_type": "code",
   "execution_count": null,
   "metadata": {},
   "outputs": [],
   "source": [
    "pred_mask = model.predict_seg_mask(image)['res=16']\n",
    "fig, axes = plt.subplots(nrows=1, ncols=3, figsize=(15, 5))\n",
    "pred_mask = pred_mask.sigmoid().gt(0.5).detach().cpu()\n",
    "axes[0].imshow(pred_mask[0,0,:,:,78],cmap='gray')\n",
    "axes[1].imshow(pred_mask[0,1,:,:,78],cmap='gray')\n",
    "axes[2].imshow(pred_mask[0,2,:,:,78],cmap='gray')"
   ]
  },
  {
   "cell_type": "code",
   "execution_count": null,
   "metadata": {},
   "outputs": [],
   "source": [
    "model = model.to('cuda')\n",
    "image = image.to('cuda')\n",
    "out = model.inferer(inputs=image.unsqueeze(0), network=model.predict_seg_mask)"
   ]
  },
  {
   "cell_type": "code",
   "execution_count": null,
   "metadata": {},
   "outputs": [],
   "source": [
    "fig, axes = plt.subplots(nrows=2, ncols=3, figsize=(15, 10))\n",
    "for i in range(3):\n",
    "    axes[0][i].imshow(mask[i,:,:,78],cmap='gray')\n",
    "for i in range(3):\n",
    "    axes[1][i].imshow(out['res=32'][0,i,:,:,78].sigmoid().gt(0.5).detach().cpu().numpy(),cmap='gray')\n",
    "plt.show()"
   ]
  },
  {
   "cell_type": "code",
   "execution_count": null,
   "metadata": {},
   "outputs": [],
   "source": [
    "fig, axes = plt.subplots(nrows=2, ncols=3, figsize=(15, 10))\n",
    "for i in range(3):\n",
    "    axes[0][i].imshow(mask[i,:,:,78],cmap='gray')\n",
    "for i in range(3):\n",
    "    axes[1][i].imshow(out['res=16'][0,i,:,:,78].sigmoid().gt(0.5).detach().cpu().numpy(),cmap='gray')\n",
    "plt.show()"
   ]
  },
  {
   "cell_type": "code",
   "execution_count": null,
   "metadata": {},
   "outputs": [],
   "source": [
    "out"
   ]
  }
 ],
 "metadata": {
  "kernelspec": {
   "display_name": "bratseg",
   "language": "python",
   "name": "python3"
  },
  "language_info": {
   "codemirror_mode": {
    "name": "ipython",
    "version": 3
   },
   "file_extension": ".py",
   "mimetype": "text/x-python",
   "name": "python",
   "nbconvert_exporter": "python",
   "pygments_lexer": "ipython3",
   "version": "3.10.14"
  }
 },
 "nbformat": 4,
 "nbformat_minor": 2
}
